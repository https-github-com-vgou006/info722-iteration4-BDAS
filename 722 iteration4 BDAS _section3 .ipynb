{
 "cells": [
  {
   "cell_type": "code",
   "execution_count": 284,
   "id": "ec0ead3b",
   "metadata": {},
   "outputs": [],
   "source": [
    "# Must be included at the beginning of each notebook. Remember to change the app name. \n",
    "import findspark\n",
    "findspark.init('/home/ubuntu/spark-3.2.1-bin-hadoop2.7')\n",
    "import pyspark\n",
    "from pyspark.sql import SparkSession\n",
    "spark = SparkSession.builder.appName('data_understanding').getOrCreate()"
   ]
  },
  {
   "cell_type": "code",
   "execution_count": 285,
   "id": "38eaaf41",
   "metadata": {},
   "outputs": [
    {
     "name": "stdout",
     "output_type": "stream",
     "text": [
      "+---+----------+-----------+----------+--------+---------+---------+----------+\n",
      "|Age|SystolicBP|DiastolicBP|bloodsugar|bodyTemp|heartRate|riskLevel|   comment|\n",
      "+---+----------+-----------+----------+--------+---------+---------+----------+\n",
      "| 25|       130|         80|      15.0|    98.0|       86|high risk|no comment|\n",
      "| 35|       140|         90|      13.0|    98.0|       70|high risk|no comment|\n",
      "| 29|        90|         70|       8.0|   100.0|       80|high risk|no comment|\n",
      "| 30|       140|         85|       7.0|    98.0|       70|high risk|no comment|\n",
      "| 35|       120|         60|       6.1|    98.0|       76| low risk|no comment|\n",
      "| 23|       140|         80|      7.01|    98.0|       70|high risk|no comment|\n",
      "| 23|       130|         70|      7.01|    98.0|       78| mid risk|no comment|\n",
      "| 35|        85|         60|      11.0|   102.0|       86|high risk|no comment|\n",
      "| 32|       120|         90|       6.9|    98.0|       70| mid risk|no comment|\n",
      "| 42|       130|         80|      18.0|    98.0|       70|high risk|no comment|\n",
      "| 23|        90|         60|      7.01|    98.0|       76| low risk|no comment|\n",
      "| 19|       120|         80|       7.0|    98.0|       70| mid risk|no comment|\n",
      "| 25|       110|         89|      7.01|    98.0|       77| low risk|no comment|\n",
      "| 20|       120|         75|      7.01|   100.0|       70| mid risk|no comment|\n",
      "| 48|       120|         80|      11.0|    98.0|       88| mid risk|no comment|\n",
      "| 15|       120|         80|      7.01|    98.0|       70| low risk|no comment|\n",
      "| 15|       110|         90|      7.02|    98.0|       70|     null|no comment|\n",
      "| 50|       140|         90|      15.0|    98.0|       90|high risk|no comment|\n",
      "| 25|       140|        100|      7.01|    98.0|       80|high risk|no comment|\n",
      "| 30|       120|         80|       6.9|   101.0|       76| mid risk|no comment|\n",
      "+---+----------+-----------+----------+--------+---------+---------+----------+\n",
      "only showing top 20 rows\n",
      "\n"
     ]
    }
   ],
   "source": [
    "# Use Spark to read in the Maternal Health csv file; you can infer csv schemas.\n",
    "data = spark.read.csv(\"Maternal Health Risk Data Set.csv\", inferSchema=True, header=True)\n",
    "data.show()"
   ]
  },
  {
   "cell_type": "code",
   "execution_count": 162,
   "id": "7a56e699",
   "metadata": {},
   "outputs": [
    {
     "name": "stdout",
     "output_type": "stream",
     "text": [
      "+--------+----------+-----------+----------+--------+---------+---------+----------+\n",
      "|     Age|SystolicBP|DiastolicBP|bloodsugar|bodyTemp|heartRate|riskLevel|   comment|\n",
      "+--------+----------+-----------+----------+--------+---------+---------+----------+\n",
      "|-9999999|       110|         65|       7.1|    96.0|       70| low risk|no comment|\n",
      "|    1000|       110|         65|       7.1|    96.0|       70| low risk|no comment|\n",
      "|      16|       120|         75|       7.9|    98.0|        7| low risk|no comment|\n",
      "|      16|       120|         75|       7.9|    98.0|        7| low risk|no comment|\n",
      "+--------+----------+-----------+----------+--------+---------+---------+----------+\n",
      "\n"
     ]
    }
   ],
   "source": [
    "data.filter((data['Age']==-9999999) | (data['Age']==1000) | (data['heartRate']==7)).show()"
   ]
  },
  {
   "cell_type": "code",
   "execution_count": 163,
   "id": "0075d8d5",
   "metadata": {},
   "outputs": [
    {
     "name": "stdout",
     "output_type": "stream",
     "text": [
      "+---+----------+-----------+----------+--------+---------+---------+\n",
      "|Age|SystolicBP|DiastolicBP|bloodsugar|bodyTemp|heartRate|riskLevel|\n",
      "+---+----------+-----------+----------+--------+---------+---------+\n",
      "| 25|       130|         80|      15.0|    98.0|       86|high risk|\n",
      "| 35|       140|         90|      13.0|    98.0|       70|high risk|\n",
      "| 29|        90|         70|       8.0|   100.0|       80|high risk|\n",
      "| 30|       140|         85|       7.0|    98.0|       70|high risk|\n",
      "| 35|       120|         60|       6.1|    98.0|       76| low risk|\n",
      "| 23|       140|         80|      7.01|    98.0|       70|high risk|\n",
      "| 23|       130|         70|      7.01|    98.0|       78| mid risk|\n",
      "| 35|        85|         60|      11.0|   102.0|       86|high risk|\n",
      "| 32|       120|         90|       6.9|    98.0|       70| mid risk|\n",
      "| 42|       130|         80|      18.0|    98.0|       70|high risk|\n",
      "| 23|        90|         60|      7.01|    98.0|       76| low risk|\n",
      "| 19|       120|         80|       7.0|    98.0|       70| mid risk|\n",
      "| 25|       110|         89|      7.01|    98.0|       77| low risk|\n",
      "| 20|       120|         75|      7.01|   100.0|       70| mid risk|\n",
      "| 48|       120|         80|      11.0|    98.0|       88| mid risk|\n",
      "| 15|       120|         80|      7.01|    98.0|       70| low risk|\n",
      "| 15|       110|         90|      7.02|    98.0|       70|     null|\n",
      "| 50|       140|         90|      15.0|    98.0|       90|high risk|\n",
      "| 25|       140|        100|      7.01|    98.0|       80|high risk|\n",
      "| 30|       120|         80|       6.9|   101.0|       76| mid risk|\n",
      "+---+----------+-----------+----------+--------+---------+---------+\n",
      "only showing top 20 rows\n",
      "\n"
     ]
    }
   ],
   "source": [
    "# drop the 'comment' column    \n",
    "data=data.drop('comment')\n",
    "data.show()"
   ]
  },
  {
   "cell_type": "code",
   "execution_count": 164,
   "id": "4f7856b8",
   "metadata": {},
   "outputs": [
    {
     "name": "stdout",
     "output_type": "stream",
     "text": [
      "+-------+------------------+------------------+------------------+------------------+-----------------+-----------------+\n",
      "|summary|               Age|        SystolicBP|       DiastolicBP|        bloodsugar|         bodyTemp|        heartRate|\n",
      "+-------+------------------+------------------+------------------+------------------+-----------------+-----------------+\n",
      "|  count|              1018|              1018|              1018|              1018|             1018|             1018|\n",
      "|   mean|-9792.494106090373|113.15618860510806|  76.4155206286837| 8.711758349705306|98.65461689587426|74.26522593320236|\n",
      "| stddev|313420.50358674483|18.349769141423746|13.877014050287782|3.2831447548609125|1.378812601251565|8.063318071767053|\n",
      "|    min|          -9999999|                70|                49|               6.0|             96.0|                7|\n",
      "|    max|              1000|               160|               100|              19.0|            103.0|               90|\n",
      "+-------+------------------+------------------+------------------+------------------+-----------------+-----------------+\n",
      "\n"
     ]
    }
   ],
   "source": [
    "data.describe('Age', 'SystolicBP', 'DiastolicBP', 'bloodsugar', 'bodyTemp', 'heartRate').show()\n"
   ]
  },
  {
   "cell_type": "code",
   "execution_count": 165,
   "id": "00a1d553",
   "metadata": {},
   "outputs": [
    {
     "name": "stdout",
     "output_type": "stream",
     "text": [
      "+---+----------+-----------+----------+--------+---------+---------+\n",
      "|Age|SystolicBP|DiastolicBP|bloodsugar|bodyTemp|heartRate|riskLevel|\n",
      "+---+----------+-----------+----------+--------+---------+---------+\n",
      "| 25|       130|         80|      15.0|    98.0|       86|high risk|\n",
      "| 35|       140|         90|      13.0|    98.0|       70|high risk|\n",
      "| 29|        90|         70|       8.0|   100.0|       80|high risk|\n",
      "| 30|       140|         85|       7.0|    98.0|       70|high risk|\n",
      "| 35|       120|         60|       6.1|    98.0|       76| low risk|\n",
      "| 23|       140|         80|      7.01|    98.0|       70|high risk|\n",
      "| 23|       130|         70|      7.01|    98.0|       78| mid risk|\n",
      "| 35|        85|         60|      11.0|   102.0|       86|high risk|\n",
      "| 32|       120|         90|       6.9|    98.0|       70| mid risk|\n",
      "| 42|       130|         80|      18.0|    98.0|       70|high risk|\n",
      "| 23|        90|         60|      7.01|    98.0|       76| low risk|\n",
      "| 19|       120|         80|       7.0|    98.0|       70| mid risk|\n",
      "| 25|       110|         89|      7.01|    98.0|       77| low risk|\n",
      "| 20|       120|         75|      7.01|   100.0|       70| mid risk|\n",
      "| 48|       120|         80|      11.0|    98.0|       88| mid risk|\n",
      "| 15|       120|         80|      7.01|    98.0|       70| low risk|\n",
      "| 50|       140|         90|      15.0|    98.0|       90|high risk|\n",
      "| 25|       140|        100|      7.01|    98.0|       80|high risk|\n",
      "| 30|       120|         80|       6.9|   101.0|       76| mid risk|\n",
      "| 10|        70|         50|       6.9|    98.0|       70| low risk|\n",
      "+---+----------+-----------+----------+--------+---------+---------+\n",
      "only showing top 20 rows\n",
      "\n"
     ]
    }
   ],
   "source": [
    "# delete row containing '\" \"'\n",
    "data=data.filter(data.riskLevel!=\" \")\n",
    "data.show()"
   ]
  },
  {
   "cell_type": "code",
   "execution_count": 166,
   "id": "24e490b8",
   "metadata": {},
   "outputs": [
    {
     "data": {
      "image/png": "[encoded data removed]",
      "text/plain": [
       "<Figure size 432x288 with 1 Axes>"
      ]
     },
     "metadata": {
      "needs_background": "light"
     },
     "output_type": "display_data"
    }
   ],
   "source": [
    "# visualise bar plot of 'Age'\n",
    "# Import the relevant Python libraries.\n",
    "import numpy as np\n",
    "import matplotlib.pyplot as plt\n",
    "%matplotlib inline\n",
    "\n",
    "# Convert 'Age' to an array using Numpy and plot it using pyplot. \n",
    "sysArr = np.array(data.select('Age').collect())\n",
    "plt.hist(sysArr)\n",
    "plt.xlabel('Age')\n",
    "plt.show()"
   ]
  },
  {
   "cell_type": "code",
   "execution_count": 167,
   "id": "184620c2",
   "metadata": {},
   "outputs": [
    {
     "name": "stderr",
     "output_type": "stream",
     "text": [
      "/home/ubuntu/.local/lib/python3.10/site-packages/seaborn/distributions.py:2619: FutureWarning: `distplot` is a deprecated function and will be removed in a future version. Please adapt your code to use either `displot` (a figure-level function with similar flexibility) or `histplot` (an axes-level function for histograms).\n",
      "  warnings.warn(msg, FutureWarning)\n"
     ]
    },
    {
     "data": {
      "text/plain": [
       "<AxesSubplot:xlabel='Age before cleaning', ylabel='Density'>"
      ]
     },
     "execution_count": 167,
     "metadata": {},
     "output_type": "execute_result"
    },
    {
     "data": {
      "image/png": "[encoded data removed]",
      "text/plain": [
       "<Figure size 432x288 with 1 Axes>"
      ]
     },
     "metadata": {
      "needs_background": "light"
     },
     "output_type": "display_data"
    }
   ],
   "source": [
    "import seaborn as sns\n",
    "sns.distplot(sysArr, axlabel='Age before cleaning')"
   ]
  },
  {
   "cell_type": "code",
   "execution_count": 168,
   "id": "8ac4d992",
   "metadata": {},
   "outputs": [
    {
     "data": {
      "image/png": "[encoded data removed]",
      "text/plain": [
       "<Figure size 432x288 with 1 Axes>"
      ]
     },
     "metadata": {
      "needs_background": "light"
     },
     "output_type": "display_data"
    }
   ],
   "source": [
    "# delete extreme 'Age' value rows\n",
    "data = data.filter(data.Age!=-9999999)\n",
    "# visualise bar plot of 'Age'\n",
    "# Convert 'Age' to an array using Numpy and plot it using pyplot. \n",
    "sysArr = np.array(data.select('Age').collect())\n",
    "plt.hist(sysArr)\n",
    "plt.xlabel('Age after exluding -9999999')\n",
    "plt.show()"
   ]
  },
  {
   "cell_type": "code",
   "execution_count": 169,
   "id": "db40c700",
   "metadata": {},
   "outputs": [
    {
     "data": {
      "image/png": "[encoded data removed]",
      "text/plain": [
       "<Figure size 432x288 with 1 Axes>"
      ]
     },
     "metadata": {
      "needs_background": "light"
     },
     "output_type": "display_data"
    }
   ],
   "source": [
    "data = data.filter(data.Age!=-1)\n",
    "# visualise bar plot of 'Age'\n",
    "# Convert 'Age' to an array using Numpy and plot it using pyplot. \n",
    "sysArr = np.array(data.select('Age').collect())\n",
    "plt.hist(sysArr)\n",
    "plt.xlabel('Age after exluding -1')\n",
    "plt.show()"
   ]
  },
  {
   "cell_type": "code",
   "execution_count": 170,
   "id": "75446272",
   "metadata": {},
   "outputs": [
    {
     "data": {
      "image/png": "[encoded data removed]",
      "text/plain": [
       "<Figure size 432x288 with 1 Axes>"
      ]
     },
     "metadata": {
      "needs_background": "light"
     },
     "output_type": "display_data"
    }
   ],
   "source": [
    "data = data.filter(data.Age!=1000)\n",
    "# visualise bar plot of 'Age'\n",
    "# Convert 'Age' to an array using Numpy and plot it using pyplot. \n",
    "sysArr = np.array(data.select('Age').collect())\n",
    "plt.hist(sysArr)\n",
    "plt.xlabel('Age after exluding 1000')\n",
    "plt.show()"
   ]
  },
  {
   "cell_type": "code",
   "execution_count": 171,
   "id": "ab872896",
   "metadata": {},
   "outputs": [
    {
     "name": "stdout",
     "output_type": "stream",
     "text": [
      "+---+----------+-----------+----------+--------+---------+---------+\n",
      "|Age|SystolicBP|DiastolicBP|bloodsugar|bodyTemp|heartRate|riskLevel|\n",
      "+---+----------+-----------+----------+--------+---------+---------+\n",
      "|-23|       130|         70|       6.9|    98.0|       70| mid risk|\n",
      "+---+----------+-----------+----------+--------+---------+---------+\n",
      "\n"
     ]
    }
   ],
   "source": [
    "# select 'Age' <= 0 or 'Age' > 100\n",
    "data.filter((data['Age']<=0) | (data['Age']>100)).show()"
   ]
  },
  {
   "cell_type": "code",
   "execution_count": 172,
   "id": "2bb8c557",
   "metadata": {},
   "outputs": [
    {
     "data": {
      "text/plain": [
       "[('Age', 'int')]"
      ]
     },
     "execution_count": 172,
     "metadata": {},
     "output_type": "execute_result"
    }
   ],
   "source": [
    "data.select('Age').dtypes"
   ]
  },
  {
   "cell_type": "code",
   "execution_count": 173,
   "id": "7c60c56b",
   "metadata": {},
   "outputs": [],
   "source": [
    "#Replace part of string with another string\n",
    "from pyspark.sql.functions import regexp_replace\n",
    "data = data.withColumn('Age', regexp_replace('Age', '-23', '23'))"
   ]
  },
  {
   "cell_type": "code",
   "execution_count": 174,
   "id": "6fc87e3d",
   "metadata": {},
   "outputs": [
    {
     "data": {
      "text/plain": [
       "[('Age', 'string')]"
      ]
     },
     "execution_count": 174,
     "metadata": {},
     "output_type": "execute_result"
    }
   ],
   "source": [
    "data.select('Age').dtypes"
   ]
  },
  {
   "cell_type": "code",
   "execution_count": 175,
   "id": "225c2380",
   "metadata": {},
   "outputs": [],
   "source": [
    "# Type cast string column to integer column in pyspark\n",
    "from pyspark.sql.types import IntegerType\n",
    "data = data.withColumn(\"Age\", data[\"Age\"].cast(IntegerType()))"
   ]
  },
  {
   "cell_type": "code",
   "execution_count": 176,
   "id": "90f7b17e",
   "metadata": {},
   "outputs": [
    {
     "data": {
      "text/plain": [
       "[('Age', 'int')]"
      ]
     },
     "execution_count": 176,
     "metadata": {},
     "output_type": "execute_result"
    }
   ],
   "source": [
    "data.select('Age').dtypes"
   ]
  },
  {
   "cell_type": "code",
   "execution_count": 177,
   "id": "1b484297",
   "metadata": {},
   "outputs": [
    {
     "name": "stdout",
     "output_type": "stream",
     "text": [
      "+---+----------+-----------+----------+--------+---------+---------+\n",
      "|Age|SystolicBP|DiastolicBP|bloodsugar|bodyTemp|heartRate|riskLevel|\n",
      "+---+----------+-----------+----------+--------+---------+---------+\n",
      "+---+----------+-----------+----------+--------+---------+---------+\n",
      "\n"
     ]
    }
   ],
   "source": [
    "data.filter(data.Age==-23).show()"
   ]
  },
  {
   "cell_type": "code",
   "execution_count": 178,
   "id": "d657ee50",
   "metadata": {},
   "outputs": [
    {
     "data": {
      "image/png": "[encoded data removed]",
      "text/plain": [
       "<Figure size 432x288 with 1 Axes>"
      ]
     },
     "metadata": {
      "needs_background": "light"
     },
     "output_type": "display_data"
    }
   ],
   "source": [
    "# visualise bar plot of 'Age'\n",
    "# Convert 'Age' to an array using Numpy and plot it using pyplot. \n",
    "sysArr = np.array(data.select('Age').collect())\n",
    "plt.hist(sysArr)\n",
    "plt.xlabel('Age after cleaning')\n",
    "plt.show()"
   ]
  },
  {
   "cell_type": "code",
   "execution_count": 179,
   "id": "f4fbf0d0",
   "metadata": {},
   "outputs": [
    {
     "name": "stderr",
     "output_type": "stream",
     "text": [
      "/home/ubuntu/.local/lib/python3.10/site-packages/seaborn/distributions.py:2619: FutureWarning: `distplot` is a deprecated function and will be removed in a future version. Please adapt your code to use either `displot` (a figure-level function with similar flexibility) or `histplot` (an axes-level function for histograms).\n",
      "  warnings.warn(msg, FutureWarning)\n"
     ]
    },
    {
     "data": {
      "text/plain": [
       "<AxesSubplot:xlabel='Age after cleaning', ylabel='Density'>"
      ]
     },
     "execution_count": 179,
     "metadata": {},
     "output_type": "execute_result"
    },
    {
     "data": {
      "image/png": "[encoded data removed]",
      "text/plain": [
       "<Figure size 432x288 with 1 Axes>"
      ]
     },
     "metadata": {
      "needs_background": "light"
     },
     "output_type": "display_data"
    }
   ],
   "source": [
    "sns.distplot(sysArr, axlabel='Age after cleaning')"
   ]
  },
  {
   "cell_type": "code",
   "execution_count": 180,
   "id": "f95bd66a",
   "metadata": {},
   "outputs": [
    {
     "name": "stdout",
     "output_type": "stream",
     "text": [
      "+-----------------+\n",
      "|         avg(Age)|\n",
      "+-----------------+\n",
      "|29.85404339250493|\n",
      "+-----------------+\n",
      "\n"
     ]
    }
   ],
   "source": [
    "# find average 'Age'\n",
    "data.agg({'Age': 'avg'}).show()"
   ]
  },
  {
   "cell_type": "code",
   "execution_count": 181,
   "id": "14a289ea",
   "metadata": {},
   "outputs": [
    {
     "name": "stderr",
     "output_type": "stream",
     "text": [
      "/home/ubuntu/.local/lib/python3.10/site-packages/seaborn/distributions.py:2619: FutureWarning: `distplot` is a deprecated function and will be removed in a future version. Please adapt your code to use either `displot` (a figure-level function with similar flexibility) or `histplot` (an axes-level function for histograms).\n",
      "  warnings.warn(msg, FutureWarning)\n"
     ]
    },
    {
     "data": {
      "text/plain": [
       "<AxesSubplot:xlabel='heartRate before cleaning', ylabel='Density'>"
      ]
     },
     "execution_count": 181,
     "metadata": {},
     "output_type": "execute_result"
    },
    {
     "data": {
      "image/png": "[encoded data removed]",
      "text/plain": [
       "<Figure size 432x288 with 1 Axes>"
      ]
     },
     "metadata": {
      "needs_background": "light"
     },
     "output_type": "display_data"
    }
   ],
   "source": [
    "# dist of 'heartRate before cleaning'\n",
    "sysArr = np.array(data.select('heartRate').collect())\n",
    "sns.distplot(sysArr, axlabel='heartRate before cleaning')"
   ]
  },
  {
   "cell_type": "code",
   "execution_count": 182,
   "id": "20da7baa",
   "metadata": {},
   "outputs": [],
   "source": [
    "# exclude extreme 'heartRate' values\n",
    "data = data.filter(data.heartRate!=7)"
   ]
  },
  {
   "cell_type": "code",
   "execution_count": 183,
   "id": "c28972d6",
   "metadata": {
    "scrolled": false
   },
   "outputs": [
    {
     "name": "stdout",
     "output_type": "stream",
     "text": [
      "+---+----------+-----------+----------+--------+---------+---------+\n",
      "|Age|SystolicBP|DiastolicBP|bloodsugar|bodyTemp|heartRate|riskLevel|\n",
      "+---+----------+-----------+----------+--------+---------+---------+\n",
      "+---+----------+-----------+----------+--------+---------+---------+\n",
      "\n"
     ]
    }
   ],
   "source": [
    "data.filter(data.heartRate==7).show()"
   ]
  },
  {
   "cell_type": "code",
   "execution_count": 184,
   "id": "8ffc75ab",
   "metadata": {},
   "outputs": [
    {
     "name": "stderr",
     "output_type": "stream",
     "text": [
      "/home/ubuntu/.local/lib/python3.10/site-packages/seaborn/distributions.py:2619: FutureWarning: `distplot` is a deprecated function and will be removed in a future version. Please adapt your code to use either `displot` (a figure-level function with similar flexibility) or `histplot` (an axes-level function for histograms).\n",
      "  warnings.warn(msg, FutureWarning)\n"
     ]
    },
    {
     "data": {
      "text/plain": [
       "<AxesSubplot:xlabel='heartRate after cleaning', ylabel='Density'>"
      ]
     },
     "execution_count": 184,
     "metadata": {},
     "output_type": "execute_result"
    },
    {
     "data": {
      "image/png": "[encoded data removed]",
      "text/plain": [
       "<Figure size 432x288 with 1 Axes>"
      ]
     },
     "metadata": {
      "needs_background": "light"
     },
     "output_type": "display_data"
    }
   ],
   "source": [
    "# dist of 'heartRate' after cleaning\n",
    "sysArr = np.array(data.select('heartRate').collect())\n",
    "sns.distplot(sysArr, axlabel='heartRate after cleaning')"
   ]
  },
  {
   "cell_type": "code",
   "execution_count": 185,
   "id": "d1fdc9ec",
   "metadata": {},
   "outputs": [
    {
     "name": "stdout",
     "output_type": "stream",
     "text": [
      "+-------+------------------+------------------+------------------+-----------------+------------------+-----------------+\n",
      "|summary|               Age|        SystolicBP|       DiastolicBP|       bloodsugar|          bodyTemp|        heartRate|\n",
      "+-------+------------------+------------------+------------------+-----------------+------------------+-----------------+\n",
      "|  count|              1012|              1012|              1012|             1012|              1012|             1012|\n",
      "|   mean|29.881422924901187|113.15513833992095| 76.43873517786561|8.719812252964427| 98.66442687747035|74.41501976284584|\n",
      "| stddev|13.458871325636034|18.400550546547663|13.897505329476102|3.291063983088068|1.3748192463115287|7.507180321494286|\n",
      "|    min|                10|                70|                49|              6.0|              96.0|               60|\n",
      "|    max|                70|               160|               100|             19.0|             103.0|               90|\n",
      "+-------+------------------+------------------+------------------+-----------------+------------------+-----------------+\n",
      "\n"
     ]
    }
   ],
   "source": [
    "# description after cleaning\n",
    "data.describe('Age', 'SystolicBP', 'DiastolicBP', 'bloodsugar', 'bodyTemp', 'heartRate').show()"
   ]
  },
  {
   "cell_type": "code",
   "execution_count": 186,
   "id": "8c43962b",
   "metadata": {},
   "outputs": [
    {
     "data": {
      "image/png": "[encoded data removed]",
      "text/plain": [
       "<Figure size 432x288 with 2 Axes>"
      ]
     },
     "metadata": {
      "needs_background": "light"
     },
     "output_type": "display_data"
    }
   ],
   "source": [
    "# Convert 'Age' to an array using Numpy and plot it using pyplot. \n",
    "aysArr = np.array(data.select('Age').collect())\n",
    "plt.subplot(1,2,1);\n",
    "plt.boxplot(aysArr)\n",
    "plt.xlabel('Age')\n",
    "\n",
    "# Convert 'heartRate' to an array using Numpy and plot it using pyplot. \n",
    "hysArr = np.array(data.select('heartRate').collect())\n",
    "plt.subplot(1,2,2)\n",
    "plt.boxplot(hysArr)\n",
    "plt.xlabel('heartRate')\n",
    "plt.show()"
   ]
  },
  {
   "cell_type": "code",
   "execution_count": 187,
   "id": "f03dab02",
   "metadata": {},
   "outputs": [
    {
     "name": "stdout",
     "output_type": "stream",
     "text": [
      "+---------+-----+\n",
      "|riskLevel|count|\n",
      "+---------+-----+\n",
      "|     High|    1|\n",
      "|      Low|    1|\n",
      "| low risk|  403|\n",
      "|low risk |    1|\n",
      "| MID RISK|    1|\n",
      "|HIGH RISK|    1|\n",
      "| mid risk|  333|\n",
      "|      Mid|    1|\n",
      "|mid risk |    1|\n",
      "|high risk|  269|\n",
      "+---------+-----+\n",
      "\n"
     ]
    }
   ],
   "source": [
    "data.groupby(['riskLevel']).count().show()"
   ]
  },
  {
   "cell_type": "code",
   "execution_count": 188,
   "id": "14382d4b",
   "metadata": {},
   "outputs": [
    {
     "data": {
      "text/plain": [
       "[('Age', 'int'),\n",
       " ('SystolicBP', 'int'),\n",
       " ('DiastolicBP', 'int'),\n",
       " ('bloodsugar', 'double'),\n",
       " ('bodyTemp', 'double'),\n",
       " ('heartRate', 'int'),\n",
       " ('riskLevel', 'string')]"
      ]
     },
     "execution_count": 188,
     "metadata": {},
     "output_type": "execute_result"
    }
   ],
   "source": [
    "data.select('*').dtypes"
   ]
  },
  {
   "cell_type": "code",
   "execution_count": 189,
   "id": "dadac016",
   "metadata": {},
   "outputs": [],
   "source": [
    "# Type cast in pyspark\n",
    "from pyspark.sql.types import *\n",
    "data=data.withColumn('Age', data['Age'].cast(DoubleType()))\n",
    "data=data.withColumn('SystolicBP', data['SystolicBP'].cast(DoubleType()))\n",
    "data = data.withColumn(\"DiastolicBP\", data[\"DiastolicBP\"].cast(DoubleType()))"
   ]
  },
  {
   "cell_type": "code",
   "execution_count": 190,
   "id": "fa9892ed",
   "metadata": {},
   "outputs": [
    {
     "data": {
      "text/plain": [
       "[('Age', 'double'),\n",
       " ('SystolicBP', 'double'),\n",
       " ('DiastolicBP', 'double'),\n",
       " ('bloodsugar', 'double'),\n",
       " ('bodyTemp', 'double'),\n",
       " ('heartRate', 'int'),\n",
       " ('riskLevel', 'string')]"
      ]
     },
     "execution_count": 190,
     "metadata": {},
     "output_type": "execute_result"
    }
   ],
   "source": [
    "data.select('*').dtypes"
   ]
  },
  {
   "cell_type": "code",
   "execution_count": 191,
   "id": "13c17da3",
   "metadata": {},
   "outputs": [
    {
     "name": "stdout",
     "output_type": "stream",
     "text": [
      "+---------+-----+\n",
      "|riskLevel|count|\n",
      "+---------+-----+\n",
      "|     High|    1|\n",
      "|      Low|    1|\n",
      "| low risk|  403|\n",
      "|low risk |    1|\n",
      "| MID RISK|    1|\n",
      "|HIGH RISK|    1|\n",
      "| mid risk|  333|\n",
      "|      Mid|    1|\n",
      "|mid risk |    1|\n",
      "|high risk|  269|\n",
      "+---------+-----+\n",
      "\n"
     ]
    }
   ],
   "source": [
    "data.groupby(['riskLevel']).count().show()"
   ]
  },
  {
   "cell_type": "code",
   "execution_count": 192,
   "id": "58c15bb6",
   "metadata": {},
   "outputs": [
    {
     "name": "stdout",
     "output_type": "stream",
     "text": [
      "+----+----------+-----------+----------+--------+---------+---------+\n",
      "| Age|SystolicBP|DiastolicBP|bloodsugar|bodyTemp|heartRate|riskLevel|\n",
      "+----+----------+-----------+----------+--------+---------+---------+\n",
      "|23.0|     100.0|       85.0|       7.1|    98.0|       66|      Low|\n",
      "+----+----------+-----------+----------+--------+---------+---------+\n",
      "\n"
     ]
    }
   ],
   "source": [
    "f=data.where(data.riskLevel.startswith('L'))\n",
    "f.show()"
   ]
  },
  {
   "cell_type": "code",
   "execution_count": 193,
   "id": "ca0461a5",
   "metadata": {},
   "outputs": [],
   "source": [
    "import pyspark.sql.functions as F\n",
    "\n",
    "for i in range(0,f.count()):\n",
    "    data=data.withColumn('riskLevel', F.regexp_replace('riskLevel', f.collect()[i]['riskLevel'], \"low risk\"))"
   ]
  },
  {
   "cell_type": "code",
   "execution_count": 194,
   "id": "b515dfc1",
   "metadata": {
    "scrolled": true
   },
   "outputs": [
    {
     "name": "stdout",
     "output_type": "stream",
     "text": [
      "+---------+-----+\n",
      "|riskLevel|count|\n",
      "+---------+-----+\n",
      "|     High|    1|\n",
      "| low risk|  404|\n",
      "|low risk |    1|\n",
      "| MID RISK|    1|\n",
      "|HIGH RISK|    1|\n",
      "| mid risk|  333|\n",
      "|      Mid|    1|\n",
      "|mid risk |    1|\n",
      "|high risk|  269|\n",
      "+---------+-----+\n",
      "\n"
     ]
    }
   ],
   "source": [
    "data.groupby('riskLevel').count().show()"
   ]
  },
  {
   "cell_type": "code",
   "execution_count": 195,
   "id": "46e1ae15",
   "metadata": {},
   "outputs": [
    {
     "name": "stdout",
     "output_type": "stream",
     "text": [
      "+----+----------+-----------+----------+--------+---------+---------+\n",
      "| Age|SystolicBP|DiastolicBP|bloodsugar|bodyTemp|heartRate|riskLevel|\n",
      "+----+----------+-----------+----------+--------+---------+---------+\n",
      "|44.0|     120.0|       90.0|      16.0|    98.0|       80| MID RISK|\n",
      "|29.0|     130.0|       70.0|       7.5|    98.0|       78|      Mid|\n",
      "+----+----------+-----------+----------+--------+---------+---------+\n",
      "\n"
     ]
    }
   ],
   "source": [
    "f=data.where(data.riskLevel.startswith('M'))\n",
    "f.show()"
   ]
  },
  {
   "cell_type": "code",
   "execution_count": 196,
   "id": "df80fe6d",
   "metadata": {},
   "outputs": [],
   "source": [
    "for i in range(0, f.count()):\n",
    "    data=data.withColumn('riskLevel',\n",
    "                     F.regexp_replace('riskLevel', f.collect()[i]['riskLevel'], 'mid risk')) "
   ]
  },
  {
   "cell_type": "code",
   "execution_count": 197,
   "id": "a543e866",
   "metadata": {},
   "outputs": [
    {
     "name": "stdout",
     "output_type": "stream",
     "text": [
      "+---------+-----+\n",
      "|riskLevel|count|\n",
      "+---------+-----+\n",
      "|     High|    1|\n",
      "| low risk|  404|\n",
      "|low risk |    1|\n",
      "|HIGH RISK|    1|\n",
      "| mid risk|  335|\n",
      "|mid risk |    1|\n",
      "|high risk|  269|\n",
      "+---------+-----+\n",
      "\n"
     ]
    }
   ],
   "source": [
    "data.groupby('riskLevel').count().show()"
   ]
  },
  {
   "cell_type": "code",
   "execution_count": 198,
   "id": "1e879c1c",
   "metadata": {},
   "outputs": [
    {
     "name": "stdout",
     "output_type": "stream",
     "text": [
      "+----+----------+-----------+----------+--------+---------+---------+\n",
      "| Age|SystolicBP|DiastolicBP|bloodsugar|bodyTemp|heartRate|riskLevel|\n",
      "+----+----------+-----------+----------+--------+---------+---------+\n",
      "|34.0|      85.0|       60.0|      11.0|   102.0|       86|HIGH RISK|\n",
      "|63.0|     140.0|       90.0|      15.0|    98.0|       90|     High|\n",
      "+----+----------+-----------+----------+--------+---------+---------+\n",
      "\n"
     ]
    }
   ],
   "source": [
    "f=data.where(data.riskLevel.startswith('H'))\n",
    "f.show()"
   ]
  },
  {
   "cell_type": "code",
   "execution_count": 199,
   "id": "0638ae8f",
   "metadata": {},
   "outputs": [],
   "source": [
    "for i in range(0,f.count()):\n",
    "    data=data.withColumn('riskLevel',\n",
    "                     F.regexp_replace('riskLevel', f.collect()[i]['riskLevel'], 'high risk')) "
   ]
  },
  {
   "cell_type": "code",
   "execution_count": 200,
   "id": "a732ad8c",
   "metadata": {},
   "outputs": [
    {
     "name": "stdout",
     "output_type": "stream",
     "text": [
      "+---------+-----+\n",
      "|riskLevel|count|\n",
      "+---------+-----+\n",
      "| low risk|  404|\n",
      "|low risk |    1|\n",
      "| mid risk|  335|\n",
      "|mid risk |    1|\n",
      "|high risk|  271|\n",
      "+---------+-----+\n",
      "\n"
     ]
    }
   ],
   "source": [
    "data.groupby(['riskLevel']).count().show()"
   ]
  },
  {
   "cell_type": "code",
   "execution_count": 201,
   "id": "c1848b36",
   "metadata": {},
   "outputs": [
    {
     "name": "stdout",
     "output_type": "stream",
     "text": [
      "+---------+-----+\n",
      "|riskLevel|count|\n",
      "+---------+-----+\n",
      "| low risk|  405|\n",
      "| mid risk|  336|\n",
      "|high risk|  271|\n",
      "+---------+-----+\n",
      "\n"
     ]
    }
   ],
   "source": [
    "# Remove leading space of the column in pyspark\n",
    "data=data.withColumn('riskLevel', F.trim(data.riskLevel))\n",
    "data.groupby(['riskLevel']).count().show()"
   ]
  },
  {
   "cell_type": "code",
   "execution_count": 202,
   "id": "ccfaf45b",
   "metadata": {},
   "outputs": [
    {
     "data": {
      "text/plain": [
       "<BarContainer object of 3 artists>"
      ]
     },
     "execution_count": 202,
     "metadata": {},
     "output_type": "execute_result"
    },
    {
     "data": {
      "image/png": "[encoded data removed]",
      "text/plain": [
       "<Figure size 432x288 with 1 Axes>"
      ]
     },
     "metadata": {
      "needs_background": "light"
     },
     "output_type": "display_data"
    }
   ],
   "source": [
    "df=data.groupby('riskLevel').count()\n",
    "df=df.toPandas()\n",
    "plt.bar(df['riskLevel'].values, df['count'].values, color=['red','green','blue'])"
   ]
  },
  {
   "cell_type": "code",
   "execution_count": 203,
   "id": "251ada7e",
   "metadata": {},
   "outputs": [],
   "source": [
    "from pyspark.ml.feature import StringIndexer\n",
    "\n",
    "indexer = StringIndexer(inputCol=\"riskLevel\", outputCol=\"riskLevelIndex\")\n",
    "data = indexer.fit(data).transform(data)"
   ]
  },
  {
   "cell_type": "code",
   "execution_count": 204,
   "id": "b2f6d4b9",
   "metadata": {},
   "outputs": [
    {
     "name": "stdout",
     "output_type": "stream",
     "text": [
      "+---------+-----+\n",
      "|riskLevel|count|\n",
      "+---------+-----+\n",
      "| low risk|  405|\n",
      "| mid risk|  336|\n",
      "|high risk|  271|\n",
      "+---------+-----+\n",
      "\n"
     ]
    }
   ],
   "source": [
    "data.groupby('riskLevel').count().show()"
   ]
  },
  {
   "cell_type": "code",
   "execution_count": 205,
   "id": "563174ec",
   "metadata": {},
   "outputs": [
    {
     "name": "stdout",
     "output_type": "stream",
     "text": [
      "+--------------+-----+\n",
      "|riskLevelIndex|count|\n",
      "+--------------+-----+\n",
      "|           0.0|  405|\n",
      "|           1.0|  336|\n",
      "|           2.0|  271|\n",
      "+--------------+-----+\n",
      "\n"
     ]
    }
   ],
   "source": [
    "data.groupby('riskLevelIndex').count().show()"
   ]
  },
  {
   "cell_type": "code",
   "execution_count": 206,
   "id": "e0f7faf4",
   "metadata": {},
   "outputs": [
    {
     "data": {
      "text/plain": [
       "['Age',\n",
       " 'SystolicBP',\n",
       " 'DiastolicBP',\n",
       " 'bloodsugar',\n",
       " 'bodyTemp',\n",
       " 'heartRate',\n",
       " 'riskLevel',\n",
       " 'riskLevelIndex']"
      ]
     },
     "execution_count": 206,
     "metadata": {},
     "output_type": "execute_result"
    }
   ],
   "source": [
    "data.columns"
   ]
  },
  {
   "cell_type": "code",
   "execution_count": 207,
   "id": "ea27bb74",
   "metadata": {},
   "outputs": [],
   "source": [
    "data=data.withColumnRenamed('bloodsugar', 'BS').withColumnRenamed('bodyTemp', 'BodyTemp')\n",
    "data=data.withColumnRenamed('heartRate', 'HeartRate').withColumnRenamed('riskLevel', 'RiskLevel')\n",
    "data=data.withColumnRenamed('riskLevelIndex', 'RiskLevelIndex')"
   ]
  },
  {
   "cell_type": "code",
   "execution_count": 208,
   "id": "9011c683",
   "metadata": {},
   "outputs": [
    {
     "data": {
      "text/plain": [
       "['Age',\n",
       " 'SystolicBP',\n",
       " 'DiastolicBP',\n",
       " 'BS',\n",
       " 'BodyTemp',\n",
       " 'HeartRate',\n",
       " 'RiskLevel',\n",
       " 'RiskLevelIndex']"
      ]
     },
     "execution_count": 208,
     "metadata": {},
     "output_type": "execute_result"
    }
   ],
   "source": [
    "data.columns"
   ]
  },
  {
   "cell_type": "code",
   "execution_count": 209,
   "id": "26972528",
   "metadata": {},
   "outputs": [
    {
     "data": {
      "text/plain": [
       "[('Age', 'double'),\n",
       " ('SystolicBP', 'double'),\n",
       " ('DiastolicBP', 'double'),\n",
       " ('BS', 'double'),\n",
       " ('BodyTemp', 'double'),\n",
       " ('HeartRate', 'int'),\n",
       " ('RiskLevel', 'string'),\n",
       " ('RiskLevelIndex', 'double')]"
      ]
     },
     "execution_count": 209,
     "metadata": {},
     "output_type": "execute_result"
    }
   ],
   "source": [
    "data.select('*').dtypes"
   ]
  },
  {
   "cell_type": "code",
   "execution_count": 210,
   "id": "6b8a3988",
   "metadata": {},
   "outputs": [],
   "source": [
    "# data type cast in pyspark\n",
    "data=data.withColumn('RiskLevelIndex', data['RiskLevelIndex'].cast(IntegerType()))"
   ]
  },
  {
   "cell_type": "code",
   "execution_count": 211,
   "id": "6bd70676",
   "metadata": {},
   "outputs": [
    {
     "data": {
      "text/plain": [
       "[('Age', 'double'),\n",
       " ('SystolicBP', 'double'),\n",
       " ('DiastolicBP', 'double'),\n",
       " ('BS', 'double'),\n",
       " ('BodyTemp', 'double'),\n",
       " ('HeartRate', 'int'),\n",
       " ('RiskLevel', 'string'),\n",
       " ('RiskLevelIndex', 'int')]"
      ]
     },
     "execution_count": 211,
     "metadata": {},
     "output_type": "execute_result"
    }
   ],
   "source": [
    "data.select('*').dtypes"
   ]
  },
  {
   "cell_type": "code",
   "execution_count": 212,
   "id": "ff981b80",
   "metadata": {},
   "outputs": [],
   "source": [
    "from pyspark.ml.feature import VectorAssembler\n",
    "\n",
    "assembler = VectorAssembler(\n",
    "    inputCols=['Age','SystolicBP','DiastolicBP','BS','BodyTemp','HeartRate'],\n",
    "    outputCol=\"features\")"
   ]
  },
  {
   "cell_type": "code",
   "execution_count": 213,
   "id": "0ac20f9d",
   "metadata": {},
   "outputs": [
    {
     "name": "stdout",
     "output_type": "stream",
     "text": [
      "+----+----------+-----------+----+--------+---------+---------+--------------+--------------------+\n",
      "| Age|SystolicBP|DiastolicBP|  BS|BodyTemp|HeartRate|RiskLevel|RiskLevelIndex|            features|\n",
      "+----+----------+-----------+----+--------+---------+---------+--------------+--------------------+\n",
      "|25.0|     130.0|       80.0|15.0|    98.0|       86|high risk|             2|[25.0,130.0,80.0,...|\n",
      "|35.0|     140.0|       90.0|13.0|    98.0|       70|high risk|             2|[35.0,140.0,90.0,...|\n",
      "|29.0|      90.0|       70.0| 8.0|   100.0|       80|high risk|             2|[29.0,90.0,70.0,8...|\n",
      "|30.0|     140.0|       85.0| 7.0|    98.0|       70|high risk|             2|[30.0,140.0,85.0,...|\n",
      "|35.0|     120.0|       60.0| 6.1|    98.0|       76| low risk|             0|[35.0,120.0,60.0,...|\n",
      "+----+----------+-----------+----+--------+---------+---------+--------------+--------------------+\n",
      "only showing top 5 rows\n",
      "\n"
     ]
    }
   ],
   "source": [
    "data=assembler.transform(data)\n",
    "data.show(5)"
   ]
  },
  {
   "cell_type": "code",
   "execution_count": 214,
   "id": "4d91690e",
   "metadata": {},
   "outputs": [
    {
     "data": {
      "text/html": [
       "<div>\n",
       "<style scoped>\n",
       "    .dataframe tbody tr th:only-of-type {\n",
       "        vertical-align: middle;\n",
       "    }\n",
       "\n",
       "    .dataframe tbody tr th {\n",
       "        vertical-align: top;\n",
       "    }\n",
       "\n",
       "    .dataframe thead th {\n",
       "        text-align: right;\n",
       "    }\n",
       "</style>\n",
       "<table border=\"1\" class=\"dataframe\">\n",
       "  <thead>\n",
       "    <tr style=\"text-align: right;\">\n",
       "      <th></th>\n",
       "      <th>RiskLevelIndex</th>\n",
       "    </tr>\n",
       "  </thead>\n",
       "  <tbody>\n",
       "    <tr>\n",
       "      <th>0</th>\n",
       "      <td>2</td>\n",
       "    </tr>\n",
       "    <tr>\n",
       "      <th>1</th>\n",
       "      <td>2</td>\n",
       "    </tr>\n",
       "    <tr>\n",
       "      <th>2</th>\n",
       "      <td>2</td>\n",
       "    </tr>\n",
       "    <tr>\n",
       "      <th>3</th>\n",
       "      <td>2</td>\n",
       "    </tr>\n",
       "    <tr>\n",
       "      <th>4</th>\n",
       "      <td>0</td>\n",
       "    </tr>\n",
       "  </tbody>\n",
       "</table>\n",
       "</div>"
      ],
      "text/plain": [
       "   RiskLevelIndex\n",
       "0               2\n",
       "1               2\n",
       "2               2\n",
       "3               2\n",
       "4               0"
      ]
     },
     "execution_count": 214,
     "metadata": {},
     "output_type": "execute_result"
    }
   ],
   "source": [
    "target=data.select(['RiskLevelIndex']).toPandas()\n",
    "target[0:5]"
   ]
  },
  {
   "cell_type": "code",
   "execution_count": 215,
   "id": "e7b28716",
   "metadata": {},
   "outputs": [],
   "source": [
    "from pyspark.ml.feature import StandardScaler\n",
    "standardScaler=StandardScaler()\n",
    "\n",
    "standardScaler.setInputCol('features')\n",
    "model=standardScaler.fit(data)\n",
    "model.setOutputCol('features_scaled')\n",
    "data=model.transform(data)"
   ]
  },
  {
   "cell_type": "code",
   "execution_count": 225,
   "id": "bd256bc4",
   "metadata": {},
   "outputs": [
    {
     "name": "stdout",
     "output_type": "stream",
     "text": [
      "+--------------------------------+\n",
      "|features                        |\n",
      "+--------------------------------+\n",
      "|[25.0,130.0,80.0,15.0,98.0,86.0]|\n",
      "|[35.0,140.0,90.0,13.0,98.0,70.0]|\n",
      "|[29.0,90.0,70.0,8.0,100.0,80.0] |\n",
      "|[30.0,140.0,85.0,7.0,98.0,70.0] |\n",
      "|[35.0,120.0,60.0,6.1,98.0,76.0] |\n",
      "+--------------------------------+\n",
      "only showing top 5 rows\n",
      "\n"
     ]
    }
   ],
   "source": [
    "data.select('features').show(5, truncate=False)"
   ]
  },
  {
   "cell_type": "code",
   "execution_count": 226,
   "id": "d956692a",
   "metadata": {},
   "outputs": [
    {
     "name": "stdout",
     "output_type": "stream",
     "text": [
      "+----------------------------------------------------------------------------------------------------------------+\n",
      "|features_scaled                                                                                                 |\n",
      "+----------------------------------------------------------------------------------------------------------------+\n",
      "|[1.8575108859522855,7.065005999203148,5.75642880527075,4.557796529353772,71.28209781971117,11.455699252856354]  |\n",
      "|[2.6005152403331997,7.608467999141851,6.475982405929594,3.9500903254399353,71.28209781971117,9.32440636860401]  |\n",
      "|[2.1547126277046513,4.891157999448333,5.036875204611906,2.430824815655345,72.73683450990936,10.656464421261724] |\n",
      "|[2.2290130631427427,7.608467999141851,6.116205605600172,2.1269717136984267,71.28209781971117,9.32440636860401]  |\n",
      "|[2.6005152403331997,6.521543999264444,4.317321603953062,1.8535039219372005,71.28209781971117,10.123641200198637]|\n",
      "+----------------------------------------------------------------------------------------------------------------+\n",
      "only showing top 5 rows\n",
      "\n"
     ]
    }
   ],
   "source": [
    "data.select('features_scaled').show(5, truncate=False)"
   ]
  },
  {
   "cell_type": "code",
   "execution_count": 229,
   "id": "af7d79d7",
   "metadata": {},
   "outputs": [
    {
     "name": "stderr",
     "output_type": "stream",
     "text": [
      "/home/ubuntu/.local/lib/python3.10/site-packages/seaborn/distributions.py:2619: FutureWarning: `distplot` is a deprecated function and will be removed in a future version. Please adapt your code to use either `displot` (a figure-level function with similar flexibility) or `histplot` (an axes-level function for histograms).\n",
      "  warnings.warn(msg, FutureWarning)\n"
     ]
    },
    {
     "data": {
      "text/plain": [
       "<AxesSubplot:xlabel='Age', ylabel='Density'>"
      ]
     },
     "execution_count": 229,
     "metadata": {},
     "output_type": "execute_result"
    },
    {
     "data": {
      "image/png": "[encoded data removed]",
      "text/plain": [
       "<Figure size 842.4x576 with 1 Axes>"
      ]
     },
     "metadata": {},
     "output_type": "display_data"
    }
   ],
   "source": [
    "# visualise bar plot of 'Age'\n",
    "# Convert 'Age' to an array using Numpy and plot it using pyplot. \n",
    "sns.set(style='whitegrid', color_codes=True)\n",
    "sns.set(rc={'figure.figsize': (11.7, 8)})\n",
    "sysArr = np.array(data.select('Age').collect())\n",
    "sns.distplot(sysArr, axlabel='Age')"
   ]
  },
  {
   "cell_type": "code",
   "execution_count": 238,
   "id": "a02fbd90",
   "metadata": {},
   "outputs": [
    {
     "name": "stderr",
     "output_type": "stream",
     "text": [
      "/home/ubuntu/.local/lib/python3.10/site-packages/seaborn/distributions.py:2619: FutureWarning: `distplot` is a deprecated function and will be removed in a future version. Please adapt your code to use either `displot` (a figure-level function with similar flexibility) or `histplot` (an axes-level function for histograms).\n",
      "  warnings.warn(msg, FutureWarning)\n"
     ]
    },
    {
     "data": {
      "text/plain": [
       "<matplotlib.lines.Line2D at 0x7fab2c70eec0>"
      ]
     },
     "execution_count": 238,
     "metadata": {},
     "output_type": "execute_result"
    },
    {
     "data": {
      "image/png": "[encoded data removed]",
      "text/plain": [
       "<Figure size 842.4x576 with 1 Axes>"
      ]
     },
     "metadata": {},
     "output_type": "display_data"
    }
   ],
   "source": [
    "# distribution plot\n",
    "sysArr = np.array(data.select('Age').collect())\n",
    "sns.distplot(sysArr, axlabel='Age')\n",
    "#  Draw vertical line with values\n",
    "plt.axvline(25, color='red')\n",
    "plt.axvline(40, color='red')\n",
    "plt.axvline(55, color='red')"
   ]
  },
  {
   "cell_type": "code",
   "execution_count": 260,
   "id": "9bc1b97d",
   "metadata": {},
   "outputs": [
    {
     "name": "stdout",
     "output_type": "stream",
     "text": [
      "+-------------+-----+\n",
      "|     Age_Tier|count|\n",
      "+-------------+-----+\n",
      "|   Middle_Age|  182|\n",
      "|        Young|  636|\n",
      "|Matured_Young|  194|\n",
      "+-------------+-----+\n",
      "\n"
     ]
    }
   ],
   "source": [
    "from pyspark.ml.feature import Bucketizer\n",
    "from pyspark.sql.functions import udf\n",
    "from pyspark.sql.types import *\n",
    "\n",
    "bucketizer = Bucketizer(splits=[ float('-inf'), 31.5, 45, float('Inf') ],\n",
    "                        inputCol='Age', outputCol=\"Age_Tier\")\n",
    "\n",
    "df_buck = bucketizer.setHandleInvalid(\"keep\").transform(data)\n",
    "\n",
    "t = {0.0:\"Young\", 1.0: \"Matured_Young\", 2.0:\"Middle_Age\"}\n",
    "udf_foo = udf(lambda x: t[x], StringType())\n",
    "df_buck=df_buck.withColumn(\"Age_Tier\", udf_foo(\"Age_Tier\"))\n",
    "df_buck.groupby('Age_Tier').count().show()"
   ]
  },
  {
   "cell_type": "code",
   "execution_count": 264,
   "id": "4fc22bed",
   "metadata": {},
   "outputs": [
    {
     "data": {
      "text/plain": [
       "Text(0.5, 0, 'Age_Tier')"
      ]
     },
     "execution_count": 264,
     "metadata": {},
     "output_type": "execute_result"
    },
    {
     "data": {
      "image/png": "[encoded data removed]",
      "text/plain": [
       "<Figure size 504x360 with 1 Axes>"
      ]
     },
     "metadata": {},
     "output_type": "display_data"
    }
   ],
   "source": [
    "# Plot 'Age_Tier'\n",
    "df_buck=df_buck.groupby('Age_Tier').count()\n",
    "df_buck=df_buck.toPandas()\n",
    "plt.bar(df_buck['Age_Tier'].values, df_buck['count'].values, color=['red', 'green', 'blue'])\n",
    "\n",
    "plt.xlabel('Age_Tier')"
   ]
  },
  {
   "cell_type": "code",
   "execution_count": 283,
   "id": "823cdbe6",
   "metadata": {},
   "outputs": [
    {
     "name": "stdout",
     "output_type": "stream",
     "text": [
      "+----+----------+-----------+----+--------+---------+---------+--------------+----------------------------------------------------------------------------------------------------------------+\n",
      "|Age |SystolicBP|DiastolicBP|BS  |BodyTemp|HeartRate|RiskLevel|RiskLevelIndex|features_scaled                                                                                                 |\n",
      "+----+----------+-----------+----+--------+---------+---------+--------------+----------------------------------------------------------------------------------------------------------------+\n",
      "|25.0|130.0     |80.0       |15.0|98.0    |86       |high risk|2             |[1.8575108859522855,7.065005999203148,5.75642880527075,4.557796529353772,71.28209781971117,11.455699252856354]  |\n",
      "|35.0|140.0     |90.0       |13.0|98.0    |70       |high risk|2             |[2.6005152403331997,7.608467999141851,6.475982405929594,3.9500903254399353,71.28209781971117,9.32440636860401]  |\n",
      "|29.0|90.0      |70.0       |8.0 |100.0   |80       |high risk|2             |[2.1547126277046513,4.891157999448333,5.036875204611906,2.430824815655345,72.73683450990936,10.656464421261724] |\n",
      "|30.0|140.0     |85.0       |7.0 |98.0    |70       |high risk|2             |[2.2290130631427427,7.608467999141851,6.116205605600172,2.1269717136984267,71.28209781971117,9.32440636860401]  |\n",
      "|35.0|120.0     |60.0       |6.1 |98.0    |76       |low risk |0             |[2.6005152403331997,6.521543999264444,4.317321603953062,1.8535039219372005,71.28209781971117,10.123641200198637]|\n",
      "+----+----------+-----------+----+--------+---------+---------+--------------+----------------------------------------------------------------------------------------------------------------+\n",
      "only showing top 5 rows\n",
      "\n"
     ]
    }
   ],
   "source": [
    "data=data.drop('features')\n",
    "data.show(5, truncate=False)"
   ]
  },
  {
   "cell_type": "code",
   "execution_count": 289,
   "id": "7d24ae58",
   "metadata": {},
   "outputs": [
    {
     "name": "stdout",
     "output_type": "stream",
     "text": [
      "+----+----------+-----------+----+--------+---------+---------+--------------+--------------------------------+----------------------------------------------------------------------------------------------------------------+\n",
      "|Age |SystolicBP|DiastolicBP|BS  |BodyTemp|HeartRate|RiskLevel|RiskLevelIndex|features                        |features_scaled                                                                                                 |\n",
      "+----+----------+-----------+----+--------+---------+---------+--------------+--------------------------------+----------------------------------------------------------------------------------------------------------------+\n",
      "|25.0|130.0     |80.0       |15.0|98.0    |86       |high risk|2             |[25.0,130.0,80.0,15.0,98.0,86.0]|[1.8575108859522855,7.065005999203148,5.75642880527075,4.557796529353772,71.28209781971117,11.455699252856354]  |\n",
      "|35.0|140.0     |90.0       |13.0|98.0    |70       |high risk|2             |[35.0,140.0,90.0,13.0,98.0,70.0]|[2.6005152403331997,7.608467999141851,6.475982405929594,3.9500903254399353,71.28209781971117,9.32440636860401]  |\n",
      "|29.0|90.0      |70.0       |8.0 |100.0   |80       |high risk|2             |[29.0,90.0,70.0,8.0,100.0,80.0] |[2.1547126277046513,4.891157999448333,5.036875204611906,2.430824815655345,72.73683450990936,10.656464421261724] |\n",
      "|30.0|140.0     |85.0       |7.0 |98.0    |70       |high risk|2             |[30.0,140.0,85.0,7.0,98.0,70.0] |[2.2290130631427427,7.608467999141851,6.116205605600172,2.1269717136984267,71.28209781971117,9.32440636860401]  |\n",
      "|35.0|120.0     |60.0       |6.1 |98.0    |76       |low risk |0             |[35.0,120.0,60.0,6.1,98.0,76.0] |[2.6005152403331997,6.521543999264444,4.317321603953062,1.8535039219372005,71.28209781971117,10.123641200198637]|\n",
      "+----+----------+-----------+----+--------+---------+---------+--------------+--------------------------------+----------------------------------------------------------------------------------------------------------------+\n",
      "only showing top 5 rows\n",
      "\n"
     ]
    }
   ],
   "source": [
    "# Import the relevant Python libraries.\n",
    "import numpy as np\n",
    "import matplotlib.pyplot as plt\n",
    "from pyspark.sql.functions import regexp_replace, udf\n",
    "from pyspark.sql.types import IntegerType\n",
    "from pyspark.sql.types import *\n",
    "import pyspark.sql.functions as F\n",
    "from pyspark.ml.feature import StringIndexer, VectorAssembler, StandardScaler, Bucketizer \n",
    "\n",
    "def data_prep(data):\n",
    "    #######3.1\n",
    "    data.filter((data['Age']==-9999999) | (data['Age']==1000) | (data['heartRate']==7))\n",
    "    # drop the 'comment' column    \n",
    "    data=data.drop('comment')\n",
    "    #######3.2.1\n",
    "    # delete row containing '\" \"'\n",
    "    data=data.filter(data.riskLevel!=\" \")\n",
    "    # delete extreme 'Age' value rows\n",
    "    data = data.filter(data.Age!=-9999999)\n",
    "    data = data.filter(data.Age!=-1)\n",
    "    data = data.filter(data.Age!=1000)\n",
    "    #Replace part of string with another string\n",
    "    data = data.withColumn('Age', regexp_replace('Age', '-23', '23'))\n",
    "    # Type cast string column to integer column in pyspark\n",
    "    data = data.withColumn(\"Age\", data[\"Age\"].cast(IntegerType()))\n",
    "    # find average 'Age'\n",
    "    data.agg({'Age': 'avg'})\n",
    "    # exclude extreme 'heartRate' values\n",
    "    data = data.filter(data.heartRate!=7)\n",
    "    ##########3.2.2 Convert data types\n",
    "    # Type cast in pyspark\n",
    "    data=data.withColumn('Age', data['Age'].cast(DoubleType()))\n",
    "    data=data.withColumn('SystolicBP', data['SystolicBP'].cast(DoubleType()))\n",
    "    data = data.withColumn(\"DiastolicBP\", data[\"DiastolicBP\"].cast(DoubleType()))\n",
    "    ##########3.2.3 'riskLevel' coding scheme\n",
    "    # reclassify into \"low risk\" class\n",
    "    f=data.where(data.riskLevel.startswith('L'))\n",
    "    for i in range(0,f.count()):\n",
    "        data=data.withColumn('riskLevel', F.regexp_replace('riskLevel', f.collect()[i]['riskLevel'], \"low risk\"))\n",
    "    # reclassify into \"mid risk\" class\n",
    "    f=data.where(data.riskLevel.startswith('M'))\n",
    "    for i in range(0, f.count()):\n",
    "        data=data.withColumn('riskLevel',\n",
    "                     F.regexp_replace('riskLevel', f.collect()[i]['riskLevel'], 'mid risk'))\n",
    "    # reclassify into \"high risk\" class\n",
    "    f=data.where(data.riskLevel.startswith('H'))\n",
    "    for i in range(0,f.count()):\n",
    "        data=data.withColumn('riskLevel',\n",
    "                     F.regexp_replace('riskLevel', f.collect()[i]['riskLevel'], 'high risk'))\n",
    "    # Remove leading space of the column in pyspark\n",
    "    data=data.withColumn('riskLevel', F.trim(data.riskLevel))\n",
    "    ########3.2.4 Assign integer values to categorical variables\n",
    "    indexer = StringIndexer(inputCol=\"riskLevel\", outputCol=\"riskLevelIndex\")\n",
    "    data = indexer.fit(data).transform(data)\n",
    "    ########3.2.5 Consistency in Attribute naming\n",
    "    data=data.withColumnRenamed('bloodsugar', 'BS').withColumnRenamed('bodyTemp', 'BodyTemp')\n",
    "    data=data.withColumnRenamed('heartRate', 'HeartRate').withColumnRenamed('riskLevel', 'RiskLevel')\n",
    "    data=data.withColumnRenamed('riskLevelIndex', 'RiskLevelIndex')\n",
    "    # data type cast in pyspark\n",
    "    data=data.withColumn('RiskLevelIndex', data['RiskLevelIndex'].cast(IntegerType()))\n",
    "    ########3.2.6 selecting the target and input variables\n",
    "    assembler = VectorAssembler(\n",
    "        inputCols=['Age','SystolicBP','DiastolicBP','BS','BodyTemp','HeartRate'],\n",
    "        outputCol=\"features\")\n",
    "    data=assembler.transform(data)\n",
    "    # target variable\n",
    "    target=data.select(['RiskLevelIndex']).toPandas()\n",
    "    ########3.2.7 standardizing the input attribute values\n",
    "    standardScaler=StandardScaler()\n",
    "    standardScaler.setInputCol('features')\n",
    "    model=standardScaler.fit(data)\n",
    "    model.setOutputCol('features_scaled')\n",
    "    data=model.transform(data)\n",
    "    #######3.3 constructing / deriving a new feature\n",
    "    bucketizer = Bucketizer(splits=[ float('-inf'), 31.5, 45, float('Inf') ],\n",
    "                            inputCol='Age', outputCol=\"Age_Tier\")\n",
    "    df_buck = bucketizer.setHandleInvalid(\"keep\").transform(data)\n",
    "    t = {0.0:\"Young\", 1.0: \"Matured_Young\", 2.0:\"Middle_Age\"}\n",
    "    udf_foo = udf(lambda x: t[x], StringType())\n",
    "    df_buck=df_buck.withColumn(\"Age_Tier\", udf_foo(\"Age_Tier\"))\n",
    "    \n",
    "    return data\n",
    "\n",
    "# Use Spark to read in the Maternal Health csv file; you can infer csv schemas.\n",
    "data = spark.read.csv(\"Maternal Health Risk Data Set.csv\", inferSchema=True, header=True)\n",
    "data = data_prep(data=data)\n",
    "data.show(5, truncate=False)"
   ]
  },
  {
   "cell_type": "code",
   "execution_count": null,
   "id": "72a11366",
   "metadata": {},
   "outputs": [],
   "source": []
  }
 ],
 "metadata": {
  "kernelspec": {
   "display_name": "Python 3 (ipykernel)",
   "language": "python",
   "name": "python3"
  },
  "language_info": {
   "codemirror_mode": {
    "name": "ipython",
    "version": 3
   },
   "file_extension": ".py",
   "mimetype": "text/x-python",
   "name": "python",
   "nbconvert_exporter": "python",
   "pygments_lexer": "ipython3",
   "version": "3.10.4"
  }
 },
 "nbformat": 4,
 "nbformat_minor": 5
}
