{
 "cells": [
  {
   "cell_type": "code",
   "execution_count": 3,
   "id": "ec0ead3b",
   "metadata": {},
   "outputs": [],
   "source": [
    "# Must be included at the beginning of each notebook. Remember to change the app name. \n",
    "import findspark\n",
    "findspark.init('/home/ubuntu/spark-3.2.1-bin-hadoop2.7')\n",
    "import pyspark\n",
    "from pyspark.sql import SparkSession\n",
    "spark = SparkSession.builder.appName('data_understanding').getOrCreate()"
   ]
  },
  {
   "cell_type": "code",
   "execution_count": 4,
   "id": "38eaaf41",
   "metadata": {},
   "outputs": [
    {
     "name": "stdout",
     "output_type": "stream",
     "text": [
      "+---+----------+-----------+----------+--------+---------+---------+----------+\n",
      "|Age|SystolicBP|DiastolicBP|bloodsugar|bodyTemp|heartRate|riskLevel|   comment|\n",
      "+---+----------+-----------+----------+--------+---------+---------+----------+\n",
      "| 25|       130|         80|      15.0|    98.0|       86|high risk|no comment|\n",
      "| 35|       140|         90|      13.0|    98.0|       70|high risk|no comment|\n",
      "| 29|        90|         70|       8.0|   100.0|       80|high risk|no comment|\n",
      "| 30|       140|         85|       7.0|    98.0|       70|high risk|no comment|\n",
      "| 35|       120|         60|       6.1|    98.0|       76| low risk|no comment|\n",
      "| 23|       140|         80|      7.01|    98.0|       70|high risk|no comment|\n",
      "| 23|       130|         70|      7.01|    98.0|       78| mid risk|no comment|\n",
      "| 35|        85|         60|      11.0|   102.0|       86|high risk|no comment|\n",
      "| 32|       120|         90|       6.9|    98.0|       70| mid risk|no comment|\n",
      "| 42|       130|         80|      18.0|    98.0|       70|high risk|no comment|\n",
      "| 23|        90|         60|      7.01|    98.0|       76| low risk|no comment|\n",
      "| 19|       120|         80|       7.0|    98.0|       70| mid risk|no comment|\n",
      "| 25|       110|         89|      7.01|    98.0|       77| low risk|no comment|\n",
      "| 20|       120|         75|      7.01|   100.0|       70| mid risk|no comment|\n",
      "| 48|       120|         80|      11.0|    98.0|       88| mid risk|no comment|\n",
      "| 15|       120|         80|      7.01|    98.0|       70| low risk|no comment|\n",
      "| 15|       110|         90|      7.02|    98.0|       70|     null|no comment|\n",
      "| 50|       140|         90|      15.0|    98.0|       90|high risk|no comment|\n",
      "| 25|       140|        100|      7.01|    98.0|       80|high risk|no comment|\n",
      "| 30|       120|         80|       6.9|   101.0|       76| mid risk|no comment|\n",
      "+---+----------+-----------+----------+--------+---------+---------+----------+\n",
      "only showing top 20 rows\n",
      "\n"
     ]
    }
   ],
   "source": [
    "# Use Spark to read in the Maternal Health csv file; you can infer csv schemas.\n",
    "data = spark.read.csv(\"Maternal Health Risk Data Set.csv\", inferSchema=True, header=True)\n",
    "data.show()"
   ]
  },
  {
   "cell_type": "code",
   "execution_count": 5,
   "id": "7a56e699",
   "metadata": {},
   "outputs": [
    {
     "name": "stdout",
     "output_type": "stream",
     "text": [
      "+--------+----------+-----------+----------+--------+---------+---------+----------+\n",
      "|     Age|SystolicBP|DiastolicBP|bloodsugar|bodyTemp|heartRate|riskLevel|   comment|\n",
      "+--------+----------+-----------+----------+--------+---------+---------+----------+\n",
      "|-9999999|       110|         65|       7.1|    96.0|       70| low risk|no comment|\n",
      "|    1000|       110|         65|       7.1|    96.0|       70| low risk|no comment|\n",
      "|      16|       120|         75|       7.9|    98.0|        7| low risk|no comment|\n",
      "|      16|       120|         75|       7.9|    98.0|        7| low risk|no comment|\n",
      "+--------+----------+-----------+----------+--------+---------+---------+----------+\n",
      "\n"
     ]
    }
   ],
   "source": [
    "data.filter((data['Age']==-9999999) | (data['Age']==1000) | (data['heartRate']==7)).show()"
   ]
  },
  {
   "cell_type": "code",
   "execution_count": 6,
   "id": "0075d8d5",
   "metadata": {},
   "outputs": [
    {
     "name": "stdout",
     "output_type": "stream",
     "text": [
      "+---+----------+-----------+----------+--------+---------+---------+\n",
      "|Age|SystolicBP|DiastolicBP|bloodsugar|bodyTemp|heartRate|riskLevel|\n",
      "+---+----------+-----------+----------+--------+---------+---------+\n",
      "| 25|       130|         80|      15.0|    98.0|       86|high risk|\n",
      "| 35|       140|         90|      13.0|    98.0|       70|high risk|\n",
      "| 29|        90|         70|       8.0|   100.0|       80|high risk|\n",
      "| 30|       140|         85|       7.0|    98.0|       70|high risk|\n",
      "| 35|       120|         60|       6.1|    98.0|       76| low risk|\n",
      "| 23|       140|         80|      7.01|    98.0|       70|high risk|\n",
      "| 23|       130|         70|      7.01|    98.0|       78| mid risk|\n",
      "| 35|        85|         60|      11.0|   102.0|       86|high risk|\n",
      "| 32|       120|         90|       6.9|    98.0|       70| mid risk|\n",
      "| 42|       130|         80|      18.0|    98.0|       70|high risk|\n",
      "| 23|        90|         60|      7.01|    98.0|       76| low risk|\n",
      "| 19|       120|         80|       7.0|    98.0|       70| mid risk|\n",
      "| 25|       110|         89|      7.01|    98.0|       77| low risk|\n",
      "| 20|       120|         75|      7.01|   100.0|       70| mid risk|\n",
      "| 48|       120|         80|      11.0|    98.0|       88| mid risk|\n",
      "| 15|       120|         80|      7.01|    98.0|       70| low risk|\n",
      "| 15|       110|         90|      7.02|    98.0|       70|     null|\n",
      "| 50|       140|         90|      15.0|    98.0|       90|high risk|\n",
      "| 25|       140|        100|      7.01|    98.0|       80|high risk|\n",
      "| 30|       120|         80|       6.9|   101.0|       76| mid risk|\n",
      "+---+----------+-----------+----------+--------+---------+---------+\n",
      "only showing top 20 rows\n",
      "\n"
     ]
    }
   ],
   "source": [
    "# drop the 'comment' column    \n",
    "data=data.drop('comment')\n",
    "data.show()"
   ]
  },
  {
   "cell_type": "code",
   "execution_count": 7,
   "id": "4f7856b8",
   "metadata": {},
   "outputs": [
    {
     "name": "stdout",
     "output_type": "stream",
     "text": [
      "+-------+------------------+------------------+------------------+------------------+-----------------+-----------------+\n",
      "|summary|               Age|        SystolicBP|       DiastolicBP|        bloodsugar|         bodyTemp|        heartRate|\n",
      "+-------+------------------+------------------+------------------+------------------+-----------------+-----------------+\n",
      "|  count|              1018|              1018|              1018|              1018|             1018|             1018|\n",
      "|   mean|-9792.494106090373|113.15618860510806|  76.4155206286837| 8.711758349705306|98.65461689587426|74.26522593320236|\n",
      "| stddev|313420.50358674483|18.349769141423746|13.877014050287782|3.2831447548609125|1.378812601251565|8.063318071767053|\n",
      "|    min|          -9999999|                70|                49|               6.0|             96.0|                7|\n",
      "|    max|              1000|               160|               100|              19.0|            103.0|               90|\n",
      "+-------+------------------+------------------+------------------+------------------+-----------------+-----------------+\n",
      "\n"
     ]
    }
   ],
   "source": [
    "data.describe('Age', 'SystolicBP', 'DiastolicBP', 'bloodsugar', 'bodyTemp', 'heartRate').show()\n"
   ]
  },
  {
   "cell_type": "code",
   "execution_count": 8,
   "id": "00a1d553",
   "metadata": {},
   "outputs": [
    {
     "name": "stdout",
     "output_type": "stream",
     "text": [
      "+---+----------+-----------+----------+--------+---------+---------+\n",
      "|Age|SystolicBP|DiastolicBP|bloodsugar|bodyTemp|heartRate|riskLevel|\n",
      "+---+----------+-----------+----------+--------+---------+---------+\n",
      "| 25|       130|         80|      15.0|    98.0|       86|high risk|\n",
      "| 35|       140|         90|      13.0|    98.0|       70|high risk|\n",
      "| 29|        90|         70|       8.0|   100.0|       80|high risk|\n",
      "| 30|       140|         85|       7.0|    98.0|       70|high risk|\n",
      "| 35|       120|         60|       6.1|    98.0|       76| low risk|\n",
      "| 23|       140|         80|      7.01|    98.0|       70|high risk|\n",
      "| 23|       130|         70|      7.01|    98.0|       78| mid risk|\n",
      "| 35|        85|         60|      11.0|   102.0|       86|high risk|\n",
      "| 32|       120|         90|       6.9|    98.0|       70| mid risk|\n",
      "| 42|       130|         80|      18.0|    98.0|       70|high risk|\n",
      "| 23|        90|         60|      7.01|    98.0|       76| low risk|\n",
      "| 19|       120|         80|       7.0|    98.0|       70| mid risk|\n",
      "| 25|       110|         89|      7.01|    98.0|       77| low risk|\n",
      "| 20|       120|         75|      7.01|   100.0|       70| mid risk|\n",
      "| 48|       120|         80|      11.0|    98.0|       88| mid risk|\n",
      "| 15|       120|         80|      7.01|    98.0|       70| low risk|\n",
      "| 50|       140|         90|      15.0|    98.0|       90|high risk|\n",
      "| 25|       140|        100|      7.01|    98.0|       80|high risk|\n",
      "| 30|       120|         80|       6.9|   101.0|       76| mid risk|\n",
      "| 10|        70|         50|       6.9|    98.0|       70| low risk|\n",
      "+---+----------+-----------+----------+--------+---------+---------+\n",
      "only showing top 20 rows\n",
      "\n"
     ]
    }
   ],
   "source": [
    "# delete row containing '\" \"'\n",
    "data=data.filter(data.riskLevel!=\" \")\n",
    "data.show()"
   ]
  },
  {
   "cell_type": "code",
   "execution_count": 9,
   "id": "24e490b8",
   "metadata": {},
   "outputs": [
    {
     "data": {
      "image/png": "[encoded data removed]",
      "text/plain": [
       "<Figure size 432x288 with 1 Axes>"
      ]
     },
     "metadata": {
      "needs_background": "light"
     },
     "output_type": "display_data"
    }
   ],
   "source": [
    "# visualise bar plot of 'Age'\n",
    "# Import the relevant Python libraries.\n",
    "import numpy as np\n",
    "import matplotlib.pyplot as plt\n",
    "%matplotlib inline\n",
    "\n",
    "# Convert 'Age' to an array using Numpy and plot it using pyplot. \n",
    "sysArr = np.array(data.select('Age').collect())\n",
    "plt.hist(sysArr)\n",
    "plt.xlabel('Age')\n",
    "plt.show()"
   ]
  },
  {
   "cell_type": "code",
   "execution_count": 10,
   "id": "184620c2",
   "metadata": {},
   "outputs": [
    {
     "name": "stderr",
     "output_type": "stream",
     "text": [
      "/home/ubuntu/.local/lib/python3.10/site-packages/seaborn/distributions.py:2619: FutureWarning: `distplot` is a deprecated function and will be removed in a future version. Please adapt your code to use either `displot` (a figure-level function with similar flexibility) or `histplot` (an axes-level function for histograms).\n",
      "  warnings.warn(msg, FutureWarning)\n"
     ]
    },
    {
     "data": {
      "text/plain": [
       "<AxesSubplot:xlabel='Age before cleaning', ylabel='Density'>"
      ]
     },
     "execution_count": 10,
     "metadata": {},
     "output_type": "execute_result"
    },
    {
     "data": {
      "image/png": "[encoded data removed]",
      "text/plain": [
       "<Figure size 432x288 with 1 Axes>"
      ]
     },
     "metadata": {
      "needs_background": "light"
     },
     "output_type": "display_data"
    }
   ],
   "source": [
    "import seaborn as sns\n",
    "sns.distplot(sysArr, axlabel='Age before cleaning')"
   ]
  },
  {
   "cell_type": "code",
   "execution_count": 11,
   "id": "8ac4d992",
   "metadata": {},
   "outputs": [
    {
     "data": {
      "image/png": "[encoded data removed]",
      "text/plain": [
       "<Figure size 432x288 with 1 Axes>"
      ]
     },
     "metadata": {
      "needs_background": "light"
     },
     "output_type": "display_data"
    }
   ],
   "source": [
    "# delete extreme 'Age' value rows\n",
    "data = data.filter(data.Age!=-9999999)\n",
    "# visualise bar plot of 'Age'\n",
    "# Convert 'Age' to an array using Numpy and plot it using pyplot. \n",
    "sysArr = np.array(data.select('Age').collect())\n",
    "plt.hist(sysArr)\n",
    "plt.xlabel('Age after exluding -9999999')\n",
    "plt.show()"
   ]
  },
  {
   "cell_type": "code",
   "execution_count": 12,
   "id": "db40c700",
   "metadata": {},
   "outputs": [
    {
     "data": {
      "image/png": "[encoded data removed]",
      "text/plain": [
       "<Figure size 432x288 with 1 Axes>"
      ]
     },
     "metadata": {
      "needs_background": "light"
     },
     "output_type": "display_data"
    }
   ],
   "source": [
    "data = data.filter(data.Age!=-1)\n",
    "# visualise bar plot of 'Age'\n",
    "# Convert 'Age' to an array using Numpy and plot it using pyplot. \n",
    "sysArr = np.array(data.select('Age').collect())\n",
    "plt.hist(sysArr)\n",
    "plt.xlabel('Age after exluding -1')\n",
    "plt.show()"
   ]
  },
  {
   "cell_type": "code",
   "execution_count": 13,
   "id": "75446272",
   "metadata": {},
   "outputs": [
    {
     "data": {
      "image/png": "[encoded data removed]",
      "text/plain": [
       "<Figure size 432x288 with 1 Axes>"
      ]
     },
     "metadata": {
      "needs_background": "light"
     },
     "output_type": "display_data"
    }
   ],
   "source": [
    "data = data.filter(data.Age!=1000)\n",
    "# visualise bar plot of 'Age'\n",
    "# Convert 'Age' to an array using Numpy and plot it using pyplot. \n",
    "sysArr = np.array(data.select('Age').collect())\n",
    "plt.hist(sysArr)\n",
    "plt.xlabel('Age after exluding 1000')\n",
    "plt.show()"
   ]
  },
  {
   "cell_type": "code",
   "execution_count": 14,
   "id": "ab872896",
   "metadata": {},
   "outputs": [
    {
     "name": "stdout",
     "output_type": "stream",
     "text": [
      "+---+----------+-----------+----------+--------+---------+---------+\n",
      "|Age|SystolicBP|DiastolicBP|bloodsugar|bodyTemp|heartRate|riskLevel|\n",
      "+---+----------+-----------+----------+--------+---------+---------+\n",
      "|-23|       130|         70|       6.9|    98.0|       70| mid risk|\n",
      "+---+----------+-----------+----------+--------+---------+---------+\n",
      "\n"
     ]
    }
   ],
   "source": [
    "# select 'Age' <= 0 or 'Age' > 100\n",
    "data.filter((data['Age']<=0) | (data['Age']>100)).show()"
   ]
  },
  {
   "cell_type": "code",
   "execution_count": 15,
   "id": "2bb8c557",
   "metadata": {},
   "outputs": [
    {
     "data": {
      "text/plain": [
       "[('Age', 'int')]"
      ]
     },
     "execution_count": 15,
     "metadata": {},
     "output_type": "execute_result"
    }
   ],
   "source": [
    "data.select('Age').dtypes"
   ]
  },
  {
   "cell_type": "code",
   "execution_count": 16,
   "id": "7c60c56b",
   "metadata": {},
   "outputs": [],
   "source": [
    "#Replace part of string with another string\n",
    "from pyspark.sql.functions import regexp_replace\n",
    "data = data.withColumn('Age', regexp_replace('Age', '-23', '23'))"
   ]
  },
  {
   "cell_type": "code",
   "execution_count": 17,
   "id": "6fc87e3d",
   "metadata": {},
   "outputs": [
    {
     "data": {
      "text/plain": [
       "[('Age', 'string')]"
      ]
     },
     "execution_count": 17,
     "metadata": {},
     "output_type": "execute_result"
    }
   ],
   "source": [
    "data.select('Age').dtypes"
   ]
  },
  {
   "cell_type": "code",
   "execution_count": 18,
   "id": "225c2380",
   "metadata": {},
   "outputs": [],
   "source": [
    "# Type cast string column to integer column in pyspark\n",
    "from pyspark.sql.types import IntegerType\n",
    "data = data.withColumn(\"Age\", data[\"Age\"].cast(IntegerType()))"
   ]
  },
  {
   "cell_type": "code",
   "execution_count": 19,
   "id": "90f7b17e",
   "metadata": {},
   "outputs": [
    {
     "data": {
      "text/plain": [
       "[('Age', 'int')]"
      ]
     },
     "execution_count": 19,
     "metadata": {},
     "output_type": "execute_result"
    }
   ],
   "source": [
    "data.select('Age').dtypes"
   ]
  },
  {
   "cell_type": "code",
   "execution_count": 20,
   "id": "1b484297",
   "metadata": {},
   "outputs": [
    {
     "name": "stdout",
     "output_type": "stream",
     "text": [
      "+---+----------+-----------+----------+--------+---------+---------+\n",
      "|Age|SystolicBP|DiastolicBP|bloodsugar|bodyTemp|heartRate|riskLevel|\n",
      "+---+----------+-----------+----------+--------+---------+---------+\n",
      "+---+----------+-----------+----------+--------+---------+---------+\n",
      "\n"
     ]
    }
   ],
   "source": [
    "data.filter(data.Age==-23).show()"
   ]
  },
  {
   "cell_type": "code",
   "execution_count": 21,
   "id": "d657ee50",
   "metadata": {},
   "outputs": [
    {
     "data": {
      "image/png": "[encoded data removed]",
      "text/plain": [
       "<Figure size 432x288 with 1 Axes>"
      ]
     },
     "metadata": {
      "needs_background": "light"
     },
     "output_type": "display_data"
    }
   ],
   "source": [
    "# visualise bar plot of 'Age'\n",
    "# Convert 'Age' to an array using Numpy and plot it using pyplot. \n",
    "sysArr = np.array(data.select('Age').collect())\n",
    "plt.hist(sysArr)\n",
    "plt.xlabel('Age after cleaning')\n",
    "plt.show()"
   ]
  },
  {
   "cell_type": "code",
   "execution_count": 22,
   "id": "f4fbf0d0",
   "metadata": {},
   "outputs": [
    {
     "name": "stderr",
     "output_type": "stream",
     "text": [
      "/home/ubuntu/.local/lib/python3.10/site-packages/seaborn/distributions.py:2619: FutureWarning: `distplot` is a deprecated function and will be removed in a future version. Please adapt your code to use either `displot` (a figure-level function with similar flexibility) or `histplot` (an axes-level function for histograms).\n",
      "  warnings.warn(msg, FutureWarning)\n"
     ]
    },
    {
     "data": {
      "text/plain": [
       "<AxesSubplot:xlabel='Age after cleaning', ylabel='Density'>"
      ]
     },
     "execution_count": 22,
     "metadata": {},
     "output_type": "execute_result"
    },
    {
     "data": {
      "image/png": "[encoded data removed]",
      "text/plain": [
       "<Figure size 432x288 with 1 Axes>"
      ]
     },
     "metadata": {
      "needs_background": "light"
     },
     "output_type": "display_data"
    }
   ],
   "source": [
    "sns.distplot(sysArr, axlabel='Age after cleaning')"
   ]
  },
  {
   "cell_type": "code",
   "execution_count": 23,
   "id": "f95bd66a",
   "metadata": {},
   "outputs": [
    {
     "name": "stdout",
     "output_type": "stream",
     "text": [
      "+-----------------+\n",
      "|         avg(Age)|\n",
      "+-----------------+\n",
      "|29.85404339250493|\n",
      "+-----------------+\n",
      "\n"
     ]
    }
   ],
   "source": [
    "# find average 'Age'\n",
    "data.agg({'Age': 'avg'}).show()"
   ]
  },
  {
   "cell_type": "code",
   "execution_count": 24,
   "id": "14a289ea",
   "metadata": {},
   "outputs": [
    {
     "name": "stderr",
     "output_type": "stream",
     "text": [
      "/home/ubuntu/.local/lib/python3.10/site-packages/seaborn/distributions.py:2619: FutureWarning: `distplot` is a deprecated function and will be removed in a future version. Please adapt your code to use either `displot` (a figure-level function with similar flexibility) or `histplot` (an axes-level function for histograms).\n",
      "  warnings.warn(msg, FutureWarning)\n"
     ]
    },
    {
     "data": {
      "text/plain": [
       "<AxesSubplot:xlabel='heartRate before cleaning', ylabel='Density'>"
      ]
     },
     "execution_count": 24,
     "metadata": {},
     "output_type": "execute_result"
    },
    {
     "data": {
      "image/png": "[encoded data removed]",
      "text/plain": [
       "<Figure size 432x288 with 1 Axes>"
      ]
     },
     "metadata": {
      "needs_background": "light"
     },
     "output_type": "display_data"
    }
   ],
   "source": [
    "# dist of 'heartRate before cleaning'\n",
    "sysArr = np.array(data.select('heartRate').collect())\n",
    "sns.distplot(sysArr, axlabel='heartRate before cleaning')"
   ]
  },
  {
   "cell_type": "code",
   "execution_count": 25,
   "id": "20da7baa",
   "metadata": {},
   "outputs": [],
   "source": [
    "# exclude extreme 'heartRate' values\n",
    "data = data.filter(data.heartRate!=7)"
   ]
  },
  {
   "cell_type": "code",
   "execution_count": 26,
   "id": "c28972d6",
   "metadata": {
    "scrolled": false
   },
   "outputs": [
    {
     "name": "stdout",
     "output_type": "stream",
     "text": [
      "+---+----------+-----------+----------+--------+---------+---------+\n",
      "|Age|SystolicBP|DiastolicBP|bloodsugar|bodyTemp|heartRate|riskLevel|\n",
      "+---+----------+-----------+----------+--------+---------+---------+\n",
      "+---+----------+-----------+----------+--------+---------+---------+\n",
      "\n"
     ]
    }
   ],
   "source": [
    "data.filter(data.heartRate==7).show()"
   ]
  },
  {
   "cell_type": "code",
   "execution_count": 27,
   "id": "8ffc75ab",
   "metadata": {},
   "outputs": [
    {
     "name": "stderr",
     "output_type": "stream",
     "text": [
      "/home/ubuntu/.local/lib/python3.10/site-packages/seaborn/distributions.py:2619: FutureWarning: `distplot` is a deprecated function and will be removed in a future version. Please adapt your code to use either `displot` (a figure-level function with similar flexibility) or `histplot` (an axes-level function for histograms).\n",
      "  warnings.warn(msg, FutureWarning)\n"
     ]
    },
    {
     "data": {
      "text/plain": [
       "<AxesSubplot:xlabel='heartRate after cleaning', ylabel='Density'>"
      ]
     },
     "execution_count": 27,
     "metadata": {},
     "output_type": "execute_result"
    },
    {
     "data": {
      "image/png": "[encoded data removed]",
      "text/plain": [
       "<Figure size 432x288 with 1 Axes>"
      ]
     },
     "metadata": {
      "needs_background": "light"
     },
     "output_type": "display_data"
    }
   ],
   "source": [
    "# dist of 'heartRate' after cleaning\n",
    "sysArr = np.array(data.select('heartRate').collect())\n",
    "sns.distplot(sysArr, axlabel='heartRate after cleaning')"
   ]
  },
  {
   "cell_type": "code",
   "execution_count": 28,
   "id": "d1fdc9ec",
   "metadata": {},
   "outputs": [
    {
     "name": "stdout",
     "output_type": "stream",
     "text": [
      "+-------+------------------+------------------+------------------+-----------------+------------------+-----------------+\n",
      "|summary|               Age|        SystolicBP|       DiastolicBP|       bloodsugar|          bodyTemp|        heartRate|\n",
      "+-------+------------------+------------------+------------------+-----------------+------------------+-----------------+\n",
      "|  count|              1012|              1012|              1012|             1012|              1012|             1012|\n",
      "|   mean|29.881422924901187|113.15513833992095| 76.43873517786561|8.719812252964427| 98.66442687747035|74.41501976284584|\n",
      "| stddev|13.458871325636034|18.400550546547663|13.897505329476102|3.291063983088068|1.3748192463115287|7.507180321494286|\n",
      "|    min|                10|                70|                49|              6.0|              96.0|               60|\n",
      "|    max|                70|               160|               100|             19.0|             103.0|               90|\n",
      "+-------+------------------+------------------+------------------+-----------------+------------------+-----------------+\n",
      "\n"
     ]
    }
   ],
   "source": [
    "# description after cleaning\n",
    "data.describe('Age', 'SystolicBP', 'DiastolicBP', 'bloodsugar', 'bodyTemp', 'heartRate').show()"
   ]
  },
  {
   "cell_type": "code",
   "execution_count": 29,
   "id": "8c43962b",
   "metadata": {},
   "outputs": [
    {
     "data": {
      "image/png": "[encoded data removed]",
      "text/plain": [
       "<Figure size 432x288 with 2 Axes>"
      ]
     },
     "metadata": {
      "needs_background": "light"
     },
     "output_type": "display_data"
    }
   ],
   "source": [
    "# Convert 'Age' to an array using Numpy and plot it using pyplot. \n",
    "aysArr = np.array(data.select('Age').collect())\n",
    "plt.subplot(1,2,1);\n",
    "plt.boxplot(aysArr)\n",
    "plt.xlabel('Age')\n",
    "\n",
    "# Convert 'heartRate' to an array using Numpy and plot it using pyplot. \n",
    "hysArr = np.array(data.select('heartRate').collect())\n",
    "plt.subplot(1,2,2)\n",
    "plt.boxplot(hysArr)\n",
    "plt.xlabel('heartRate')\n",
    "plt.show()"
   ]
  },
  {
   "cell_type": "code",
   "execution_count": 30,
   "id": "f03dab02",
   "metadata": {},
   "outputs": [
    {
     "name": "stdout",
     "output_type": "stream",
     "text": [
      "+---------+-----+\n",
      "|riskLevel|count|\n",
      "+---------+-----+\n",
      "|     High|    1|\n",
      "|      Low|    1|\n",
      "| low risk|  403|\n",
      "|low risk |    1|\n",
      "| MID RISK|    1|\n",
      "|HIGH RISK|    1|\n",
      "| mid risk|  333|\n",
      "|      Mid|    1|\n",
      "|mid risk |    1|\n",
      "|high risk|  269|\n",
      "+---------+-----+\n",
      "\n"
     ]
    }
   ],
   "source": [
    "data.groupby(['riskLevel']).count().show()"
   ]
  },
  {
   "cell_type": "code",
   "execution_count": 31,
   "id": "14382d4b",
   "metadata": {},
   "outputs": [
    {
     "data": {
      "text/plain": [
       "[('Age', 'int'),\n",
       " ('SystolicBP', 'int'),\n",
       " ('DiastolicBP', 'int'),\n",
       " ('bloodsugar', 'double'),\n",
       " ('bodyTemp', 'double'),\n",
       " ('heartRate', 'int'),\n",
       " ('riskLevel', 'string')]"
      ]
     },
     "execution_count": 31,
     "metadata": {},
     "output_type": "execute_result"
    }
   ],
   "source": [
    "data.select('*').dtypes"
   ]
  },
  {
   "cell_type": "code",
   "execution_count": 32,
   "id": "dadac016",
   "metadata": {},
   "outputs": [],
   "source": [
    "# Type cast in pyspark\n",
    "from pyspark.sql.types import *\n",
    "data=data.withColumn('Age', data['Age'].cast(DoubleType()))\n",
    "data=data.withColumn('SystolicBP', data['SystolicBP'].cast(DoubleType()))\n",
    "data = data.withColumn(\"DiastolicBP\", data[\"DiastolicBP\"].cast(DoubleType()))"
   ]
  },
  {
   "cell_type": "code",
   "execution_count": 33,
   "id": "fa9892ed",
   "metadata": {},
   "outputs": [
    {
     "data": {
      "text/plain": [
       "[('Age', 'double'),\n",
       " ('SystolicBP', 'double'),\n",
       " ('DiastolicBP', 'double'),\n",
       " ('bloodsugar', 'double'),\n",
       " ('bodyTemp', 'double'),\n",
       " ('heartRate', 'int'),\n",
       " ('riskLevel', 'string')]"
      ]
     },
     "execution_count": 33,
     "metadata": {},
     "output_type": "execute_result"
    }
   ],
   "source": [
    "data.select('*').dtypes"
   ]
  },
  {
   "cell_type": "code",
   "execution_count": 34,
   "id": "13c17da3",
   "metadata": {},
   "outputs": [
    {
     "name": "stdout",
     "output_type": "stream",
     "text": [
      "+---------+-----+\n",
      "|riskLevel|count|\n",
      "+---------+-----+\n",
      "|     High|    1|\n",
      "|      Low|    1|\n",
      "| low risk|  403|\n",
      "|low risk |    1|\n",
      "| MID RISK|    1|\n",
      "|HIGH RISK|    1|\n",
      "| mid risk|  333|\n",
      "|      Mid|    1|\n",
      "|mid risk |    1|\n",
      "|high risk|  269|\n",
      "+---------+-----+\n",
      "\n"
     ]
    }
   ],
   "source": [
    "data.groupby(['riskLevel']).count().show()"
   ]
  },
  {
   "cell_type": "code",
   "execution_count": 35,
   "id": "58c15bb6",
   "metadata": {},
   "outputs": [
    {
     "name": "stdout",
     "output_type": "stream",
     "text": [
      "+----+----------+-----------+----------+--------+---------+---------+\n",
      "| Age|SystolicBP|DiastolicBP|bloodsugar|bodyTemp|heartRate|riskLevel|\n",
      "+----+----------+-----------+----------+--------+---------+---------+\n",
      "|23.0|     100.0|       85.0|       7.1|    98.0|       66|      Low|\n",
      "+----+----------+-----------+----------+--------+---------+---------+\n",
      "\n"
     ]
    }
   ],
   "source": [
    "f=data.where(data.riskLevel.startswith('L'))\n",
    "f.show()"
   ]
  },
  {
   "cell_type": "code",
   "execution_count": 36,
   "id": "ca0461a5",
   "metadata": {},
   "outputs": [],
   "source": [
    "import pyspark.sql.functions as F\n",
    "\n",
    "for i in range(0,f.count()):\n",
    "    data=data.withColumn('riskLevel', F.regexp_replace('riskLevel', f.collect()[i]['riskLevel'], \"low risk\"))"
   ]
  },
  {
   "cell_type": "code",
   "execution_count": 37,
   "id": "b515dfc1",
   "metadata": {
    "scrolled": true
   },
   "outputs": [
    {
     "name": "stdout",
     "output_type": "stream",
     "text": [
      "+---------+-----+\n",
      "|riskLevel|count|\n",
      "+---------+-----+\n",
      "|     High|    1|\n",
      "| low risk|  404|\n",
      "|low risk |    1|\n",
      "| MID RISK|    1|\n",
      "|HIGH RISK|    1|\n",
      "| mid risk|  333|\n",
      "|      Mid|    1|\n",
      "|mid risk |    1|\n",
      "|high risk|  269|\n",
      "+---------+-----+\n",
      "\n"
     ]
    }
   ],
   "source": [
    "data.groupby('riskLevel').count().show()"
   ]
  },
  {
   "cell_type": "code",
   "execution_count": 38,
   "id": "46e1ae15",
   "metadata": {},
   "outputs": [
    {
     "name": "stdout",
     "output_type": "stream",
     "text": [
      "+----+----------+-----------+----------+--------+---------+---------+\n",
      "| Age|SystolicBP|DiastolicBP|bloodsugar|bodyTemp|heartRate|riskLevel|\n",
      "+----+----------+-----------+----------+--------+---------+---------+\n",
      "|44.0|     120.0|       90.0|      16.0|    98.0|       80| MID RISK|\n",
      "|29.0|     130.0|       70.0|       7.5|    98.0|       78|      Mid|\n",
      "+----+----------+-----------+----------+--------+---------+---------+\n",
      "\n"
     ]
    }
   ],
   "source": [
    "f=data.where(data.riskLevel.startswith('M'))\n",
    "f.show()"
   ]
  },
  {
   "cell_type": "code",
   "execution_count": 39,
   "id": "df80fe6d",
   "metadata": {},
   "outputs": [],
   "source": [
    "for i in range(0, f.count()):\n",
    "    data=data.withColumn('riskLevel',\n",
    "                     F.regexp_replace('riskLevel', f.collect()[i]['riskLevel'], 'mid risk')) "
   ]
  },
  {
   "cell_type": "code",
   "execution_count": 40,
   "id": "a543e866",
   "metadata": {},
   "outputs": [
    {
     "name": "stdout",
     "output_type": "stream",
     "text": [
      "+---------+-----+\n",
      "|riskLevel|count|\n",
      "+---------+-----+\n",
      "|     High|    1|\n",
      "| low risk|  404|\n",
      "|low risk |    1|\n",
      "|HIGH RISK|    1|\n",
      "| mid risk|  335|\n",
      "|mid risk |    1|\n",
      "|high risk|  269|\n",
      "+---------+-----+\n",
      "\n"
     ]
    }
   ],
   "source": [
    "data.groupby('riskLevel').count().show()"
   ]
  },
  {
   "cell_type": "code",
   "execution_count": 41,
   "id": "1e879c1c",
   "metadata": {},
   "outputs": [
    {
     "name": "stdout",
     "output_type": "stream",
     "text": [
      "+----+----------+-----------+----------+--------+---------+---------+\n",
      "| Age|SystolicBP|DiastolicBP|bloodsugar|bodyTemp|heartRate|riskLevel|\n",
      "+----+----------+-----------+----------+--------+---------+---------+\n",
      "|34.0|      85.0|       60.0|      11.0|   102.0|       86|HIGH RISK|\n",
      "|63.0|     140.0|       90.0|      15.0|    98.0|       90|     High|\n",
      "+----+----------+-----------+----------+--------+---------+---------+\n",
      "\n"
     ]
    }
   ],
   "source": [
    "f=data.where(data.riskLevel.startswith('H'))\n",
    "f.show()"
   ]
  },
  {
   "cell_type": "code",
   "execution_count": 42,
   "id": "0638ae8f",
   "metadata": {},
   "outputs": [],
   "source": [
    "for i in range(0,f.count()):\n",
    "    data=data.withColumn('riskLevel',\n",
    "                     F.regexp_replace('riskLevel', f.collect()[i]['riskLevel'], 'high risk')) "
   ]
  },
  {
   "cell_type": "code",
   "execution_count": 43,
   "id": "a732ad8c",
   "metadata": {},
   "outputs": [
    {
     "name": "stdout",
     "output_type": "stream",
     "text": [
      "+---------+-----+\n",
      "|riskLevel|count|\n",
      "+---------+-----+\n",
      "| low risk|  404|\n",
      "|low risk |    1|\n",
      "| mid risk|  335|\n",
      "|mid risk |    1|\n",
      "|high risk|  271|\n",
      "+---------+-----+\n",
      "\n"
     ]
    }
   ],
   "source": [
    "data.groupby(['riskLevel']).count().show()"
   ]
  },
  {
   "cell_type": "code",
   "execution_count": 44,
   "id": "c1848b36",
   "metadata": {},
   "outputs": [
    {
     "name": "stdout",
     "output_type": "stream",
     "text": [
      "+---------+-----+\n",
      "|riskLevel|count|\n",
      "+---------+-----+\n",
      "| low risk|  405|\n",
      "| mid risk|  336|\n",
      "|high risk|  271|\n",
      "+---------+-----+\n",
      "\n"
     ]
    }
   ],
   "source": [
    "# Remove leading space of the column in pyspark\n",
    "data=data.withColumn('riskLevel', F.trim(data.riskLevel))\n",
    "data.groupby(['riskLevel']).count().show()"
   ]
  },
  {
   "cell_type": "code",
   "execution_count": 45,
   "id": "ccfaf45b",
   "metadata": {},
   "outputs": [
    {
     "data": {
      "text/plain": [
       "<BarContainer object of 3 artists>"
      ]
     },
     "execution_count": 45,
     "metadata": {},
     "output_type": "execute_result"
    },
    {
     "data": {
      "image/png": "[encoded data removed]",
      "text/plain": [
       "<Figure size 432x288 with 1 Axes>"
      ]
     },
     "metadata": {
      "needs_background": "light"
     },
     "output_type": "display_data"
    }
   ],
   "source": [
    "df=data.groupby('riskLevel').count()\n",
    "df=df.toPandas()\n",
    "plt.bar(df['riskLevel'].values, df['count'].values, color=['red','green','blue'])"
   ]
  },
  {
   "cell_type": "code",
   "execution_count": 46,
   "id": "251ada7e",
   "metadata": {},
   "outputs": [
    {
     "name": "stderr",
     "output_type": "stream",
     "text": [
      "                                                                                \r"
     ]
    }
   ],
   "source": [
    "from pyspark.ml.feature import StringIndexer\n",
    "\n",
    "indexer = StringIndexer(inputCol=\"riskLevel\", outputCol=\"riskLevelIndex\")\n",
    "data = indexer.fit(data).transform(data)"
   ]
  },
  {
   "cell_type": "code",
   "execution_count": 47,
   "id": "b2f6d4b9",
   "metadata": {},
   "outputs": [
    {
     "name": "stdout",
     "output_type": "stream",
     "text": [
      "+---------+-----+\n",
      "|riskLevel|count|\n",
      "+---------+-----+\n",
      "| low risk|  405|\n",
      "| mid risk|  336|\n",
      "|high risk|  271|\n",
      "+---------+-----+\n",
      "\n"
     ]
    }
   ],
   "source": [
    "data.groupby('riskLevel').count().show()"
   ]
  },
  {
   "cell_type": "code",
   "execution_count": 48,
   "id": "563174ec",
   "metadata": {},
   "outputs": [
    {
     "name": "stdout",
     "output_type": "stream",
     "text": [
      "+--------------+-----+\n",
      "|riskLevelIndex|count|\n",
      "+--------------+-----+\n",
      "|           0.0|  405|\n",
      "|           1.0|  336|\n",
      "|           2.0|  271|\n",
      "+--------------+-----+\n",
      "\n"
     ]
    }
   ],
   "source": [
    "data.groupby('riskLevelIndex').count().show()"
   ]
  },
  {
   "cell_type": "code",
   "execution_count": 49,
   "id": "e0f7faf4",
   "metadata": {},
   "outputs": [
    {
     "data": {
      "text/plain": [
       "['Age',\n",
       " 'SystolicBP',\n",
       " 'DiastolicBP',\n",
       " 'bloodsugar',\n",
       " 'bodyTemp',\n",
       " 'heartRate',\n",
       " 'riskLevel',\n",
       " 'riskLevelIndex']"
      ]
     },
     "execution_count": 49,
     "metadata": {},
     "output_type": "execute_result"
    }
   ],
   "source": [
    "data.columns"
   ]
  },
  {
   "cell_type": "code",
   "execution_count": 50,
   "id": "ea27bb74",
   "metadata": {},
   "outputs": [],
   "source": [
    "data=data.withColumnRenamed('bloodsugar', 'BS').withColumnRenamed('bodyTemp', 'BodyTemp')\n",
    "data=data.withColumnRenamed('heartRate', 'HeartRate').withColumnRenamed('riskLevel', 'RiskLevel')\n",
    "data=data.withColumnRenamed('riskLevelIndex', 'RiskLevelIndex')"
   ]
  },
  {
   "cell_type": "code",
   "execution_count": 51,
   "id": "9011c683",
   "metadata": {},
   "outputs": [
    {
     "data": {
      "text/plain": [
       "['Age',\n",
       " 'SystolicBP',\n",
       " 'DiastolicBP',\n",
       " 'BS',\n",
       " 'BodyTemp',\n",
       " 'HeartRate',\n",
       " 'RiskLevel',\n",
       " 'RiskLevelIndex']"
      ]
     },
     "execution_count": 51,
     "metadata": {},
     "output_type": "execute_result"
    }
   ],
   "source": [
    "data.columns"
   ]
  },
  {
   "cell_type": "code",
   "execution_count": 52,
   "id": "26972528",
   "metadata": {},
   "outputs": [
    {
     "data": {
      "text/plain": [
       "[('Age', 'double'),\n",
       " ('SystolicBP', 'double'),\n",
       " ('DiastolicBP', 'double'),\n",
       " ('BS', 'double'),\n",
       " ('BodyTemp', 'double'),\n",
       " ('HeartRate', 'int'),\n",
       " ('RiskLevel', 'string'),\n",
       " ('RiskLevelIndex', 'double')]"
      ]
     },
     "execution_count": 52,
     "metadata": {},
     "output_type": "execute_result"
    }
   ],
   "source": [
    "data.select('*').dtypes"
   ]
  },
  {
   "cell_type": "code",
   "execution_count": 53,
   "id": "6b8a3988",
   "metadata": {},
   "outputs": [],
   "source": [
    "# data type cast in pyspark\n",
    "data=data.withColumn('RiskLevelIndex', data['RiskLevelIndex'].cast(IntegerType()))"
   ]
  },
  {
   "cell_type": "code",
   "execution_count": 54,
   "id": "6bd70676",
   "metadata": {},
   "outputs": [
    {
     "data": {
      "text/plain": [
       "[('Age', 'double'),\n",
       " ('SystolicBP', 'double'),\n",
       " ('DiastolicBP', 'double'),\n",
       " ('BS', 'double'),\n",
       " ('BodyTemp', 'double'),\n",
       " ('HeartRate', 'int'),\n",
       " ('RiskLevel', 'string'),\n",
       " ('RiskLevelIndex', 'int')]"
      ]
     },
     "execution_count": 54,
     "metadata": {},
     "output_type": "execute_result"
    }
   ],
   "source": [
    "data.select('*').dtypes"
   ]
  },
  {
   "cell_type": "code",
   "execution_count": 64,
   "id": "ff981b80",
   "metadata": {},
   "outputs": [],
   "source": [
    "from pyspark.ml.feature import VectorAssembler\n",
    "\n",
    "assembler = VectorAssembler(\n",
    "    inputCols=['Age','SystolicBP','DiastolicBP','BS','BodyTemp','HeartRate'],\n",
    "    outputCol=\"features\")"
   ]
  },
  {
   "cell_type": "code",
   "execution_count": 65,
   "id": "0ac20f9d",
   "metadata": {},
   "outputs": [
    {
     "name": "stdout",
     "output_type": "stream",
     "text": [
      "+----+----------+-----------+----+--------+---------+---------+--------------+--------------------+\n",
      "| Age|SystolicBP|DiastolicBP|  BS|BodyTemp|HeartRate|RiskLevel|RiskLevelIndex|            features|\n",
      "+----+----------+-----------+----+--------+---------+---------+--------------+--------------------+\n",
      "|25.0|     130.0|       80.0|15.0|    98.0|       86|high risk|             2|[25.0,130.0,80.0,...|\n",
      "|35.0|     140.0|       90.0|13.0|    98.0|       70|high risk|             2|[35.0,140.0,90.0,...|\n",
      "|29.0|      90.0|       70.0| 8.0|   100.0|       80|high risk|             2|[29.0,90.0,70.0,8...|\n",
      "|30.0|     140.0|       85.0| 7.0|    98.0|       70|high risk|             2|[30.0,140.0,85.0,...|\n",
      "|35.0|     120.0|       60.0| 6.1|    98.0|       76| low risk|             0|[35.0,120.0,60.0,...|\n",
      "+----+----------+-----------+----+--------+---------+---------+--------------+--------------------+\n",
      "only showing top 5 rows\n",
      "\n"
     ]
    }
   ],
   "source": [
    "output=assembler.transform(data)\n",
    "output.show(5)"
   ]
  },
  {
   "cell_type": "code",
   "execution_count": 57,
   "id": "4d91690e",
   "metadata": {},
   "outputs": [
    {
     "data": {
      "text/html": [
       "<div>\n",
       "<style scoped>\n",
       "    .dataframe tbody tr th:only-of-type {\n",
       "        vertical-align: middle;\n",
       "    }\n",
       "\n",
       "    .dataframe tbody tr th {\n",
       "        vertical-align: top;\n",
       "    }\n",
       "\n",
       "    .dataframe thead th {\n",
       "        text-align: right;\n",
       "    }\n",
       "</style>\n",
       "<table border=\"1\" class=\"dataframe\">\n",
       "  <thead>\n",
       "    <tr style=\"text-align: right;\">\n",
       "      <th></th>\n",
       "      <th>RiskLevelIndex</th>\n",
       "    </tr>\n",
       "  </thead>\n",
       "  <tbody>\n",
       "    <tr>\n",
       "      <th>0</th>\n",
       "      <td>2</td>\n",
       "    </tr>\n",
       "    <tr>\n",
       "      <th>1</th>\n",
       "      <td>2</td>\n",
       "    </tr>\n",
       "    <tr>\n",
       "      <th>2</th>\n",
       "      <td>2</td>\n",
       "    </tr>\n",
       "    <tr>\n",
       "      <th>3</th>\n",
       "      <td>2</td>\n",
       "    </tr>\n",
       "    <tr>\n",
       "      <th>4</th>\n",
       "      <td>0</td>\n",
       "    </tr>\n",
       "  </tbody>\n",
       "</table>\n",
       "</div>"
      ],
      "text/plain": [
       "   RiskLevelIndex\n",
       "0               2\n",
       "1               2\n",
       "2               2\n",
       "3               2\n",
       "4               0"
      ]
     },
     "execution_count": 57,
     "metadata": {},
     "output_type": "execute_result"
    }
   ],
   "source": [
    "target=data.select(['RiskLevelIndex']).toPandas()\n",
    "target[0:5]"
   ]
  },
  {
   "cell_type": "code",
   "execution_count": 121,
   "id": "e7b28716",
   "metadata": {},
   "outputs": [
    {
     "data": {
      "text/plain": [
       "StandardScalerModel: uid=StandardScaler_37b8f40e24ac, numFeatures=6, withMean=false, withStd=true"
      ]
     },
     "execution_count": 121,
     "metadata": {},
     "output_type": "execute_result"
    }
   ],
   "source": [
    "standardScaler.setInputCol('features')\n",
    "model=standardScaler.fit(output)\n",
    "model.setOutputCol('features_scaled')"
   ]
  },
  {
   "cell_type": "code",
   "execution_count": 155,
   "id": "c6989959",
   "metadata": {},
   "outputs": [],
   "source": [
    "output_scaled=model.transform(output)"
   ]
  },
  {
   "cell_type": "code",
   "execution_count": 162,
   "id": "f164a499",
   "metadata": {},
   "outputs": [
    {
     "data": {
      "text/plain": [
       "array([[[ 1.8575,  7.065 ,  5.7564,  4.5578, 71.2821, 11.4557]],\n",
       "\n",
       "       [[ 2.6005,  7.6085,  6.476 ,  3.9501, 71.2821,  9.3244]],\n",
       "\n",
       "       [[ 2.1547,  4.8912,  5.0369,  2.4308, 72.7368, 10.6565]],\n",
       "\n",
       "       ...,\n",
       "\n",
       "       [[ 2.6005,  4.6194,  4.3173,  5.7732, 71.2821, 11.4557]],\n",
       "\n",
       "       [[ 3.1949,  6.5215,  6.476 ,  5.4694, 71.2821,  9.3244]],\n",
       "\n",
       "       [[ 2.3776,  6.5215,  4.6771,  1.8231, 73.4642, 10.1236]]])"
      ]
     },
     "execution_count": 162,
     "metadata": {},
     "output_type": "execute_result"
    }
   ],
   "source": [
    "# Add column using select\n",
    "np.round(output_scaled.select('features_scaled').collect(), 4)"
   ]
  },
  {
   "cell_type": "code",
   "execution_count": 134,
   "id": "d2ef93be",
   "metadata": {},
   "outputs": [
    {
     "name": "stdout",
     "output_type": "stream",
     "text": [
      "+--------------------+\n",
      "|     features_scaled|\n",
      "+--------------------+\n",
      "|[1.85751088595228...|\n",
      "|[2.60051524033319...|\n",
      "|[2.15471262770465...|\n",
      "|[2.22901306314274...|\n",
      "|[2.60051524033319...|\n",
      "|[1.70891001507610...|\n",
      "|[1.70891001507610...|\n",
      "|[2.60051524033319...|\n",
      "|[2.37761393401892...|\n",
      "|[3.12061828839984...|\n",
      "|[1.70891001507610...|\n",
      "|[1.41170827332373...|\n",
      "|[1.85751088595228...|\n",
      "|[1.48600870876182...|\n",
      "|[3.56642090102838...|\n",
      "|[1.11450653157137...|\n",
      "|[3.71502177190457...|\n",
      "|[1.85751088595228...|\n",
      "|[2.22901306314274...|\n",
      "|[0.74300435438091...|\n",
      "+--------------------+\n",
      "only showing top 20 rows\n",
      "\n"
     ]
    }
   ],
   "source": [
    "output_scaled.select('features_scaled').show()"
   ]
  },
  {
   "cell_type": "code",
   "execution_count": 140,
   "id": "3ca24084",
   "metadata": {},
   "outputs": [
    {
     "data": {
      "text/plain": [
       "array([[[ 1.8575,  7.065 ,  5.7564,  4.5578, 71.2821, 11.4557]],\n",
       "\n",
       "       [[ 2.6005,  7.6085,  6.476 ,  3.9501, 71.2821,  9.3244]],\n",
       "\n",
       "       [[ 2.1547,  4.8912,  5.0369,  2.4308, 72.7368, 10.6565]],\n",
       "\n",
       "       ...,\n",
       "\n",
       "       [[ 2.6005,  4.6194,  4.3173,  5.7732, 71.2821, 11.4557]],\n",
       "\n",
       "       [[ 3.1949,  6.5215,  6.476 ,  5.4694, 71.2821,  9.3244]],\n",
       "\n",
       "       [[ 2.3776,  6.5215,  4.6771,  1.8231, 73.4642, 10.1236]]])"
      ]
     },
     "execution_count": 140,
     "metadata": {},
     "output_type": "execute_result"
    }
   ],
   "source": [
    "new=np.round(output_scaled.select('features_scaled').collect(), 4)\n",
    "new"
   ]
  },
  {
   "cell_type": "code",
   "execution_count": 154,
   "id": "b48c2904",
   "metadata": {},
   "outputs": [
    {
     "ename": "Py4JError",
     "evalue": "An error occurred while calling z:org.apache.spark.sql.functions.col. Trace:\npy4j.Py4JException: Method col([class java.util.ArrayList]) does not exist\n\tat py4j.reflection.ReflectionEngine.getMethod(ReflectionEngine.java:318)\n\tat py4j.reflection.ReflectionEngine.getMethod(ReflectionEngine.java:339)\n\tat py4j.Gateway.invoke(Gateway.java:276)\n\tat py4j.commands.AbstractCommand.invokeMethod(AbstractCommand.java:132)\n\tat py4j.commands.CallCommand.execute(CallCommand.java:79)\n\tat py4j.ClientServerConnection.waitForCommands(ClientServerConnection.java:182)\n\tat py4j.ClientServerConnection.run(ClientServerConnection.java:106)\n\tat java.base/java.lang.Thread.run(Thread.java:829)\n\n",
     "output_type": "error",
     "traceback": [
      "\u001b[0;31m---------------------------------------------------------------------------\u001b[0m",
      "\u001b[0;31mPy4JError\u001b[0m                                 Traceback (most recent call last)",
      "Input \u001b[0;32mIn [154]\u001b[0m, in \u001b[0;36m<cell line: 1>\u001b[0;34m()\u001b[0m\n\u001b[0;32m----> 1\u001b[0m output_scaled\u001b[38;5;241m=\u001b[39moutput_scaled\u001b[38;5;241m.\u001b[39mwithColumn(\u001b[38;5;124m'\u001b[39m\u001b[38;5;124mfeatures_rounded\u001b[39m\u001b[38;5;124m'\u001b[39m, \u001b[43mF\u001b[49m\u001b[38;5;241;43m.\u001b[39;49m\u001b[43mcol\u001b[49m\u001b[43m(\u001b[49m\u001b[43mnp\u001b[49m\u001b[38;5;241;43m.\u001b[39;49m\u001b[43mround\u001b[49m\u001b[43m(\u001b[49m\u001b[43moutput_scaled\u001b[49m\u001b[38;5;241;43m.\u001b[39;49m\u001b[43mselect\u001b[49m\u001b[43m(\u001b[49m\u001b[38;5;124;43m'\u001b[39;49m\u001b[38;5;124;43mfeatures_scaled\u001b[39;49m\u001b[38;5;124;43m'\u001b[39;49m\u001b[43m)\u001b[49m\u001b[38;5;241;43m.\u001b[39;49m\u001b[43mcollect\u001b[49m\u001b[43m(\u001b[49m\u001b[43m)\u001b[49m\u001b[43m,\u001b[49m\u001b[43m \u001b[49m\u001b[38;5;241;43m4\u001b[39;49m\u001b[43m)\u001b[49m\u001b[43m)\u001b[49m)\n",
      "File \u001b[0;32m~/spark-3.2.1-bin-hadoop2.7/python/pyspark/sql/functions.py:114\u001b[0m, in \u001b[0;36mcol\u001b[0;34m(col)\u001b[0m\n\u001b[1;32m    103\u001b[0m \u001b[38;5;129m@since\u001b[39m(\u001b[38;5;241m1.3\u001b[39m)\n\u001b[1;32m    104\u001b[0m \u001b[38;5;28;01mdef\u001b[39;00m \u001b[38;5;21mcol\u001b[39m(col):\n\u001b[1;32m    105\u001b[0m     \u001b[38;5;124;03m\"\"\"\u001b[39;00m\n\u001b[1;32m    106\u001b[0m \u001b[38;5;124;03m    Returns a :class:`~pyspark.sql.Column` based on the given column name.'\u001b[39;00m\n\u001b[1;32m    107\u001b[0m \u001b[38;5;124;03m    Examples\u001b[39;00m\n\u001b[0;32m   (...)\u001b[0m\n\u001b[1;32m    112\u001b[0m \u001b[38;5;124;03m    Column<'x'>\u001b[39;00m\n\u001b[1;32m    113\u001b[0m \u001b[38;5;124;03m    \"\"\"\u001b[39;00m\n\u001b[0;32m--> 114\u001b[0m     \u001b[38;5;28;01mreturn\u001b[39;00m \u001b[43m_invoke_function\u001b[49m\u001b[43m(\u001b[49m\u001b[38;5;124;43m\"\u001b[39;49m\u001b[38;5;124;43mcol\u001b[39;49m\u001b[38;5;124;43m\"\u001b[39;49m\u001b[43m,\u001b[49m\u001b[43m \u001b[49m\u001b[43mcol\u001b[49m\u001b[43m)\u001b[49m\n",
      "File \u001b[0;32m~/spark-3.2.1-bin-hadoop2.7/python/pyspark/sql/functions.py:58\u001b[0m, in \u001b[0;36m_invoke_function\u001b[0;34m(name, *args)\u001b[0m\n\u001b[1;32m     53\u001b[0m \u001b[38;5;124;03m\"\"\"\u001b[39;00m\n\u001b[1;32m     54\u001b[0m \u001b[38;5;124;03mInvokes JVM function identified by name with args\u001b[39;00m\n\u001b[1;32m     55\u001b[0m \u001b[38;5;124;03mand wraps the result with :class:`~pyspark.sql.Column`.\u001b[39;00m\n\u001b[1;32m     56\u001b[0m \u001b[38;5;124;03m\"\"\"\u001b[39;00m\n\u001b[1;32m     57\u001b[0m jf \u001b[38;5;241m=\u001b[39m _get_get_jvm_function(name, SparkContext\u001b[38;5;241m.\u001b[39m_active_spark_context)\n\u001b[0;32m---> 58\u001b[0m \u001b[38;5;28;01mreturn\u001b[39;00m Column(\u001b[43mjf\u001b[49m\u001b[43m(\u001b[49m\u001b[38;5;241;43m*\u001b[39;49m\u001b[43margs\u001b[49m\u001b[43m)\u001b[49m)\n",
      "File \u001b[0;32m~/spark-3.2.1-bin-hadoop2.7/python/lib/py4j-0.10.9.3-src.zip/py4j/java_gateway.py:1321\u001b[0m, in \u001b[0;36mJavaMember.__call__\u001b[0;34m(self, *args)\u001b[0m\n\u001b[1;32m   1315\u001b[0m command \u001b[38;5;241m=\u001b[39m proto\u001b[38;5;241m.\u001b[39mCALL_COMMAND_NAME \u001b[38;5;241m+\u001b[39m\\\n\u001b[1;32m   1316\u001b[0m     \u001b[38;5;28mself\u001b[39m\u001b[38;5;241m.\u001b[39mcommand_header \u001b[38;5;241m+\u001b[39m\\\n\u001b[1;32m   1317\u001b[0m     args_command \u001b[38;5;241m+\u001b[39m\\\n\u001b[1;32m   1318\u001b[0m     proto\u001b[38;5;241m.\u001b[39mEND_COMMAND_PART\n\u001b[1;32m   1320\u001b[0m answer \u001b[38;5;241m=\u001b[39m \u001b[38;5;28mself\u001b[39m\u001b[38;5;241m.\u001b[39mgateway_client\u001b[38;5;241m.\u001b[39msend_command(command)\n\u001b[0;32m-> 1321\u001b[0m return_value \u001b[38;5;241m=\u001b[39m \u001b[43mget_return_value\u001b[49m\u001b[43m(\u001b[49m\n\u001b[1;32m   1322\u001b[0m \u001b[43m    \u001b[49m\u001b[43manswer\u001b[49m\u001b[43m,\u001b[49m\u001b[43m \u001b[49m\u001b[38;5;28;43mself\u001b[39;49m\u001b[38;5;241;43m.\u001b[39;49m\u001b[43mgateway_client\u001b[49m\u001b[43m,\u001b[49m\u001b[43m \u001b[49m\u001b[38;5;28;43mself\u001b[39;49m\u001b[38;5;241;43m.\u001b[39;49m\u001b[43mtarget_id\u001b[49m\u001b[43m,\u001b[49m\u001b[43m \u001b[49m\u001b[38;5;28;43mself\u001b[39;49m\u001b[38;5;241;43m.\u001b[39;49m\u001b[43mname\u001b[49m\u001b[43m)\u001b[49m\n\u001b[1;32m   1324\u001b[0m \u001b[38;5;28;01mfor\u001b[39;00m temp_arg \u001b[38;5;129;01min\u001b[39;00m temp_args:\n\u001b[1;32m   1325\u001b[0m     temp_arg\u001b[38;5;241m.\u001b[39m_detach()\n",
      "File \u001b[0;32m~/spark-3.2.1-bin-hadoop2.7/python/pyspark/sql/utils.py:111\u001b[0m, in \u001b[0;36mcapture_sql_exception.<locals>.deco\u001b[0;34m(*a, **kw)\u001b[0m\n\u001b[1;32m    109\u001b[0m \u001b[38;5;28;01mdef\u001b[39;00m \u001b[38;5;21mdeco\u001b[39m(\u001b[38;5;241m*\u001b[39ma, \u001b[38;5;241m*\u001b[39m\u001b[38;5;241m*\u001b[39mkw):\n\u001b[1;32m    110\u001b[0m     \u001b[38;5;28;01mtry\u001b[39;00m:\n\u001b[0;32m--> 111\u001b[0m         \u001b[38;5;28;01mreturn\u001b[39;00m \u001b[43mf\u001b[49m\u001b[43m(\u001b[49m\u001b[38;5;241;43m*\u001b[39;49m\u001b[43ma\u001b[49m\u001b[43m,\u001b[49m\u001b[43m \u001b[49m\u001b[38;5;241;43m*\u001b[39;49m\u001b[38;5;241;43m*\u001b[39;49m\u001b[43mkw\u001b[49m\u001b[43m)\u001b[49m\n\u001b[1;32m    112\u001b[0m     \u001b[38;5;28;01mexcept\u001b[39;00m py4j\u001b[38;5;241m.\u001b[39mprotocol\u001b[38;5;241m.\u001b[39mPy4JJavaError \u001b[38;5;28;01mas\u001b[39;00m e:\n\u001b[1;32m    113\u001b[0m         converted \u001b[38;5;241m=\u001b[39m convert_exception(e\u001b[38;5;241m.\u001b[39mjava_exception)\n",
      "File \u001b[0;32m~/spark-3.2.1-bin-hadoop2.7/python/lib/py4j-0.10.9.3-src.zip/py4j/protocol.py:330\u001b[0m, in \u001b[0;36mget_return_value\u001b[0;34m(answer, gateway_client, target_id, name)\u001b[0m\n\u001b[1;32m    326\u001b[0m         \u001b[38;5;28;01mraise\u001b[39;00m Py4JJavaError(\n\u001b[1;32m    327\u001b[0m             \u001b[38;5;124m\"\u001b[39m\u001b[38;5;124mAn error occurred while calling \u001b[39m\u001b[38;5;132;01m{0}\u001b[39;00m\u001b[38;5;132;01m{1}\u001b[39;00m\u001b[38;5;132;01m{2}\u001b[39;00m\u001b[38;5;124m.\u001b[39m\u001b[38;5;130;01m\\n\u001b[39;00m\u001b[38;5;124m\"\u001b[39m\u001b[38;5;241m.\u001b[39m\n\u001b[1;32m    328\u001b[0m             \u001b[38;5;28mformat\u001b[39m(target_id, \u001b[38;5;124m\"\u001b[39m\u001b[38;5;124m.\u001b[39m\u001b[38;5;124m\"\u001b[39m, name), value)\n\u001b[1;32m    329\u001b[0m     \u001b[38;5;28;01melse\u001b[39;00m:\n\u001b[0;32m--> 330\u001b[0m         \u001b[38;5;28;01mraise\u001b[39;00m Py4JError(\n\u001b[1;32m    331\u001b[0m             \u001b[38;5;124m\"\u001b[39m\u001b[38;5;124mAn error occurred while calling \u001b[39m\u001b[38;5;132;01m{0}\u001b[39;00m\u001b[38;5;132;01m{1}\u001b[39;00m\u001b[38;5;132;01m{2}\u001b[39;00m\u001b[38;5;124m. Trace:\u001b[39m\u001b[38;5;130;01m\\n\u001b[39;00m\u001b[38;5;132;01m{3}\u001b[39;00m\u001b[38;5;130;01m\\n\u001b[39;00m\u001b[38;5;124m\"\u001b[39m\u001b[38;5;241m.\u001b[39m\n\u001b[1;32m    332\u001b[0m             \u001b[38;5;28mformat\u001b[39m(target_id, \u001b[38;5;124m\"\u001b[39m\u001b[38;5;124m.\u001b[39m\u001b[38;5;124m\"\u001b[39m, name, value))\n\u001b[1;32m    333\u001b[0m \u001b[38;5;28;01melse\u001b[39;00m:\n\u001b[1;32m    334\u001b[0m     \u001b[38;5;28;01mraise\u001b[39;00m Py4JError(\n\u001b[1;32m    335\u001b[0m         \u001b[38;5;124m\"\u001b[39m\u001b[38;5;124mAn error occurred while calling \u001b[39m\u001b[38;5;132;01m{0}\u001b[39;00m\u001b[38;5;132;01m{1}\u001b[39;00m\u001b[38;5;132;01m{2}\u001b[39;00m\u001b[38;5;124m\"\u001b[39m\u001b[38;5;241m.\u001b[39m\n\u001b[1;32m    336\u001b[0m         \u001b[38;5;28mformat\u001b[39m(target_id, \u001b[38;5;124m\"\u001b[39m\u001b[38;5;124m.\u001b[39m\u001b[38;5;124m\"\u001b[39m, name))\n",
      "\u001b[0;31mPy4JError\u001b[0m: An error occurred while calling z:org.apache.spark.sql.functions.col. Trace:\npy4j.Py4JException: Method col([class java.util.ArrayList]) does not exist\n\tat py4j.reflection.ReflectionEngine.getMethod(ReflectionEngine.java:318)\n\tat py4j.reflection.ReflectionEngine.getMethod(ReflectionEngine.java:339)\n\tat py4j.Gateway.invoke(Gateway.java:276)\n\tat py4j.commands.AbstractCommand.invokeMethod(AbstractCommand.java:132)\n\tat py4j.commands.CallCommand.execute(CallCommand.java:79)\n\tat py4j.ClientServerConnection.waitForCommands(ClientServerConnection.java:182)\n\tat py4j.ClientServerConnection.run(ClientServerConnection.java:106)\n\tat java.base/java.lang.Thread.run(Thread.java:829)\n\n"
     ]
    }
   ],
   "source": [
    "output_scaled=output_scaled.withColumn('features_rounded', F.col(np.round(output_scaled.select('features_scaled').collect(), 4)))"
   ]
  },
  {
   "cell_type": "code",
   "execution_count": 153,
   "id": "bd256bc4",
   "metadata": {},
   "outputs": [
    {
     "data": {
      "text/plain": [
       "[('Age', 'double'),\n",
       " ('SystolicBP', 'double'),\n",
       " ('DiastolicBP', 'double'),\n",
       " ('BS', 'double'),\n",
       " ('BodyTemp', 'double'),\n",
       " ('HeartRate', 'int'),\n",
       " ('RiskLevel', 'string'),\n",
       " ('RiskLevelIndex', 'int'),\n",
       " ('features', 'vector'),\n",
       " ('features_scaled', 'vector')]"
      ]
     },
     "execution_count": 153,
     "metadata": {},
     "output_type": "execute_result"
    }
   ],
   "source": [
    "output_scaled.dtypes"
   ]
  },
  {
   "cell_type": "code",
   "execution_count": 108,
   "id": "c60de5dc",
   "metadata": {},
   "outputs": [
    {
     "data": {
      "text/plain": [
       "array([[[ 1.8575,  7.065 ,  5.7564,  4.5578, 71.2821, 11.4557]],\n",
       "\n",
       "       [[ 2.6005,  7.6085,  6.476 ,  3.9501, 71.2821,  9.3244]],\n",
       "\n",
       "       [[ 2.1547,  4.8912,  5.0369,  2.4308, 72.7368, 10.6565]],\n",
       "\n",
       "       ...,\n",
       "\n",
       "       [[ 2.6005,  4.6194,  4.3173,  5.7732, 71.2821, 11.4557]],\n",
       "\n",
       "       [[ 3.1949,  6.5215,  6.476 ,  5.4694, 71.2821,  9.3244]],\n",
       "\n",
       "       [[ 2.3776,  6.5215,  4.6771,  1.8231, 73.4642, 10.1236]]])"
      ]
     },
     "execution_count": 108,
     "metadata": {},
     "output_type": "execute_result"
    }
   ],
   "source": [
    "np.round(output_scaled.select('features_scaled').collect(), 4)\n",
    "\n",
    "#*', np.round('features_scaled',decimals=2)).show()"
   ]
  },
  {
   "cell_type": "code",
   "execution_count": 99,
   "id": "313db5a2",
   "metadata": {},
   "outputs": [
    {
     "ename": "TypeError",
     "evalue": "type str doesn't define __round__ method",
     "output_type": "error",
     "traceback": [
      "\u001b[0;31m---------------------------------------------------------------------------\u001b[0m",
      "\u001b[0;31mTypeError\u001b[0m                                 Traceback (most recent call last)",
      "Input \u001b[0;32mIn [99]\u001b[0m, in \u001b[0;36m<cell line: 1>\u001b[0;34m()\u001b[0m\n\u001b[0;32m----> 1\u001b[0m output_scaled\u001b[38;5;241m.\u001b[39mselect(\u001b[38;5;124m'\u001b[39m\u001b[38;5;124mfeatures_scaled\u001b[39m\u001b[38;5;124m'\u001b[39m,\u001b[38;5;28;43mround\u001b[39;49m\u001b[43m(\u001b[49m\u001b[38;5;124;43m\"\u001b[39;49m\u001b[38;5;124;43mID\u001b[39;49m\u001b[38;5;124;43m\"\u001b[39;49m\u001b[43m,\u001b[49m\u001b[38;5;241;43m2\u001b[39;49m\u001b[43m)\u001b[49m)\u001b[38;5;241m.\u001b[39mshow()\n",
      "\u001b[0;31mTypeError\u001b[0m: type str doesn't define __round__ method"
     ]
    }
   ],
   "source": [
    "output_scaled.select('features_scaled',round(\"ID\",2)).show()"
   ]
  },
  {
   "cell_type": "code",
   "execution_count": 58,
   "id": "b6b88bcd",
   "metadata": {},
   "outputs": [],
   "source": [
    "from pyspark.ml.feature import StandardScaler\n",
    "standardScaler = StandardScaler()\n",
    "assembler = VectorAssembler(\n",
    "    inputCols=['Age'],\n",
    "    outputCol=\"age_features\")\n",
    "output=assembler.transform(data)\n",
    "standardScaler.setInputCol('age_features')\n",
    "model = standardScaler.fit(output)\n",
    "model.setOutputCol('age_scaled')\n",
    "output_scaled=model.transform(output)"
   ]
  },
  {
   "cell_type": "code",
   "execution_count": 59,
   "id": "1a1d0974",
   "metadata": {},
   "outputs": [
    {
     "name": "stdout",
     "output_type": "stream",
     "text": [
      "+----+----------+-----------+----+--------+---------+---------+--------------+------------+\n",
      "| Age|SystolicBP|DiastolicBP|  BS|BodyTemp|HeartRate|RiskLevel|RiskLevelIndex|age_features|\n",
      "+----+----------+-----------+----+--------+---------+---------+--------------+------------+\n",
      "|25.0|     130.0|       80.0|15.0|    98.0|       86|high risk|             2|      [25.0]|\n",
      "|35.0|     140.0|       90.0|13.0|    98.0|       70|high risk|             2|      [35.0]|\n",
      "|29.0|      90.0|       70.0| 8.0|   100.0|       80|high risk|             2|      [29.0]|\n",
      "|30.0|     140.0|       85.0| 7.0|    98.0|       70|high risk|             2|      [30.0]|\n",
      "|35.0|     120.0|       60.0| 6.1|    98.0|       76| low risk|             0|      [35.0]|\n",
      "+----+----------+-----------+----+--------+---------+---------+--------------+------------+\n",
      "only showing top 5 rows\n",
      "\n"
     ]
    }
   ],
   "source": [
    "output.show(5)"
   ]
  },
  {
   "cell_type": "code",
   "execution_count": 60,
   "id": "1d44e833",
   "metadata": {},
   "outputs": [
    {
     "ename": "IllegalArgumentException",
     "evalue": "features does not exist. Available: Age, SystolicBP, DiastolicBP, BS, BodyTemp, HeartRate, RiskLevel, RiskLevelIndex, age_features",
     "output_type": "error",
     "traceback": [
      "\u001b[0;31m---------------------------------------------------------------------------\u001b[0m",
      "\u001b[0;31mIllegalArgumentException\u001b[0m                  Traceback (most recent call last)",
      "Input \u001b[0;32mIn [60]\u001b[0m, in \u001b[0;36m<cell line: 2>\u001b[0;34m()\u001b[0m\n\u001b[1;32m      1\u001b[0m standardScaler\u001b[38;5;241m.\u001b[39msetInputCol(\u001b[38;5;124m'\u001b[39m\u001b[38;5;124mfeatures\u001b[39m\u001b[38;5;124m'\u001b[39m)\n\u001b[0;32m----> 2\u001b[0m model\u001b[38;5;241m=\u001b[39m\u001b[43mstandardScaler\u001b[49m\u001b[38;5;241;43m.\u001b[39;49m\u001b[43mfit\u001b[49m\u001b[43m(\u001b[49m\u001b[43moutput\u001b[49m\u001b[43m)\u001b[49m\n",
      "File \u001b[0;32m~/spark-3.2.1-bin-hadoop2.7/python/pyspark/ml/base.py:161\u001b[0m, in \u001b[0;36mEstimator.fit\u001b[0;34m(self, dataset, params)\u001b[0m\n\u001b[1;32m    159\u001b[0m         \u001b[38;5;28;01mreturn\u001b[39;00m \u001b[38;5;28mself\u001b[39m\u001b[38;5;241m.\u001b[39mcopy(params)\u001b[38;5;241m.\u001b[39m_fit(dataset)\n\u001b[1;32m    160\u001b[0m     \u001b[38;5;28;01melse\u001b[39;00m:\n\u001b[0;32m--> 161\u001b[0m         \u001b[38;5;28;01mreturn\u001b[39;00m \u001b[38;5;28;43mself\u001b[39;49m\u001b[38;5;241;43m.\u001b[39;49m\u001b[43m_fit\u001b[49m\u001b[43m(\u001b[49m\u001b[43mdataset\u001b[49m\u001b[43m)\u001b[49m\n\u001b[1;32m    162\u001b[0m \u001b[38;5;28;01melse\u001b[39;00m:\n\u001b[1;32m    163\u001b[0m     \u001b[38;5;28;01mraise\u001b[39;00m \u001b[38;5;167;01mTypeError\u001b[39;00m(\u001b[38;5;124m\"\u001b[39m\u001b[38;5;124mParams must be either a param map or a list/tuple of param maps, \u001b[39m\u001b[38;5;124m\"\u001b[39m\n\u001b[1;32m    164\u001b[0m                     \u001b[38;5;124m\"\u001b[39m\u001b[38;5;124mbut got \u001b[39m\u001b[38;5;132;01m%s\u001b[39;00m\u001b[38;5;124m.\u001b[39m\u001b[38;5;124m\"\u001b[39m \u001b[38;5;241m%\u001b[39m \u001b[38;5;28mtype\u001b[39m(params))\n",
      "File \u001b[0;32m~/spark-3.2.1-bin-hadoop2.7/python/pyspark/ml/wrapper.py:335\u001b[0m, in \u001b[0;36mJavaEstimator._fit\u001b[0;34m(self, dataset)\u001b[0m\n\u001b[1;32m    334\u001b[0m \u001b[38;5;28;01mdef\u001b[39;00m \u001b[38;5;21m_fit\u001b[39m(\u001b[38;5;28mself\u001b[39m, dataset):\n\u001b[0;32m--> 335\u001b[0m     java_model \u001b[38;5;241m=\u001b[39m \u001b[38;5;28;43mself\u001b[39;49m\u001b[38;5;241;43m.\u001b[39;49m\u001b[43m_fit_java\u001b[49m\u001b[43m(\u001b[49m\u001b[43mdataset\u001b[49m\u001b[43m)\u001b[49m\n\u001b[1;32m    336\u001b[0m     model \u001b[38;5;241m=\u001b[39m \u001b[38;5;28mself\u001b[39m\u001b[38;5;241m.\u001b[39m_create_model(java_model)\n\u001b[1;32m    337\u001b[0m     \u001b[38;5;28;01mreturn\u001b[39;00m \u001b[38;5;28mself\u001b[39m\u001b[38;5;241m.\u001b[39m_copyValues(model)\n",
      "File \u001b[0;32m~/spark-3.2.1-bin-hadoop2.7/python/pyspark/ml/wrapper.py:332\u001b[0m, in \u001b[0;36mJavaEstimator._fit_java\u001b[0;34m(self, dataset)\u001b[0m\n\u001b[1;32m    318\u001b[0m \u001b[38;5;124;03m\"\"\"\u001b[39;00m\n\u001b[1;32m    319\u001b[0m \u001b[38;5;124;03mFits a Java model to the input dataset.\u001b[39;00m\n\u001b[1;32m    320\u001b[0m \n\u001b[0;32m   (...)\u001b[0m\n\u001b[1;32m    329\u001b[0m \u001b[38;5;124;03m    fitted Java model\u001b[39;00m\n\u001b[1;32m    330\u001b[0m \u001b[38;5;124;03m\"\"\"\u001b[39;00m\n\u001b[1;32m    331\u001b[0m \u001b[38;5;28mself\u001b[39m\u001b[38;5;241m.\u001b[39m_transfer_params_to_java()\n\u001b[0;32m--> 332\u001b[0m \u001b[38;5;28;01mreturn\u001b[39;00m \u001b[38;5;28;43mself\u001b[39;49m\u001b[38;5;241;43m.\u001b[39;49m\u001b[43m_java_obj\u001b[49m\u001b[38;5;241;43m.\u001b[39;49m\u001b[43mfit\u001b[49m\u001b[43m(\u001b[49m\u001b[43mdataset\u001b[49m\u001b[38;5;241;43m.\u001b[39;49m\u001b[43m_jdf\u001b[49m\u001b[43m)\u001b[49m\n",
      "File \u001b[0;32m~/spark-3.2.1-bin-hadoop2.7/python/lib/py4j-0.10.9.3-src.zip/py4j/java_gateway.py:1321\u001b[0m, in \u001b[0;36mJavaMember.__call__\u001b[0;34m(self, *args)\u001b[0m\n\u001b[1;32m   1315\u001b[0m command \u001b[38;5;241m=\u001b[39m proto\u001b[38;5;241m.\u001b[39mCALL_COMMAND_NAME \u001b[38;5;241m+\u001b[39m\\\n\u001b[1;32m   1316\u001b[0m     \u001b[38;5;28mself\u001b[39m\u001b[38;5;241m.\u001b[39mcommand_header \u001b[38;5;241m+\u001b[39m\\\n\u001b[1;32m   1317\u001b[0m     args_command \u001b[38;5;241m+\u001b[39m\\\n\u001b[1;32m   1318\u001b[0m     proto\u001b[38;5;241m.\u001b[39mEND_COMMAND_PART\n\u001b[1;32m   1320\u001b[0m answer \u001b[38;5;241m=\u001b[39m \u001b[38;5;28mself\u001b[39m\u001b[38;5;241m.\u001b[39mgateway_client\u001b[38;5;241m.\u001b[39msend_command(command)\n\u001b[0;32m-> 1321\u001b[0m return_value \u001b[38;5;241m=\u001b[39m \u001b[43mget_return_value\u001b[49m\u001b[43m(\u001b[49m\n\u001b[1;32m   1322\u001b[0m \u001b[43m    \u001b[49m\u001b[43manswer\u001b[49m\u001b[43m,\u001b[49m\u001b[43m \u001b[49m\u001b[38;5;28;43mself\u001b[39;49m\u001b[38;5;241;43m.\u001b[39;49m\u001b[43mgateway_client\u001b[49m\u001b[43m,\u001b[49m\u001b[43m \u001b[49m\u001b[38;5;28;43mself\u001b[39;49m\u001b[38;5;241;43m.\u001b[39;49m\u001b[43mtarget_id\u001b[49m\u001b[43m,\u001b[49m\u001b[43m \u001b[49m\u001b[38;5;28;43mself\u001b[39;49m\u001b[38;5;241;43m.\u001b[39;49m\u001b[43mname\u001b[49m\u001b[43m)\u001b[49m\n\u001b[1;32m   1324\u001b[0m \u001b[38;5;28;01mfor\u001b[39;00m temp_arg \u001b[38;5;129;01min\u001b[39;00m temp_args:\n\u001b[1;32m   1325\u001b[0m     temp_arg\u001b[38;5;241m.\u001b[39m_detach()\n",
      "File \u001b[0;32m~/spark-3.2.1-bin-hadoop2.7/python/pyspark/sql/utils.py:117\u001b[0m, in \u001b[0;36mcapture_sql_exception.<locals>.deco\u001b[0;34m(*a, **kw)\u001b[0m\n\u001b[1;32m    113\u001b[0m converted \u001b[38;5;241m=\u001b[39m convert_exception(e\u001b[38;5;241m.\u001b[39mjava_exception)\n\u001b[1;32m    114\u001b[0m \u001b[38;5;28;01mif\u001b[39;00m \u001b[38;5;129;01mnot\u001b[39;00m \u001b[38;5;28misinstance\u001b[39m(converted, UnknownException):\n\u001b[1;32m    115\u001b[0m     \u001b[38;5;66;03m# Hide where the exception came from that shows a non-Pythonic\u001b[39;00m\n\u001b[1;32m    116\u001b[0m     \u001b[38;5;66;03m# JVM exception message.\u001b[39;00m\n\u001b[0;32m--> 117\u001b[0m     \u001b[38;5;28;01mraise\u001b[39;00m converted \u001b[38;5;28;01mfrom\u001b[39;00m \u001b[38;5;28mNone\u001b[39m\n\u001b[1;32m    118\u001b[0m \u001b[38;5;28;01melse\u001b[39;00m:\n\u001b[1;32m    119\u001b[0m     \u001b[38;5;28;01mraise\u001b[39;00m\n",
      "\u001b[0;31mIllegalArgumentException\u001b[0m: features does not exist. Available: Age, SystolicBP, DiastolicBP, BS, BodyTemp, HeartRate, RiskLevel, RiskLevelIndex, age_features"
     ]
    }
   ],
   "source": [
    "standardScaler.setInputCol('features')\n",
    "model=standardScaler.fit(output)"
   ]
  },
  {
   "cell_type": "code",
   "execution_count": 104,
   "id": "551d59cf",
   "metadata": {},
   "outputs": [
    {
     "ename": "IllegalArgumentException",
     "evalue": "requirement failed: Output column riskLevel already exists.",
     "output_type": "error",
     "traceback": [
      "\u001b[0;31m---------------------------------------------------------------------------\u001b[0m",
      "\u001b[0;31mIllegalArgumentException\u001b[0m                  Traceback (most recent call last)",
      "Input \u001b[0;32mIn [104]\u001b[0m, in \u001b[0;36m<cell line: 1>\u001b[0;34m()\u001b[0m\n\u001b[0;32m----> 1\u001b[0m \u001b[43mPipeline\u001b[49m\u001b[43m(\u001b[49m\u001b[43mstages\u001b[49m\u001b[38;5;241;43m=\u001b[39;49m\u001b[43mstages\u001b[49m\u001b[43m)\u001b[49m\u001b[38;5;241;43m.\u001b[39;49m\u001b[43mfit\u001b[49m\u001b[43m(\u001b[49m\u001b[43mdf\u001b[49m\u001b[43m)\u001b[49m\u001b[38;5;241m.\u001b[39mtransform(df)\u001b[38;5;241m.\u001b[39mschema[\u001b[38;5;124m\"\u001b[39m\u001b[38;5;124mfeatures\u001b[39m\u001b[38;5;124m\"\u001b[39m]\u001b[38;5;241m.\u001b[39mmetadata\n",
      "File \u001b[0;32m~/spark-3.2.1-bin-hadoop2.7/python/pyspark/ml/base.py:161\u001b[0m, in \u001b[0;36mEstimator.fit\u001b[0;34m(self, dataset, params)\u001b[0m\n\u001b[1;32m    159\u001b[0m         \u001b[38;5;28;01mreturn\u001b[39;00m \u001b[38;5;28mself\u001b[39m\u001b[38;5;241m.\u001b[39mcopy(params)\u001b[38;5;241m.\u001b[39m_fit(dataset)\n\u001b[1;32m    160\u001b[0m     \u001b[38;5;28;01melse\u001b[39;00m:\n\u001b[0;32m--> 161\u001b[0m         \u001b[38;5;28;01mreturn\u001b[39;00m \u001b[38;5;28;43mself\u001b[39;49m\u001b[38;5;241;43m.\u001b[39;49m\u001b[43m_fit\u001b[49m\u001b[43m(\u001b[49m\u001b[43mdataset\u001b[49m\u001b[43m)\u001b[49m\n\u001b[1;32m    162\u001b[0m \u001b[38;5;28;01melse\u001b[39;00m:\n\u001b[1;32m    163\u001b[0m     \u001b[38;5;28;01mraise\u001b[39;00m \u001b[38;5;167;01mTypeError\u001b[39;00m(\u001b[38;5;124m\"\u001b[39m\u001b[38;5;124mParams must be either a param map or a list/tuple of param maps, \u001b[39m\u001b[38;5;124m\"\u001b[39m\n\u001b[1;32m    164\u001b[0m                     \u001b[38;5;124m\"\u001b[39m\u001b[38;5;124mbut got \u001b[39m\u001b[38;5;132;01m%s\u001b[39;00m\u001b[38;5;124m.\u001b[39m\u001b[38;5;124m\"\u001b[39m \u001b[38;5;241m%\u001b[39m \u001b[38;5;28mtype\u001b[39m(params))\n",
      "File \u001b[0;32m~/spark-3.2.1-bin-hadoop2.7/python/pyspark/ml/pipeline.py:114\u001b[0m, in \u001b[0;36mPipeline._fit\u001b[0;34m(self, dataset)\u001b[0m\n\u001b[1;32m    112\u001b[0m     dataset \u001b[38;5;241m=\u001b[39m stage\u001b[38;5;241m.\u001b[39mtransform(dataset)\n\u001b[1;32m    113\u001b[0m \u001b[38;5;28;01melse\u001b[39;00m:  \u001b[38;5;66;03m# must be an Estimator\u001b[39;00m\n\u001b[0;32m--> 114\u001b[0m     model \u001b[38;5;241m=\u001b[39m \u001b[43mstage\u001b[49m\u001b[38;5;241;43m.\u001b[39;49m\u001b[43mfit\u001b[49m\u001b[43m(\u001b[49m\u001b[43mdataset\u001b[49m\u001b[43m)\u001b[49m\n\u001b[1;32m    115\u001b[0m     transformers\u001b[38;5;241m.\u001b[39mappend(model)\n\u001b[1;32m    116\u001b[0m     \u001b[38;5;28;01mif\u001b[39;00m i \u001b[38;5;241m<\u001b[39m indexOfLastEstimator:\n",
      "File \u001b[0;32m~/spark-3.2.1-bin-hadoop2.7/python/pyspark/ml/base.py:161\u001b[0m, in \u001b[0;36mEstimator.fit\u001b[0;34m(self, dataset, params)\u001b[0m\n\u001b[1;32m    159\u001b[0m         \u001b[38;5;28;01mreturn\u001b[39;00m \u001b[38;5;28mself\u001b[39m\u001b[38;5;241m.\u001b[39mcopy(params)\u001b[38;5;241m.\u001b[39m_fit(dataset)\n\u001b[1;32m    160\u001b[0m     \u001b[38;5;28;01melse\u001b[39;00m:\n\u001b[0;32m--> 161\u001b[0m         \u001b[38;5;28;01mreturn\u001b[39;00m \u001b[38;5;28;43mself\u001b[39;49m\u001b[38;5;241;43m.\u001b[39;49m\u001b[43m_fit\u001b[49m\u001b[43m(\u001b[49m\u001b[43mdataset\u001b[49m\u001b[43m)\u001b[49m\n\u001b[1;32m    162\u001b[0m \u001b[38;5;28;01melse\u001b[39;00m:\n\u001b[1;32m    163\u001b[0m     \u001b[38;5;28;01mraise\u001b[39;00m \u001b[38;5;167;01mTypeError\u001b[39;00m(\u001b[38;5;124m\"\u001b[39m\u001b[38;5;124mParams must be either a param map or a list/tuple of param maps, \u001b[39m\u001b[38;5;124m\"\u001b[39m\n\u001b[1;32m    164\u001b[0m                     \u001b[38;5;124m\"\u001b[39m\u001b[38;5;124mbut got \u001b[39m\u001b[38;5;132;01m%s\u001b[39;00m\u001b[38;5;124m.\u001b[39m\u001b[38;5;124m\"\u001b[39m \u001b[38;5;241m%\u001b[39m \u001b[38;5;28mtype\u001b[39m(params))\n",
      "File \u001b[0;32m~/spark-3.2.1-bin-hadoop2.7/python/pyspark/ml/wrapper.py:335\u001b[0m, in \u001b[0;36mJavaEstimator._fit\u001b[0;34m(self, dataset)\u001b[0m\n\u001b[1;32m    334\u001b[0m \u001b[38;5;28;01mdef\u001b[39;00m \u001b[38;5;21m_fit\u001b[39m(\u001b[38;5;28mself\u001b[39m, dataset):\n\u001b[0;32m--> 335\u001b[0m     java_model \u001b[38;5;241m=\u001b[39m \u001b[38;5;28;43mself\u001b[39;49m\u001b[38;5;241;43m.\u001b[39;49m\u001b[43m_fit_java\u001b[49m\u001b[43m(\u001b[49m\u001b[43mdataset\u001b[49m\u001b[43m)\u001b[49m\n\u001b[1;32m    336\u001b[0m     model \u001b[38;5;241m=\u001b[39m \u001b[38;5;28mself\u001b[39m\u001b[38;5;241m.\u001b[39m_create_model(java_model)\n\u001b[1;32m    337\u001b[0m     \u001b[38;5;28;01mreturn\u001b[39;00m \u001b[38;5;28mself\u001b[39m\u001b[38;5;241m.\u001b[39m_copyValues(model)\n",
      "File \u001b[0;32m~/spark-3.2.1-bin-hadoop2.7/python/pyspark/ml/wrapper.py:332\u001b[0m, in \u001b[0;36mJavaEstimator._fit_java\u001b[0;34m(self, dataset)\u001b[0m\n\u001b[1;32m    318\u001b[0m \u001b[38;5;124;03m\"\"\"\u001b[39;00m\n\u001b[1;32m    319\u001b[0m \u001b[38;5;124;03mFits a Java model to the input dataset.\u001b[39;00m\n\u001b[1;32m    320\u001b[0m \n\u001b[0;32m   (...)\u001b[0m\n\u001b[1;32m    329\u001b[0m \u001b[38;5;124;03m    fitted Java model\u001b[39;00m\n\u001b[1;32m    330\u001b[0m \u001b[38;5;124;03m\"\"\"\u001b[39;00m\n\u001b[1;32m    331\u001b[0m \u001b[38;5;28mself\u001b[39m\u001b[38;5;241m.\u001b[39m_transfer_params_to_java()\n\u001b[0;32m--> 332\u001b[0m \u001b[38;5;28;01mreturn\u001b[39;00m \u001b[38;5;28;43mself\u001b[39;49m\u001b[38;5;241;43m.\u001b[39;49m\u001b[43m_java_obj\u001b[49m\u001b[38;5;241;43m.\u001b[39;49m\u001b[43mfit\u001b[49m\u001b[43m(\u001b[49m\u001b[43mdataset\u001b[49m\u001b[38;5;241;43m.\u001b[39;49m\u001b[43m_jdf\u001b[49m\u001b[43m)\u001b[49m\n",
      "File \u001b[0;32m~/spark-3.2.1-bin-hadoop2.7/python/lib/py4j-0.10.9.3-src.zip/py4j/java_gateway.py:1321\u001b[0m, in \u001b[0;36mJavaMember.__call__\u001b[0;34m(self, *args)\u001b[0m\n\u001b[1;32m   1315\u001b[0m command \u001b[38;5;241m=\u001b[39m proto\u001b[38;5;241m.\u001b[39mCALL_COMMAND_NAME \u001b[38;5;241m+\u001b[39m\\\n\u001b[1;32m   1316\u001b[0m     \u001b[38;5;28mself\u001b[39m\u001b[38;5;241m.\u001b[39mcommand_header \u001b[38;5;241m+\u001b[39m\\\n\u001b[1;32m   1317\u001b[0m     args_command \u001b[38;5;241m+\u001b[39m\\\n\u001b[1;32m   1318\u001b[0m     proto\u001b[38;5;241m.\u001b[39mEND_COMMAND_PART\n\u001b[1;32m   1320\u001b[0m answer \u001b[38;5;241m=\u001b[39m \u001b[38;5;28mself\u001b[39m\u001b[38;5;241m.\u001b[39mgateway_client\u001b[38;5;241m.\u001b[39msend_command(command)\n\u001b[0;32m-> 1321\u001b[0m return_value \u001b[38;5;241m=\u001b[39m \u001b[43mget_return_value\u001b[49m\u001b[43m(\u001b[49m\n\u001b[1;32m   1322\u001b[0m \u001b[43m    \u001b[49m\u001b[43manswer\u001b[49m\u001b[43m,\u001b[49m\u001b[43m \u001b[49m\u001b[38;5;28;43mself\u001b[39;49m\u001b[38;5;241;43m.\u001b[39;49m\u001b[43mgateway_client\u001b[49m\u001b[43m,\u001b[49m\u001b[43m \u001b[49m\u001b[38;5;28;43mself\u001b[39;49m\u001b[38;5;241;43m.\u001b[39;49m\u001b[43mtarget_id\u001b[49m\u001b[43m,\u001b[49m\u001b[43m \u001b[49m\u001b[38;5;28;43mself\u001b[39;49m\u001b[38;5;241;43m.\u001b[39;49m\u001b[43mname\u001b[49m\u001b[43m)\u001b[49m\n\u001b[1;32m   1324\u001b[0m \u001b[38;5;28;01mfor\u001b[39;00m temp_arg \u001b[38;5;129;01min\u001b[39;00m temp_args:\n\u001b[1;32m   1325\u001b[0m     temp_arg\u001b[38;5;241m.\u001b[39m_detach()\n",
      "File \u001b[0;32m~/spark-3.2.1-bin-hadoop2.7/python/pyspark/sql/utils.py:117\u001b[0m, in \u001b[0;36mcapture_sql_exception.<locals>.deco\u001b[0;34m(*a, **kw)\u001b[0m\n\u001b[1;32m    113\u001b[0m converted \u001b[38;5;241m=\u001b[39m convert_exception(e\u001b[38;5;241m.\u001b[39mjava_exception)\n\u001b[1;32m    114\u001b[0m \u001b[38;5;28;01mif\u001b[39;00m \u001b[38;5;129;01mnot\u001b[39;00m \u001b[38;5;28misinstance\u001b[39m(converted, UnknownException):\n\u001b[1;32m    115\u001b[0m     \u001b[38;5;66;03m# Hide where the exception came from that shows a non-Pythonic\u001b[39;00m\n\u001b[1;32m    116\u001b[0m     \u001b[38;5;66;03m# JVM exception message.\u001b[39;00m\n\u001b[0;32m--> 117\u001b[0m     \u001b[38;5;28;01mraise\u001b[39;00m converted \u001b[38;5;28;01mfrom\u001b[39;00m \u001b[38;5;28mNone\u001b[39m\n\u001b[1;32m    118\u001b[0m \u001b[38;5;28;01melse\u001b[39;00m:\n\u001b[1;32m    119\u001b[0m     \u001b[38;5;28;01mraise\u001b[39;00m\n",
      "\u001b[0;31mIllegalArgumentException\u001b[0m: requirement failed: Output column riskLevel already exists."
     ]
    }
   ],
   "source": [
    "Pipeline(stages=stages).fit(df).transform(df).schema[\"features\"].metadata"
   ]
  },
  {
   "cell_type": "code",
   "execution_count": 25,
   "id": "d0d9384f",
   "metadata": {},
   "outputs": [],
   "source": [
    "from pyspark.ml.classification import DecisionTreeClassifier\n",
    "from pyspark.ml.feature import VectorAssembler"
   ]
  },
  {
   "cell_type": "code",
   "execution_count": 26,
   "id": "e2497029",
   "metadata": {},
   "outputs": [],
   "source": [
    "x=data.columns[0:6]"
   ]
  },
  {
   "cell_type": "code",
   "execution_count": 27,
   "id": "9925fda3",
   "metadata": {},
   "outputs": [
    {
     "data": {
      "text/plain": [
       "['Age',\n",
       " 'SystolicBP',\n",
       " 'DiastolicBP',\n",
       " 'bloodsugar',\n",
       " 'bodyTemp',\n",
       " 'heartRate',\n",
       " 'riskLevel']"
      ]
     },
     "execution_count": 27,
     "metadata": {},
     "output_type": "execute_result"
    }
   ],
   "source": [
    "import pandas as pd\n",
    "data.columns[0:7]"
   ]
  },
  {
   "cell_type": "code",
   "execution_count": 28,
   "id": "d41e25e9",
   "metadata": {},
   "outputs": [
    {
     "name": "stdout",
     "output_type": "stream",
     "text": [
      "+---+----------+-----------+----------+--------+---------+---------+\n",
      "|Age|SystolicBP|DiastolicBP|bloodsugar|bodyTemp|heartRate|riskLevel|\n",
      "+---+----------+-----------+----------+--------+---------+---------+\n",
      "| 25|       130|         80|      15.0|    98.0|       86|high risk|\n",
      "| 35|       140|         90|      13.0|    98.0|       70|high risk|\n",
      "| 29|        90|         70|       8.0|   100.0|       80|high risk|\n",
      "| 30|       140|         85|       7.0|    98.0|       70|high risk|\n",
      "| 35|       120|         60|       6.1|    98.0|       76| low risk|\n",
      "| 23|       140|         80|      7.01|    98.0|       70|high risk|\n",
      "| 23|       130|         70|      7.01|    98.0|       78| mid risk|\n",
      "| 35|        85|         60|      11.0|   102.0|       86|high risk|\n",
      "| 32|       120|         90|       6.9|    98.0|       70| mid risk|\n",
      "| 42|       130|         80|      18.0|    98.0|       70|high risk|\n",
      "| 23|        90|         60|      7.01|    98.0|       76| low risk|\n",
      "| 19|       120|         80|       7.0|    98.0|       70| mid risk|\n",
      "| 25|       110|         89|      7.01|    98.0|       77| low risk|\n",
      "| 20|       120|         75|      7.01|   100.0|       70| mid risk|\n",
      "| 48|       120|         80|      11.0|    98.0|       88| mid risk|\n",
      "| 15|       120|         80|      7.01|    98.0|       70| low risk|\n",
      "| 15|       110|         90|      7.02|    98.0|       70|         |\n",
      "| 50|       140|         90|      15.0|    98.0|       90|high risk|\n",
      "| 25|       140|        100|      7.01|    98.0|       80|high risk|\n",
      "| 30|       120|         80|       6.9|   101.0|       76| mid risk|\n",
      "+---+----------+-----------+----------+--------+---------+---------+\n",
      "only showing top 20 rows\n",
      "\n"
     ]
    }
   ],
   "source": [
    "df_data=data.select(data.columns[0:7])\n",
    "df_data.show()"
   ]
  },
  {
   "cell_type": "code",
   "execution_count": 29,
   "id": "803b78a6",
   "metadata": {},
   "outputs": [
    {
     "name": "stdout",
     "output_type": "stream",
     "text": [
      "+---+----------+-----------+----------+--------+---------+---------+\n",
      "|Age|SystolicBP|DiastolicBP|bloodsugar|bodyTemp|heartRate|riskLevel|\n",
      "+---+----------+-----------+----------+--------+---------+---------+\n",
      "| 25|       130|         80|      15.0|    98.0|       86|high risk|\n",
      "| 35|       140|         90|      13.0|    98.0|       70|high risk|\n",
      "| 29|        90|         70|       8.0|   100.0|       80|high risk|\n",
      "+---+----------+-----------+----------+--------+---------+---------+\n",
      "only showing top 3 rows\n",
      "\n"
     ]
    }
   ],
   "source": [
    "df_data=data.select(data.columns[0:7])\n",
    "df_data.show(3)"
   ]
  },
  {
   "cell_type": "code",
   "execution_count": 30,
   "id": "cec01c35",
   "metadata": {},
   "outputs": [
    {
     "name": "stderr",
     "output_type": "stream",
     "text": [
      "                                                                                \r"
     ]
    },
    {
     "name": "stdout",
     "output_type": "stream",
     "text": [
      "+---+----------+-----------+----------+--------+---------+---------+--------------+\n",
      "|Age|SystolicBP|DiastolicBP|bloodsugar|bodyTemp|heartRate|riskLevel|riskLevelIndex|\n",
      "+---+----------+-----------+----------+--------+---------+---------+--------------+\n",
      "| 25|       130|         80|      15.0|    98.0|       86|high risk|           2.0|\n",
      "| 35|       140|         90|      13.0|    98.0|       70|high risk|           2.0|\n",
      "| 29|        90|         70|       8.0|   100.0|       80|high risk|           2.0|\n",
      "| 30|       140|         85|       7.0|    98.0|       70|high risk|           2.0|\n",
      "| 35|       120|         60|       6.1|    98.0|       76| low risk|           0.0|\n",
      "| 23|       140|         80|      7.01|    98.0|       70|high risk|           2.0|\n",
      "| 23|       130|         70|      7.01|    98.0|       78| mid risk|           1.0|\n",
      "| 35|        85|         60|      11.0|   102.0|       86|high risk|           2.0|\n",
      "| 32|       120|         90|       6.9|    98.0|       70| mid risk|           1.0|\n",
      "| 42|       130|         80|      18.0|    98.0|       70|high risk|           2.0|\n",
      "| 23|        90|         60|      7.01|    98.0|       76| low risk|           0.0|\n",
      "| 19|       120|         80|       7.0|    98.0|       70| mid risk|           1.0|\n",
      "| 25|       110|         89|      7.01|    98.0|       77| low risk|           0.0|\n",
      "| 20|       120|         75|      7.01|   100.0|       70| mid risk|           1.0|\n",
      "| 48|       120|         80|      11.0|    98.0|       88| mid risk|           1.0|\n",
      "| 15|       120|         80|      7.01|    98.0|       70| low risk|           0.0|\n",
      "| 15|       110|         90|      7.02|    98.0|       70|         |           3.0|\n",
      "| 50|       140|         90|      15.0|    98.0|       90|high risk|           2.0|\n",
      "| 25|       140|        100|      7.01|    98.0|       80|high risk|           2.0|\n",
      "| 30|       120|         80|       6.9|   101.0|       76| mid risk|           1.0|\n",
      "+---+----------+-----------+----------+--------+---------+---------+--------------+\n",
      "only showing top 20 rows\n",
      "\n"
     ]
    }
   ],
   "source": [
    "from pyspark.ml.feature import StringIndexer\n",
    "indexer = StringIndexer(inputCol=\"riskLevel\", outputCol=\"riskLevelIndex\")\n",
    "indexed = indexer.fit(df_data).transform(df_data)\n",
    "indexed.show()"
   ]
  },
  {
   "cell_type": "code",
   "execution_count": 31,
   "id": "efd66fb1",
   "metadata": {},
   "outputs": [
    {
     "name": "stdout",
     "output_type": "stream",
     "text": [
      "+---+----------+-----------+----------+--------+---------+--------------+\n",
      "|Age|SystolicBP|DiastolicBP|bloodsugar|bodyTemp|heartRate|riskLevelIndex|\n",
      "+---+----------+-----------+----------+--------+---------+--------------+\n",
      "| 25|       130|         80|      15.0|    98.0|       86|           2.0|\n",
      "| 35|       140|         90|      13.0|    98.0|       70|           2.0|\n",
      "| 29|        90|         70|       8.0|   100.0|       80|           2.0|\n",
      "+---+----------+-----------+----------+--------+---------+--------------+\n",
      "only showing top 3 rows\n",
      "\n"
     ]
    }
   ],
   "source": [
    "indexed=indexed.select(['Age', 'SystolicBP', 'DiastolicBP', 'bloodsugar', 'bodyTemp', 'heartRate', 'riskLevelIndex'])\n",
    "indexed.show(3)"
   ]
  },
  {
   "cell_type": "code",
   "execution_count": 32,
   "id": "f8890402",
   "metadata": {},
   "outputs": [
    {
     "name": "stdout",
     "output_type": "stream",
     "text": [
      "root\n",
      " |-- Age: integer (nullable = true)\n",
      " |-- SystolicBP: integer (nullable = true)\n",
      " |-- DiastolicBP: integer (nullable = true)\n",
      " |-- bloodsugar: double (nullable = true)\n",
      " |-- bodyTemp: double (nullable = true)\n",
      " |-- heartRate: integer (nullable = true)\n",
      " |-- riskLevelIndex: double (nullable = false)\n",
      "\n",
      "None\n"
     ]
    }
   ],
   "source": [
    "df_data=indexed\n",
    "print(df_data.printSchema()) "
   ]
  },
  {
   "cell_type": "code",
   "execution_count": 33,
   "id": "ec989951",
   "metadata": {},
   "outputs": [
    {
     "name": "stdout",
     "output_type": "stream",
     "text": [
      "+---+----------+-----------+----------+--------+---------+--------------+--------------------+\n",
      "|Age|SystolicBP|DiastolicBP|bloodsugar|bodyTemp|heartRate|riskLevelIndex|            features|\n",
      "+---+----------+-----------+----------+--------+---------+--------------+--------------------+\n",
      "| 25|       130|         80|      15.0|    98.0|       86|           2.0|[25.0,130.0,80.0,...|\n",
      "| 35|       140|         90|      13.0|    98.0|       70|           2.0|[35.0,140.0,90.0,...|\n",
      "| 29|        90|         70|       8.0|   100.0|       80|           2.0|[29.0,90.0,70.0,8...|\n",
      "+---+----------+-----------+----------+--------+---------+--------------+--------------------+\n",
      "only showing top 3 rows\n",
      "\n"
     ]
    }
   ],
   "source": [
    "va = VectorAssembler(inputCols = x, outputCol='features')\n",
    "\n",
    "va_df = va.transform(indexed)\n",
    "va_df.show(3)"
   ]
  },
  {
   "cell_type": "code",
   "execution_count": 34,
   "id": "2eccbe21",
   "metadata": {},
   "outputs": [
    {
     "name": "stdout",
     "output_type": "stream",
     "text": [
      "+--------------------+--------------+\n",
      "|            features|riskLevelIndex|\n",
      "+--------------------+--------------+\n",
      "|[25.0,130.0,80.0,...|           2.0|\n",
      "|[35.0,140.0,90.0,...|           2.0|\n",
      "|[29.0,90.0,70.0,8...|           2.0|\n",
      "+--------------------+--------------+\n",
      "only showing top 3 rows\n",
      "\n"
     ]
    }
   ],
   "source": [
    "va_df = va_df.select(['features', 'riskLevelIndex'])\n",
    "va_df.show(3)"
   ]
  },
  {
   "cell_type": "code",
   "execution_count": 43,
   "id": "0bf8ba20",
   "metadata": {},
   "outputs": [
    {
     "data": {
      "text/plain": [
       "DecisionTreeClassificationModel: uid=DecisionTreeClassifier_b51b22344020, depth=5, numNodes=25, numClasses=11, numFeatures=6"
      ]
     },
     "execution_count": 43,
     "metadata": {},
     "output_type": "execute_result"
    }
   ],
   "source": [
    "DT = DecisionTreeClassifier(featuresCol=\"features\", labelCol='riskLevelIndex', seed=4)\n",
    "DT=DT.fit(va_df)\n",
    "DT"
   ]
  },
  {
   "cell_type": "code",
   "execution_count": 44,
   "id": "c78a0a55",
   "metadata": {},
   "outputs": [],
   "source": [
    "from pyspark.ml.evaluation import MulticlassClassificationEvaluator"
   ]
  },
  {
   "cell_type": "code",
   "execution_count": 45,
   "id": "12cf3c1a",
   "metadata": {},
   "outputs": [
    {
     "data": {
      "text/plain": [
       "SparseVector(6, {0: 0.0434, 1: 0.2996, 3: 0.6118, 4: 0.039, 5: 0.0062})"
      ]
     },
     "execution_count": 45,
     "metadata": {},
     "output_type": "execute_result"
    }
   ],
   "source": [
    "DT.featureImportances"
   ]
  },
  {
   "cell_type": "code",
   "execution_count": 46,
   "id": "348de894",
   "metadata": {},
   "outputs": [
    {
     "name": "stdout",
     "output_type": "stream",
     "text": [
      "+---+----------+-----------+----------+--------+---------+--------------+\n",
      "|Age|SystolicBP|DiastolicBP|bloodsugar|bodyTemp|heartRate|riskLevelIndex|\n",
      "+---+----------+-----------+----------+--------+---------+--------------+\n",
      "| 25|       130|         80|      15.0|    98.0|       86|           2.0|\n",
      "| 35|       140|         90|      13.0|    98.0|       70|           2.0|\n",
      "| 29|        90|         70|       8.0|   100.0|       80|           2.0|\n",
      "| 30|       140|         85|       7.0|    98.0|       70|           2.0|\n",
      "| 35|       120|         60|       6.1|    98.0|       76|           0.0|\n",
      "| 23|       140|         80|      7.01|    98.0|       70|           2.0|\n",
      "| 23|       130|         70|      7.01|    98.0|       78|           1.0|\n",
      "| 35|        85|         60|      11.0|   102.0|       86|           2.0|\n",
      "| 32|       120|         90|       6.9|    98.0|       70|           1.0|\n",
      "| 42|       130|         80|      18.0|    98.0|       70|           2.0|\n",
      "| 23|        90|         60|      7.01|    98.0|       76|           0.0|\n",
      "| 19|       120|         80|       7.0|    98.0|       70|           1.0|\n",
      "| 25|       110|         89|      7.01|    98.0|       77|           0.0|\n",
      "| 20|       120|         75|      7.01|   100.0|       70|           1.0|\n",
      "| 48|       120|         80|      11.0|    98.0|       88|           1.0|\n",
      "| 15|       120|         80|      7.01|    98.0|       70|           0.0|\n",
      "| 15|       110|         90|      7.02|    98.0|       70|           3.0|\n",
      "| 50|       140|         90|      15.0|    98.0|       90|           2.0|\n",
      "| 25|       140|        100|      7.01|    98.0|       80|           2.0|\n",
      "| 30|       120|         80|       6.9|   101.0|       76|           1.0|\n",
      "+---+----------+-----------+----------+--------+---------+--------------+\n",
      "only showing top 20 rows\n",
      "\n"
     ]
    }
   ],
   "source": [
    "indexed.show()"
   ]
  },
  {
   "cell_type": "code",
   "execution_count": 47,
   "id": "d34792df",
   "metadata": {},
   "outputs": [],
   "source": [
    "features_imp_pd = (\n",
    "     pd.DataFrame(\n",
    "       DT.featureImportances.toArray(), \n",
    "       index=indexed.columns[0:6], \n",
    "       columns=['importance'])\n",
    ")"
   ]
  },
  {
   "cell_type": "code",
   "execution_count": 48,
   "id": "969cbd79",
   "metadata": {},
   "outputs": [
    {
     "data": {
      "text/html": [
       "<div>\n",
       "<style scoped>\n",
       "    .dataframe tbody tr th:only-of-type {\n",
       "        vertical-align: middle;\n",
       "    }\n",
       "\n",
       "    .dataframe tbody tr th {\n",
       "        vertical-align: top;\n",
       "    }\n",
       "\n",
       "    .dataframe thead th {\n",
       "        text-align: right;\n",
       "    }\n",
       "</style>\n",
       "<table border=\"1\" class=\"dataframe\">\n",
       "  <thead>\n",
       "    <tr style=\"text-align: right;\">\n",
       "      <th></th>\n",
       "      <th>importance</th>\n",
       "    </tr>\n",
       "  </thead>\n",
       "  <tbody>\n",
       "    <tr>\n",
       "      <th>Age</th>\n",
       "      <td>0.043358</td>\n",
       "    </tr>\n",
       "    <tr>\n",
       "      <th>SystolicBP</th>\n",
       "      <td>0.299582</td>\n",
       "    </tr>\n",
       "    <tr>\n",
       "      <th>DiastolicBP</th>\n",
       "      <td>0.000000</td>\n",
       "    </tr>\n",
       "    <tr>\n",
       "      <th>bloodsugar</th>\n",
       "      <td>0.611776</td>\n",
       "    </tr>\n",
       "    <tr>\n",
       "      <th>bodyTemp</th>\n",
       "      <td>0.039046</td>\n",
       "    </tr>\n",
       "    <tr>\n",
       "      <th>heartRate</th>\n",
       "      <td>0.006239</td>\n",
       "    </tr>\n",
       "  </tbody>\n",
       "</table>\n",
       "</div>"
      ],
      "text/plain": [
       "             importance\n",
       "Age            0.043358\n",
       "SystolicBP     0.299582\n",
       "DiastolicBP    0.000000\n",
       "bloodsugar     0.611776\n",
       "bodyTemp       0.039046\n",
       "heartRate      0.006239"
      ]
     },
     "execution_count": 48,
     "metadata": {},
     "output_type": "execute_result"
    }
   ],
   "source": [
    "features_imp_pd"
   ]
  },
  {
   "cell_type": "code",
   "execution_count": 49,
   "id": "57089db5",
   "metadata": {},
   "outputs": [
    {
     "data": {
      "text/plain": [
       "<BarContainer object of 6 artists>"
      ]
     },
     "execution_count": 49,
     "metadata": {},
     "output_type": "execute_result"
    },
    {
     "data": {
      "image/png": "[encoded data removed]",
      "text/plain": [
       "<Figure size 504x288 with 1 Axes>"
      ]
     },
     "metadata": {
      "needs_background": "light"
     },
     "output_type": "display_data"
    }
   ],
   "source": [
    "# plot feature importance\n",
    "new_color = ['red', 'green', 'blue', 'purple', 'yellow', 'orange']\n",
    "plt.rcParams[\"figure.figsize\"]=(7,4)\n",
    "plt.bar(indexed.columns[0:6], DT.featureImportances.toArray(), color=new_color)"
   ]
  },
  {
   "cell_type": "code",
   "execution_count": 50,
   "id": "300d9c96",
   "metadata": {},
   "outputs": [
    {
     "data": {
      "text/html": [
       "<div>\n",
       "<style scoped>\n",
       "    .dataframe tbody tr th:only-of-type {\n",
       "        vertical-align: middle;\n",
       "    }\n",
       "\n",
       "    .dataframe tbody tr th {\n",
       "        vertical-align: top;\n",
       "    }\n",
       "\n",
       "    .dataframe thead th {\n",
       "        text-align: right;\n",
       "    }\n",
       "</style>\n",
       "<table border=\"1\" class=\"dataframe\">\n",
       "  <thead>\n",
       "    <tr style=\"text-align: right;\">\n",
       "      <th></th>\n",
       "      <th>correlation coefficient with riskLevel</th>\n",
       "    </tr>\n",
       "  </thead>\n",
       "  <tbody>\n",
       "    <tr>\n",
       "      <th>Age</th>\n",
       "      <td>0.029405</td>\n",
       "    </tr>\n",
       "    <tr>\n",
       "      <th>SystolicBP</th>\n",
       "      <td>0.336651</td>\n",
       "    </tr>\n",
       "    <tr>\n",
       "      <th>DiastolicBP</th>\n",
       "      <td>0.300648</td>\n",
       "    </tr>\n",
       "    <tr>\n",
       "      <th>bloodsugar</th>\n",
       "      <td>0.481743</td>\n",
       "    </tr>\n",
       "    <tr>\n",
       "      <th>bodyTemp</th>\n",
       "      <td>0.114231</td>\n",
       "    </tr>\n",
       "    <tr>\n",
       "      <th>heartRate</th>\n",
       "      <td>0.174703</td>\n",
       "    </tr>\n",
       "  </tbody>\n",
       "</table>\n",
       "</div>"
      ],
      "text/plain": [
       "             correlation coefficient with riskLevel\n",
       "Age                                        0.029405\n",
       "SystolicBP                                 0.336651\n",
       "DiastolicBP                                0.300648\n",
       "bloodsugar                                 0.481743\n",
       "bodyTemp                                   0.114231\n",
       "heartRate                                  0.174703"
      ]
     },
     "execution_count": 50,
     "metadata": {},
     "output_type": "execute_result"
    }
   ],
   "source": [
    "cor=[]; col=[]\n",
    "for i in range(0,6):\n",
    "    cor.append(df_data.stat.corr(df_data.columns[i], 'riskLevelIndex'))\n",
    "    col.append(df_data.columns[i])\n",
    "pd.DataFrame(cor,col, columns=['correlation coefficient with riskLevel'])"
   ]
  },
  {
   "cell_type": "code",
   "execution_count": 51,
   "id": "a4e1df52",
   "metadata": {},
   "outputs": [
    {
     "name": "stdout",
     "output_type": "stream",
     "text": [
      "+--------+----------+-----------+----------+--------+---------+---------+----------+\n",
      "|     Age|SystolicBP|DiastolicBP|bloodsugar|bodyTemp|heartRate|riskLevel|   comment|\n",
      "+--------+----------+-----------+----------+--------+---------+---------+----------+\n",
      "|      15|       110|         90|      7.02|    98.0|       70|         |no comment|\n",
      "|-9999999|       110|         65|       7.1|    96.0|       70| low risk|no comment|\n",
      "|      -1|       110|         65|       7.1|    96.0|       70| low risk|no comment|\n",
      "|     -23|       130|         70|       6.9|    98.0|       70| mid risk|no comment|\n",
      "|    1000|       110|         65|       7.1|    96.0|       70| low risk|no comment|\n",
      "|      16|       120|         75|       7.9|    98.0|        7| low risk|no comment|\n",
      "|      16|       120|         75|       7.9|    98.0|        7| low risk|no comment|\n",
      "+--------+----------+-----------+----------+--------+---------+---------+----------+\n",
      "\n"
     ]
    }
   ],
   "source": [
    "# select 'Age' <= 0 or 'Age' > 100\n",
    "data.filter((data['Age']<=0) | (data['Age']>100) | (data['riskLevel'] == \" \") | (data['heartRate']==7)).show()"
   ]
  },
  {
   "cell_type": "code",
   "execution_count": 56,
   "id": "59e3d5ef",
   "metadata": {},
   "outputs": [
    {
     "name": "stdout",
     "output_type": "stream",
     "text": [
      "+--------+\n",
      "|min(Age)|\n",
      "+--------+\n",
      "|-9999999|\n",
      "+--------+\n",
      "\n"
     ]
    }
   ],
   "source": [
    "# extreme values of the column in pyspark\n",
    "data.agg({'Age': 'min'}).show()"
   ]
  },
  {
   "cell_type": "code",
   "execution_count": 57,
   "id": "1b7cb904",
   "metadata": {},
   "outputs": [
    {
     "name": "stdout",
     "output_type": "stream",
     "text": [
      "+--------+\n",
      "|max(Age)|\n",
      "+--------+\n",
      "|    1000|\n",
      "+--------+\n",
      "\n"
     ]
    }
   ],
   "source": [
    "# extreme value\n",
    "data.agg({'Age': 'max'}).show()"
   ]
  },
  {
   "cell_type": "code",
   "execution_count": 263,
   "id": "581258a5",
   "metadata": {},
   "outputs": [
    {
     "name": "stdout",
     "output_type": "stream",
     "text": [
      "+--------------+\n",
      "|min(heartRate)|\n",
      "+--------------+\n",
      "|             7|\n",
      "+--------------+\n",
      "\n"
     ]
    }
   ],
   "source": [
    "# extreme value and count\n",
    "data.agg({'heartRate': 'min'}).show()"
   ]
  },
  {
   "cell_type": "code",
   "execution_count": 276,
   "id": "9f0bbe6c",
   "metadata": {},
   "outputs": [
    {
     "data": {
      "text/plain": [
       "2"
      ]
     },
     "execution_count": 276,
     "metadata": {},
     "output_type": "execute_result"
    }
   ],
   "source": [
    "data.filter(data['heartRate']==7).count()"
   ]
  },
  {
   "cell_type": "code",
   "execution_count": 282,
   "id": "f8df61f4",
   "metadata": {},
   "outputs": [
    {
     "data": {
      "text/plain": [
       "Text(0.5, 0, 'heartRate')"
      ]
     },
     "execution_count": 282,
     "metadata": {},
     "output_type": "execute_result"
    },
    {
     "data": {
      "image/png": "[encoded data removed]",
      "text/plain": [
       "<Figure size 504x288 with 2 Axes>"
      ]
     },
     "metadata": {
      "needs_background": "light"
     },
     "output_type": "display_data"
    }
   ],
   "source": [
    "# Convert 'Age' to an array using Numpy and plot it using pyplot. \n",
    "ag = np.array(data.select('Age').collect()); \n",
    "plt.subplot(1,2,1); plt.hist(ag); plt.xlabel('Age')\n",
    "\n",
    "hr = np.array(data.select('heartRate').collect());\n",
    "plt.subplot(1,2,2); plt.hist(hr); plt.xlabel('heartRate')"
   ]
  },
  {
   "cell_type": "code",
   "execution_count": 285,
   "id": "ebacdec1",
   "metadata": {},
   "outputs": [
    {
     "name": "stdout",
     "output_type": "stream",
     "text": [
      "+---------+-----+\n",
      "|riskLevel|count|\n",
      "+---------+-----+\n",
      "|     High|    1|\n",
      "|      Low|    1|\n",
      "| low risk|  408|\n",
      "|low risk |    1|\n",
      "| MID RISK|    1|\n",
      "|HIGH RISK|    1|\n",
      "| mid risk|  333|\n",
      "|      Mid|    1|\n",
      "|mid risk |    1|\n",
      "|high risk|  269|\n",
      "|         |    1|\n",
      "+---------+-----+\n",
      "\n"
     ]
    }
   ],
   "source": [
    "# unique classes and counts of 'riskLevel'\n",
    "rl = data.groupby(['riskLevel']).count()\n",
    "rl.show()"
   ]
  }
 ],
 "metadata": {
  "kernelspec": {
   "display_name": "Python 3 (ipykernel)",
   "language": "python",
   "name": "python3"
  },
  "language_info": {
   "codemirror_mode": {
    "name": "ipython",
    "version": 3
   },
   "file_extension": ".py",
   "mimetype": "text/x-python",
   "name": "python",
   "nbconvert_exporter": "python",
   "pygments_lexer": "ipython3",
   "version": "3.10.4"
  }
 },
 "nbformat": 4,
 "nbformat_minor": 5
}
