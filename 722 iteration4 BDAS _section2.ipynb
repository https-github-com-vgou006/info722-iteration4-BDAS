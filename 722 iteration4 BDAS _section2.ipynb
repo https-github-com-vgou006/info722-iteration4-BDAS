{
 "cells": [
  {
   "cell_type": "code",
   "execution_count": 5,
   "id": "ec0ead3b",
   "metadata": {},
   "outputs": [],
   "source": [
    "# Must be included at the beginning of each notebook. Remember to change the app name. \n",
    "import findspark\n",
    "findspark.init('/home/ubuntu/spark-3.2.1-bin-hadoop2.7')\n",
    "import pyspark\n",
    "from pyspark.sql import SparkSession\n",
    "spark = SparkSession.builder.appName('data_understanding').getOrCreate()"
   ]
  },
  {
   "cell_type": "code",
   "execution_count": 6,
   "id": "38eaaf41",
   "metadata": {},
   "outputs": [
    {
     "name": "stdout",
     "output_type": "stream",
     "text": [
      "+---+----------+-----------+----------+--------+---------+---------+----------+\n",
      "|Age|SystolicBP|DiastolicBP|bloodsugar|bodyTemp|heartRate|riskLevel|   comment|\n",
      "+---+----------+-----------+----------+--------+---------+---------+----------+\n",
      "| 25|       130|         80|      15.0|    98.0|       86|high risk|no comment|\n",
      "| 35|       140|         90|      13.0|    98.0|       70|high risk|no comment|\n",
      "| 29|        90|         70|       8.0|   100.0|       80|high risk|no comment|\n",
      "| 30|       140|         85|       7.0|    98.0|       70|high risk|no comment|\n",
      "| 35|       120|         60|       6.1|    98.0|       76| low risk|no comment|\n",
      "| 23|       140|         80|      7.01|    98.0|       70|high risk|no comment|\n",
      "| 23|       130|         70|      7.01|    98.0|       78| mid risk|no comment|\n",
      "| 35|        85|         60|      11.0|   102.0|       86|high risk|no comment|\n",
      "| 32|       120|         90|       6.9|    98.0|       70| mid risk|no comment|\n",
      "| 42|       130|         80|      18.0|    98.0|       70|high risk|no comment|\n",
      "| 23|        90|         60|      7.01|    98.0|       76| low risk|no comment|\n",
      "| 19|       120|         80|       7.0|    98.0|       70| mid risk|no comment|\n",
      "| 25|       110|         89|      7.01|    98.0|       77| low risk|no comment|\n",
      "| 20|       120|         75|      7.01|   100.0|       70| mid risk|no comment|\n",
      "| 48|       120|         80|      11.0|    98.0|       88| mid risk|no comment|\n",
      "| 15|       120|         80|      7.01|    98.0|       70| low risk|no comment|\n",
      "| 15|       110|         90|      7.02|    98.0|       70|         |no comment|\n",
      "| 50|       140|         90|      15.0|    98.0|       90|high risk|no comment|\n",
      "| 25|       140|        100|      7.01|    98.0|       80|high risk|no comment|\n",
      "| 30|       120|         80|       6.9|   101.0|       76| mid risk|no comment|\n",
      "+---+----------+-----------+----------+--------+---------+---------+----------+\n",
      "only showing top 20 rows\n",
      "\n"
     ]
    }
   ],
   "source": [
    "# Use Spark to read in the Maternal Health csv file; you can infer csv schemas.\n",
    "data = spark.read.csv(\"Maternal Health Risk Data Set.csv\", inferSchema=True, header=True)\n",
    "data.show()"
   ]
  },
  {
   "cell_type": "code",
   "execution_count": 7,
   "id": "7a56e699",
   "metadata": {},
   "outputs": [
    {
     "data": {
      "text/plain": [
       "1018"
      ]
     },
     "execution_count": 7,
     "metadata": {},
     "output_type": "execute_result"
    }
   ],
   "source": [
    "# number of rows\n",
    "data.count()"
   ]
  },
  {
   "cell_type": "code",
   "execution_count": 8,
   "id": "0075d8d5",
   "metadata": {},
   "outputs": [
    {
     "data": {
      "text/plain": [
       "8"
      ]
     },
     "execution_count": 8,
     "metadata": {},
     "output_type": "execute_result"
    }
   ],
   "source": [
    "# number of columns\n",
    "len(data.columns)"
   ]
  },
  {
   "cell_type": "code",
   "execution_count": 9,
   "id": "00a1d553",
   "metadata": {},
   "outputs": [
    {
     "name": "stdout",
     "output_type": "stream",
     "text": [
      "+-------+----------+\n",
      "|summary|   comment|\n",
      "+-------+----------+\n",
      "|  count|      1018|\n",
      "|   mean|      null|\n",
      "| stddev|      null|\n",
      "|    min|no comment|\n",
      "|    max|no comment|\n",
      "+-------+----------+\n",
      "\n"
     ]
    }
   ],
   "source": [
    "data.describe([\"comment\"]).show() "
   ]
  },
  {
   "cell_type": "code",
   "execution_count": 10,
   "id": "8ac4d992",
   "metadata": {},
   "outputs": [
    {
     "name": "stdout",
     "output_type": "stream",
     "text": [
      "+----------+\n",
      "|   comment|\n",
      "+----------+\n",
      "|no comment|\n",
      "+----------+\n",
      "\n"
     ]
    }
   ],
   "source": [
    "# unique data in 'comment' attribute\n",
    "data.select([\"comment\"]).distinct().show()"
   ]
  },
  {
   "cell_type": "code",
   "execution_count": 11,
   "id": "ab872896",
   "metadata": {},
   "outputs": [
    {
     "name": "stdout",
     "output_type": "stream",
     "text": [
      "+--------+----------+-----------+----------+--------+---------+---------+----------+\n",
      "|     Age|SystolicBP|DiastolicBP|bloodsugar|bodyTemp|heartRate|riskLevel|   comment|\n",
      "+--------+----------+-----------+----------+--------+---------+---------+----------+\n",
      "|-9999999|       110|         65|       7.1|    96.0|       70| low risk|no comment|\n",
      "|      -1|       110|         65|       7.1|    96.0|       70| low risk|no comment|\n",
      "|     -23|       130|         70|       6.9|    98.0|       70| mid risk|no comment|\n",
      "|    1000|       110|         65|       7.1|    96.0|       70| low risk|no comment|\n",
      "+--------+----------+-----------+----------+--------+---------+---------+----------+\n",
      "\n"
     ]
    }
   ],
   "source": [
    "# select 'Age' <= 0 or 'Age' > 100\n",
    "data.filter((data['Age']<=0) | (data['Age']>100)).show()"
   ]
  },
  {
   "cell_type": "code",
   "execution_count": 12,
   "id": "7c60c56b",
   "metadata": {},
   "outputs": [
    {
     "data": {
      "image/png": "[encoded data removed]",
      "text/plain": [
       "<Figure size 432x288 with 1 Axes>"
      ]
     },
     "metadata": {
      "needs_background": "light"
     },
     "output_type": "display_data"
    }
   ],
   "source": [
    "# visualise bar plot of 'SystolicBP'\n",
    "# Import the relevant Python libraries.\n",
    "import numpy as np\n",
    "import matplotlib.pyplot as plt\n",
    "%matplotlib inline\n",
    "\n",
    "# Convert 'SystolicBP' to an array using Numpy and plot it using pyplot. \n",
    "sysArr = np.array(data.select('SystolicBP').collect())\n",
    "plt.hist(sysArr)\n",
    "plt.xlabel('SystolicBP')\n",
    "plt.show()"
   ]
  },
  {
   "cell_type": "code",
   "execution_count": 13,
   "id": "d657ee50",
   "metadata": {},
   "outputs": [
    {
     "name": "stdout",
     "output_type": "stream",
     "text": [
      "+---+----------+-----------+----------+--------+---------+---------+----------+\n",
      "|Age|SystolicBP|DiastolicBP|bloodsugar|bodyTemp|heartRate|riskLevel|   comment|\n",
      "+---+----------+-----------+----------+--------+---------+---------+----------+\n",
      "| 40|       160|        100|      19.0|    98.0|       77|high risk|no comment|\n",
      "| 40|       160|        100|      19.0|    98.0|       77|high risk|no comment|\n",
      "| 40|       160|        100|      19.0|    98.0|       77|high risk|no comment|\n",
      "| 40|       160|        100|      19.0|    98.0|       77|high risk|no comment|\n",
      "| 40|       160|        100|      19.0|    98.0|       77|high risk|no comment|\n",
      "| 40|       160|        100|      19.0|    98.0|       77|high risk|no comment|\n",
      "| 40|       160|        100|      19.0|    98.0|       77|high risk|no comment|\n",
      "| 40|       160|        100|      19.0|    98.0|       77|high risk|no comment|\n",
      "| 40|       160|        100|      19.0|    98.0|       77|high risk|no comment|\n",
      "| 40|       160|        100|      19.0|    98.0|       77|high risk|no comment|\n",
      "+---+----------+-----------+----------+--------+---------+---------+----------+\n",
      "\n"
     ]
    }
   ],
   "source": [
    "# rows with 'SystolicBP'== 160\n",
    "data.filter(data['SystolicBP']==160).show()"
   ]
  },
  {
   "cell_type": "code",
   "execution_count": 14,
   "id": "f95bd66a",
   "metadata": {},
   "outputs": [
    {
     "data": {
      "image/png": "[encoded data removed]",
      "text/plain": [
       "<Figure size 432x288 with 1 Axes>"
      ]
     },
     "metadata": {
      "needs_background": "light"
     },
     "output_type": "display_data"
    }
   ],
   "source": [
    "# Convert 'DiastolicBP' to an array using Numpy and plot it using pyplot. \n",
    "dysArr = np.array(data.select('DiastolicBP').collect())\n",
    "plt.boxplot(dysArr)\n",
    "plt.xlabel('DiastolicBP')\n",
    "plt.show()"
   ]
  },
  {
   "cell_type": "code",
   "execution_count": 15,
   "id": "20da7baa",
   "metadata": {},
   "outputs": [
    {
     "name": "stderr",
     "output_type": "stream",
     "text": [
      "/home/ubuntu/.local/lib/python3.10/site-packages/seaborn/distributions.py:2619: FutureWarning: `distplot` is a deprecated function and will be removed in a future version. Please adapt your code to use either `displot` (a figure-level function with similar flexibility) or `histplot` (an axes-level function for histograms).\n",
      "  warnings.warn(msg, FutureWarning)\n"
     ]
    },
    {
     "data": {
      "text/plain": [
       "<AxesSubplot:xlabel='bloodsugar', ylabel='Density'>"
      ]
     },
     "execution_count": 15,
     "metadata": {},
     "output_type": "execute_result"
    },
    {
     "data": {
      "image/png": "[encoded data removed]",
      "text/plain": [
       "<Figure size 432x288 with 1 Axes>"
      ]
     },
     "metadata": {
      "needs_background": "light"
     },
     "output_type": "display_data"
    }
   ],
   "source": [
    "import seaborn as sns\n",
    "# Convert 'DiastolicBP' to an array using Numpy and plot it using pyplot. \n",
    "bs = np.array(data.select('bloodsugar').collect())\n",
    "sns.distplot(bs, axlabel='bloodsugar')"
   ]
  },
  {
   "cell_type": "code",
   "execution_count": 16,
   "id": "c28972d6",
   "metadata": {
    "scrolled": false
   },
   "outputs": [
    {
     "name": "stderr",
     "output_type": "stream",
     "text": [
      "/home/ubuntu/.local/lib/python3.10/site-packages/seaborn/_decorators.py:36: FutureWarning: Pass the following variable as a keyword arg: x. From version 0.12, the only valid positional argument will be `data`, and passing other arguments without an explicit keyword will result in an error or misinterpretation.\n",
      "  warnings.warn(\n"
     ]
    },
    {
     "data": {
      "text/plain": [
       "<AxesSubplot:>"
      ]
     },
     "execution_count": 16,
     "metadata": {},
     "output_type": "execute_result"
    },
    {
     "data": {
      "image/png": "[encoded data removed]",
      "text/plain": [
       "<Figure size 432x288 with 1 Axes>"
      ]
     },
     "metadata": {
      "needs_background": "light"
     },
     "output_type": "display_data"
    }
   ],
   "source": [
    "sns.boxplot(bs)"
   ]
  },
  {
   "cell_type": "code",
   "execution_count": 17,
   "id": "8ffc75ab",
   "metadata": {},
   "outputs": [
    {
     "name": "stdout",
     "output_type": "stream",
     "text": [
      "+----------+-----+\n",
      "|bloodsugar|count|\n",
      "+----------+-----+\n",
      "|       9.0|   31|\n",
      "|      10.0|    4|\n",
      "|      11.0|   52|\n",
      "|      12.0|   18|\n",
      "|      13.0|    9|\n",
      "|      15.0|   53|\n",
      "|      16.0|   17|\n",
      "|      17.0|    5|\n",
      "|      18.0|   29|\n",
      "|      19.0|   22|\n",
      "+----------+-----+\n",
      "\n"
     ]
    }
   ],
   "source": [
    "# count for the 'bloodsugar'>8\n",
    "bs_data=data.filter(data['bloodsugar']>8).groupby(['bloodsugar']).count()\n",
    "bs_data.orderBy(['bloodsugar']).show()"
   ]
  },
  {
   "cell_type": "code",
   "execution_count": 18,
   "id": "d1fdc9ec",
   "metadata": {},
   "outputs": [
    {
     "name": "stdout",
     "output_type": "stream",
     "text": [
      "+--------+-----+\n",
      "|bodyTemp|count|\n",
      "+--------+-----+\n",
      "|    96.0|    4|\n",
      "|    98.0|  804|\n",
      "|    98.4|    2|\n",
      "|    98.6|    1|\n",
      "|    99.0|   10|\n",
      "|   100.0|   20|\n",
      "|   101.0|   98|\n",
      "|   102.0|   66|\n",
      "|   103.0|   13|\n",
      "+--------+-----+\n",
      "\n"
     ]
    }
   ],
   "source": [
    "# count 'bodyTemp'\n",
    "bt_data = data.groupby(['bodyTemp']).count()\n",
    "bt_data.orderBy(['bodyTemp']).show()"
   ]
  },
  {
   "cell_type": "code",
   "execution_count": 19,
   "id": "bd13a839",
   "metadata": {},
   "outputs": [
    {
     "data": {
      "text/plain": [
       "Text(0.5, 0, 'bodyTemp')"
      ]
     },
     "execution_count": 19,
     "metadata": {},
     "output_type": "execute_result"
    },
    {
     "data": {
      "image/png": "[encoded data removed]",
      "text/plain": [
       "<Figure size 432x288 with 1 Axes>"
      ]
     },
     "metadata": {
      "needs_background": "light"
     },
     "output_type": "display_data"
    }
   ],
   "source": [
    "#import seaborn as sns\n",
    "# Convert 'bodyTemp' to an array using Numpy and plot it using pyplot. \n",
    "bt = np.array(data.select('bodyTemp').collect())\n",
    "plt.hist(bt); plt.xlabel('bodyTemp')"
   ]
  },
  {
   "cell_type": "code",
   "execution_count": 20,
   "id": "f03dab02",
   "metadata": {},
   "outputs": [
    {
     "name": "stderr",
     "output_type": "stream",
     "text": [
      "/home/ubuntu/.local/lib/python3.10/site-packages/seaborn/distributions.py:2619: FutureWarning: `distplot` is a deprecated function and will be removed in a future version. Please adapt your code to use either `displot` (a figure-level function with similar flexibility) or `histplot` (an axes-level function for histograms).\n",
      "  warnings.warn(msg, FutureWarning)\n"
     ]
    },
    {
     "data": {
      "text/plain": [
       "<AxesSubplot:xlabel='heartRate', ylabel='Density'>"
      ]
     },
     "execution_count": 20,
     "metadata": {},
     "output_type": "execute_result"
    },
    {
     "data": {
      "image/png": "[encoded data removed]",
      "text/plain": [
       "<Figure size 432x288 with 1 Axes>"
      ]
     },
     "metadata": {
      "needs_background": "light"
     },
     "output_type": "display_data"
    }
   ],
   "source": [
    "# Convert 'heartRate' to an array using Numpy and plot it using pyplot. \n",
    "hr = np.array(data.select('heartRate').collect())\n",
    "sns.distplot(hr, axlabel='heartRate')"
   ]
  },
  {
   "cell_type": "code",
   "execution_count": 21,
   "id": "dadac016",
   "metadata": {},
   "outputs": [
    {
     "data": {
      "text/plain": [
       "Text(0.5, 0, 'heartRate')"
      ]
     },
     "execution_count": 21,
     "metadata": {},
     "output_type": "execute_result"
    },
    {
     "data": {
      "image/png": "[encoded data removed]",
      "text/plain": [
       "<Figure size 432x288 with 1 Axes>"
      ]
     },
     "metadata": {
      "needs_background": "light"
     },
     "output_type": "display_data"
    }
   ],
   "source": [
    "plt.hist(hr); plt.xlabel('heartRate')"
   ]
  },
  {
   "cell_type": "code",
   "execution_count": 22,
   "id": "13c17da3",
   "metadata": {},
   "outputs": [
    {
     "name": "stdout",
     "output_type": "stream",
     "text": [
      "+---+----------+-----------+----------+--------+---------+---------+----------+\n",
      "|Age|SystolicBP|DiastolicBP|bloodsugar|bodyTemp|heartRate|riskLevel|   comment|\n",
      "+---+----------+-----------+----------+--------+---------+---------+----------+\n",
      "| 16|       120|         75|       7.9|    98.0|        7| low risk|no comment|\n",
      "| 16|       120|         75|       7.9|    98.0|        7| low risk|no comment|\n",
      "+---+----------+-----------+----------+--------+---------+---------+----------+\n",
      "\n"
     ]
    }
   ],
   "source": [
    "data.filter(data['heartRate']<20).show()"
   ]
  },
  {
   "cell_type": "code",
   "execution_count": 23,
   "id": "aec5c780",
   "metadata": {},
   "outputs": [
    {
     "name": "stdout",
     "output_type": "stream",
     "text": [
      "+---------+-----+\n",
      "|riskLevel|count|\n",
      "+---------+-----+\n",
      "|     High|    1|\n",
      "|      Low|    1|\n",
      "| low risk|  408|\n",
      "|low risk |    1|\n",
      "| MID RISK|    1|\n",
      "|HIGH RISK|    1|\n",
      "| mid risk|  333|\n",
      "|      Mid|    1|\n",
      "|mid risk |    1|\n",
      "|high risk|  269|\n",
      "|         |    1|\n",
      "+---------+-----+\n",
      "\n"
     ]
    }
   ],
   "source": [
    "rl = data.groupby(['riskLevel']).count()\n",
    "rl.show()"
   ]
  },
  {
   "cell_type": "code",
   "execution_count": 24,
   "id": "80722ebd",
   "metadata": {},
   "outputs": [
    {
     "data": {
      "text/plain": [
       "11"
      ]
     },
     "execution_count": 24,
     "metadata": {},
     "output_type": "execute_result"
    }
   ],
   "source": [
    "# count of distinct 'riskLevel'\n",
    "rl.count()"
   ]
  },
  {
   "cell_type": "code",
   "execution_count": 25,
   "id": "d0d9384f",
   "metadata": {},
   "outputs": [],
   "source": [
    "from pyspark.ml.classification import DecisionTreeClassifier\n",
    "from pyspark.ml.feature import VectorAssembler"
   ]
  },
  {
   "cell_type": "code",
   "execution_count": 26,
   "id": "e2497029",
   "metadata": {},
   "outputs": [],
   "source": [
    "x=data.columns[0:6]"
   ]
  },
  {
   "cell_type": "code",
   "execution_count": 27,
   "id": "9925fda3",
   "metadata": {},
   "outputs": [
    {
     "data": {
      "text/plain": [
       "['Age',\n",
       " 'SystolicBP',\n",
       " 'DiastolicBP',\n",
       " 'bloodsugar',\n",
       " 'bodyTemp',\n",
       " 'heartRate',\n",
       " 'riskLevel']"
      ]
     },
     "execution_count": 27,
     "metadata": {},
     "output_type": "execute_result"
    }
   ],
   "source": [
    "import pandas as pd\n",
    "data.columns[0:7]"
   ]
  },
  {
   "cell_type": "code",
   "execution_count": 28,
   "id": "d41e25e9",
   "metadata": {},
   "outputs": [
    {
     "name": "stdout",
     "output_type": "stream",
     "text": [
      "+---+----------+-----------+----------+--------+---------+---------+\n",
      "|Age|SystolicBP|DiastolicBP|bloodsugar|bodyTemp|heartRate|riskLevel|\n",
      "+---+----------+-----------+----------+--------+---------+---------+\n",
      "| 25|       130|         80|      15.0|    98.0|       86|high risk|\n",
      "| 35|       140|         90|      13.0|    98.0|       70|high risk|\n",
      "| 29|        90|         70|       8.0|   100.0|       80|high risk|\n",
      "| 30|       140|         85|       7.0|    98.0|       70|high risk|\n",
      "| 35|       120|         60|       6.1|    98.0|       76| low risk|\n",
      "| 23|       140|         80|      7.01|    98.0|       70|high risk|\n",
      "| 23|       130|         70|      7.01|    98.0|       78| mid risk|\n",
      "| 35|        85|         60|      11.0|   102.0|       86|high risk|\n",
      "| 32|       120|         90|       6.9|    98.0|       70| mid risk|\n",
      "| 42|       130|         80|      18.0|    98.0|       70|high risk|\n",
      "| 23|        90|         60|      7.01|    98.0|       76| low risk|\n",
      "| 19|       120|         80|       7.0|    98.0|       70| mid risk|\n",
      "| 25|       110|         89|      7.01|    98.0|       77| low risk|\n",
      "| 20|       120|         75|      7.01|   100.0|       70| mid risk|\n",
      "| 48|       120|         80|      11.0|    98.0|       88| mid risk|\n",
      "| 15|       120|         80|      7.01|    98.0|       70| low risk|\n",
      "| 15|       110|         90|      7.02|    98.0|       70|         |\n",
      "| 50|       140|         90|      15.0|    98.0|       90|high risk|\n",
      "| 25|       140|        100|      7.01|    98.0|       80|high risk|\n",
      "| 30|       120|         80|       6.9|   101.0|       76| mid risk|\n",
      "+---+----------+-----------+----------+--------+---------+---------+\n",
      "only showing top 20 rows\n",
      "\n"
     ]
    }
   ],
   "source": [
    "df_data=data.select(data.columns[0:7])\n",
    "df_data.show()"
   ]
  },
  {
   "cell_type": "code",
   "execution_count": 29,
   "id": "803b78a6",
   "metadata": {},
   "outputs": [
    {
     "name": "stdout",
     "output_type": "stream",
     "text": [
      "+---+----------+-----------+----------+--------+---------+---------+\n",
      "|Age|SystolicBP|DiastolicBP|bloodsugar|bodyTemp|heartRate|riskLevel|\n",
      "+---+----------+-----------+----------+--------+---------+---------+\n",
      "| 25|       130|         80|      15.0|    98.0|       86|high risk|\n",
      "| 35|       140|         90|      13.0|    98.0|       70|high risk|\n",
      "| 29|        90|         70|       8.0|   100.0|       80|high risk|\n",
      "+---+----------+-----------+----------+--------+---------+---------+\n",
      "only showing top 3 rows\n",
      "\n"
     ]
    }
   ],
   "source": [
    "df_data=data.select(data.columns[0:7])\n",
    "df_data.show(3)"
   ]
  },
  {
   "cell_type": "code",
   "execution_count": 30,
   "id": "cec01c35",
   "metadata": {},
   "outputs": [
    {
     "name": "stderr",
     "output_type": "stream",
     "text": [
      "                                                                                \r"
     ]
    },
    {
     "name": "stdout",
     "output_type": "stream",
     "text": [
      "+---+----------+-----------+----------+--------+---------+---------+--------------+\n",
      "|Age|SystolicBP|DiastolicBP|bloodsugar|bodyTemp|heartRate|riskLevel|riskLevelIndex|\n",
      "+---+----------+-----------+----------+--------+---------+---------+--------------+\n",
      "| 25|       130|         80|      15.0|    98.0|       86|high risk|           2.0|\n",
      "| 35|       140|         90|      13.0|    98.0|       70|high risk|           2.0|\n",
      "| 29|        90|         70|       8.0|   100.0|       80|high risk|           2.0|\n",
      "| 30|       140|         85|       7.0|    98.0|       70|high risk|           2.0|\n",
      "| 35|       120|         60|       6.1|    98.0|       76| low risk|           0.0|\n",
      "| 23|       140|         80|      7.01|    98.0|       70|high risk|           2.0|\n",
      "| 23|       130|         70|      7.01|    98.0|       78| mid risk|           1.0|\n",
      "| 35|        85|         60|      11.0|   102.0|       86|high risk|           2.0|\n",
      "| 32|       120|         90|       6.9|    98.0|       70| mid risk|           1.0|\n",
      "| 42|       130|         80|      18.0|    98.0|       70|high risk|           2.0|\n",
      "| 23|        90|         60|      7.01|    98.0|       76| low risk|           0.0|\n",
      "| 19|       120|         80|       7.0|    98.0|       70| mid risk|           1.0|\n",
      "| 25|       110|         89|      7.01|    98.0|       77| low risk|           0.0|\n",
      "| 20|       120|         75|      7.01|   100.0|       70| mid risk|           1.0|\n",
      "| 48|       120|         80|      11.0|    98.0|       88| mid risk|           1.0|\n",
      "| 15|       120|         80|      7.01|    98.0|       70| low risk|           0.0|\n",
      "| 15|       110|         90|      7.02|    98.0|       70|         |           3.0|\n",
      "| 50|       140|         90|      15.0|    98.0|       90|high risk|           2.0|\n",
      "| 25|       140|        100|      7.01|    98.0|       80|high risk|           2.0|\n",
      "| 30|       120|         80|       6.9|   101.0|       76| mid risk|           1.0|\n",
      "+---+----------+-----------+----------+--------+---------+---------+--------------+\n",
      "only showing top 20 rows\n",
      "\n"
     ]
    }
   ],
   "source": [
    "from pyspark.ml.feature import StringIndexer\n",
    "indexer = StringIndexer(inputCol=\"riskLevel\", outputCol=\"riskLevelIndex\")\n",
    "indexed = indexer.fit(df_data).transform(df_data)\n",
    "indexed.show()"
   ]
  },
  {
   "cell_type": "code",
   "execution_count": 31,
   "id": "efd66fb1",
   "metadata": {},
   "outputs": [
    {
     "name": "stdout",
     "output_type": "stream",
     "text": [
      "+---+----------+-----------+----------+--------+---------+--------------+\n",
      "|Age|SystolicBP|DiastolicBP|bloodsugar|bodyTemp|heartRate|riskLevelIndex|\n",
      "+---+----------+-----------+----------+--------+---------+--------------+\n",
      "| 25|       130|         80|      15.0|    98.0|       86|           2.0|\n",
      "| 35|       140|         90|      13.0|    98.0|       70|           2.0|\n",
      "| 29|        90|         70|       8.0|   100.0|       80|           2.0|\n",
      "+---+----------+-----------+----------+--------+---------+--------------+\n",
      "only showing top 3 rows\n",
      "\n"
     ]
    }
   ],
   "source": [
    "indexed=indexed.select(['Age', 'SystolicBP', 'DiastolicBP', 'bloodsugar', 'bodyTemp', 'heartRate', 'riskLevelIndex'])\n",
    "indexed.show(3)"
   ]
  },
  {
   "cell_type": "code",
   "execution_count": 32,
   "id": "f8890402",
   "metadata": {},
   "outputs": [
    {
     "name": "stdout",
     "output_type": "stream",
     "text": [
      "root\n",
      " |-- Age: integer (nullable = true)\n",
      " |-- SystolicBP: integer (nullable = true)\n",
      " |-- DiastolicBP: integer (nullable = true)\n",
      " |-- bloodsugar: double (nullable = true)\n",
      " |-- bodyTemp: double (nullable = true)\n",
      " |-- heartRate: integer (nullable = true)\n",
      " |-- riskLevelIndex: double (nullable = false)\n",
      "\n",
      "None\n"
     ]
    }
   ],
   "source": [
    "df_data=indexed\n",
    "print(df_data.printSchema()) "
   ]
  },
  {
   "cell_type": "code",
   "execution_count": 33,
   "id": "ec989951",
   "metadata": {},
   "outputs": [
    {
     "name": "stdout",
     "output_type": "stream",
     "text": [
      "+---+----------+-----------+----------+--------+---------+--------------+--------------------+\n",
      "|Age|SystolicBP|DiastolicBP|bloodsugar|bodyTemp|heartRate|riskLevelIndex|            features|\n",
      "+---+----------+-----------+----------+--------+---------+--------------+--------------------+\n",
      "| 25|       130|         80|      15.0|    98.0|       86|           2.0|[25.0,130.0,80.0,...|\n",
      "| 35|       140|         90|      13.0|    98.0|       70|           2.0|[35.0,140.0,90.0,...|\n",
      "| 29|        90|         70|       8.0|   100.0|       80|           2.0|[29.0,90.0,70.0,8...|\n",
      "+---+----------+-----------+----------+--------+---------+--------------+--------------------+\n",
      "only showing top 3 rows\n",
      "\n"
     ]
    }
   ],
   "source": [
    "va = VectorAssembler(inputCols = x, outputCol='features')\n",
    "\n",
    "va_df = va.transform(indexed)\n",
    "va_df.show(3)"
   ]
  },
  {
   "cell_type": "code",
   "execution_count": 34,
   "id": "2eccbe21",
   "metadata": {},
   "outputs": [
    {
     "name": "stdout",
     "output_type": "stream",
     "text": [
      "+--------------------+--------------+\n",
      "|            features|riskLevelIndex|\n",
      "+--------------------+--------------+\n",
      "|[25.0,130.0,80.0,...|           2.0|\n",
      "|[35.0,140.0,90.0,...|           2.0|\n",
      "|[29.0,90.0,70.0,8...|           2.0|\n",
      "+--------------------+--------------+\n",
      "only showing top 3 rows\n",
      "\n"
     ]
    }
   ],
   "source": [
    "va_df = va_df.select(['features', 'riskLevelIndex'])\n",
    "va_df.show(3)"
   ]
  },
  {
   "cell_type": "code",
   "execution_count": 43,
   "id": "0bf8ba20",
   "metadata": {},
   "outputs": [
    {
     "data": {
      "text/plain": [
       "DecisionTreeClassificationModel: uid=DecisionTreeClassifier_b51b22344020, depth=5, numNodes=25, numClasses=11, numFeatures=6"
      ]
     },
     "execution_count": 43,
     "metadata": {},
     "output_type": "execute_result"
    }
   ],
   "source": [
    "DT = DecisionTreeClassifier(featuresCol=\"features\", labelCol='riskLevelIndex', seed=4)\n",
    "DT=DT.fit(va_df)\n",
    "DT"
   ]
  },
  {
   "cell_type": "code",
   "execution_count": 44,
   "id": "c78a0a55",
   "metadata": {},
   "outputs": [],
   "source": [
    "from pyspark.ml.evaluation import MulticlassClassificationEvaluator"
   ]
  },
  {
   "cell_type": "code",
   "execution_count": 45,
   "id": "12cf3c1a",
   "metadata": {},
   "outputs": [
    {
     "data": {
      "text/plain": [
       "SparseVector(6, {0: 0.0434, 1: 0.2996, 3: 0.6118, 4: 0.039, 5: 0.0062})"
      ]
     },
     "execution_count": 45,
     "metadata": {},
     "output_type": "execute_result"
    }
   ],
   "source": [
    "DT.featureImportances"
   ]
  },
  {
   "cell_type": "code",
   "execution_count": 46,
   "id": "348de894",
   "metadata": {},
   "outputs": [
    {
     "name": "stdout",
     "output_type": "stream",
     "text": [
      "+---+----------+-----------+----------+--------+---------+--------------+\n",
      "|Age|SystolicBP|DiastolicBP|bloodsugar|bodyTemp|heartRate|riskLevelIndex|\n",
      "+---+----------+-----------+----------+--------+---------+--------------+\n",
      "| 25|       130|         80|      15.0|    98.0|       86|           2.0|\n",
      "| 35|       140|         90|      13.0|    98.0|       70|           2.0|\n",
      "| 29|        90|         70|       8.0|   100.0|       80|           2.0|\n",
      "| 30|       140|         85|       7.0|    98.0|       70|           2.0|\n",
      "| 35|       120|         60|       6.1|    98.0|       76|           0.0|\n",
      "| 23|       140|         80|      7.01|    98.0|       70|           2.0|\n",
      "| 23|       130|         70|      7.01|    98.0|       78|           1.0|\n",
      "| 35|        85|         60|      11.0|   102.0|       86|           2.0|\n",
      "| 32|       120|         90|       6.9|    98.0|       70|           1.0|\n",
      "| 42|       130|         80|      18.0|    98.0|       70|           2.0|\n",
      "| 23|        90|         60|      7.01|    98.0|       76|           0.0|\n",
      "| 19|       120|         80|       7.0|    98.0|       70|           1.0|\n",
      "| 25|       110|         89|      7.01|    98.0|       77|           0.0|\n",
      "| 20|       120|         75|      7.01|   100.0|       70|           1.0|\n",
      "| 48|       120|         80|      11.0|    98.0|       88|           1.0|\n",
      "| 15|       120|         80|      7.01|    98.0|       70|           0.0|\n",
      "| 15|       110|         90|      7.02|    98.0|       70|           3.0|\n",
      "| 50|       140|         90|      15.0|    98.0|       90|           2.0|\n",
      "| 25|       140|        100|      7.01|    98.0|       80|           2.0|\n",
      "| 30|       120|         80|       6.9|   101.0|       76|           1.0|\n",
      "+---+----------+-----------+----------+--------+---------+--------------+\n",
      "only showing top 20 rows\n",
      "\n"
     ]
    }
   ],
   "source": [
    "indexed.show()"
   ]
  },
  {
   "cell_type": "code",
   "execution_count": 47,
   "id": "d34792df",
   "metadata": {},
   "outputs": [],
   "source": [
    "features_imp_pd = (\n",
    "     pd.DataFrame(\n",
    "       DT.featureImportances.toArray(), \n",
    "       index=indexed.columns[0:6], \n",
    "       columns=['importance'])\n",
    ")"
   ]
  },
  {
   "cell_type": "code",
   "execution_count": 48,
   "id": "969cbd79",
   "metadata": {},
   "outputs": [
    {
     "data": {
      "text/html": [
       "<div>\n",
       "<style scoped>\n",
       "    .dataframe tbody tr th:only-of-type {\n",
       "        vertical-align: middle;\n",
       "    }\n",
       "\n",
       "    .dataframe tbody tr th {\n",
       "        vertical-align: top;\n",
       "    }\n",
       "\n",
       "    .dataframe thead th {\n",
       "        text-align: right;\n",
       "    }\n",
       "</style>\n",
       "<table border=\"1\" class=\"dataframe\">\n",
       "  <thead>\n",
       "    <tr style=\"text-align: right;\">\n",
       "      <th></th>\n",
       "      <th>importance</th>\n",
       "    </tr>\n",
       "  </thead>\n",
       "  <tbody>\n",
       "    <tr>\n",
       "      <th>Age</th>\n",
       "      <td>0.043358</td>\n",
       "    </tr>\n",
       "    <tr>\n",
       "      <th>SystolicBP</th>\n",
       "      <td>0.299582</td>\n",
       "    </tr>\n",
       "    <tr>\n",
       "      <th>DiastolicBP</th>\n",
       "      <td>0.000000</td>\n",
       "    </tr>\n",
       "    <tr>\n",
       "      <th>bloodsugar</th>\n",
       "      <td>0.611776</td>\n",
       "    </tr>\n",
       "    <tr>\n",
       "      <th>bodyTemp</th>\n",
       "      <td>0.039046</td>\n",
       "    </tr>\n",
       "    <tr>\n",
       "      <th>heartRate</th>\n",
       "      <td>0.006239</td>\n",
       "    </tr>\n",
       "  </tbody>\n",
       "</table>\n",
       "</div>"
      ],
      "text/plain": [
       "             importance\n",
       "Age            0.043358\n",
       "SystolicBP     0.299582\n",
       "DiastolicBP    0.000000\n",
       "bloodsugar     0.611776\n",
       "bodyTemp       0.039046\n",
       "heartRate      0.006239"
      ]
     },
     "execution_count": 48,
     "metadata": {},
     "output_type": "execute_result"
    }
   ],
   "source": [
    "features_imp_pd"
   ]
  },
  {
   "cell_type": "code",
   "execution_count": 49,
   "id": "57089db5",
   "metadata": {},
   "outputs": [
    {
     "data": {
      "text/plain": [
       "<BarContainer object of 6 artists>"
      ]
     },
     "execution_count": 49,
     "metadata": {},
     "output_type": "execute_result"
    },
    {
     "data": {
      "image/png": "[encoded data removed]",
      "text/plain": [
       "<Figure size 504x288 with 1 Axes>"
      ]
     },
     "metadata": {
      "needs_background": "light"
     },
     "output_type": "display_data"
    }
   ],
   "source": [
    "# plot feature importance\n",
    "new_color = ['red', 'green', 'blue', 'purple', 'yellow', 'orange']\n",
    "plt.rcParams[\"figure.figsize\"]=(7,4)\n",
    "plt.bar(indexed.columns[0:6], DT.featureImportances.toArray(), color=new_color)"
   ]
  },
  {
   "cell_type": "code",
   "execution_count": 50,
   "id": "300d9c96",
   "metadata": {},
   "outputs": [
    {
     "data": {
      "text/html": [
       "<div>\n",
       "<style scoped>\n",
       "    .dataframe tbody tr th:only-of-type {\n",
       "        vertical-align: middle;\n",
       "    }\n",
       "\n",
       "    .dataframe tbody tr th {\n",
       "        vertical-align: top;\n",
       "    }\n",
       "\n",
       "    .dataframe thead th {\n",
       "        text-align: right;\n",
       "    }\n",
       "</style>\n",
       "<table border=\"1\" class=\"dataframe\">\n",
       "  <thead>\n",
       "    <tr style=\"text-align: right;\">\n",
       "      <th></th>\n",
       "      <th>correlation coefficient with riskLevel</th>\n",
       "    </tr>\n",
       "  </thead>\n",
       "  <tbody>\n",
       "    <tr>\n",
       "      <th>Age</th>\n",
       "      <td>0.029405</td>\n",
       "    </tr>\n",
       "    <tr>\n",
       "      <th>SystolicBP</th>\n",
       "      <td>0.336651</td>\n",
       "    </tr>\n",
       "    <tr>\n",
       "      <th>DiastolicBP</th>\n",
       "      <td>0.300648</td>\n",
       "    </tr>\n",
       "    <tr>\n",
       "      <th>bloodsugar</th>\n",
       "      <td>0.481743</td>\n",
       "    </tr>\n",
       "    <tr>\n",
       "      <th>bodyTemp</th>\n",
       "      <td>0.114231</td>\n",
       "    </tr>\n",
       "    <tr>\n",
       "      <th>heartRate</th>\n",
       "      <td>0.174703</td>\n",
       "    </tr>\n",
       "  </tbody>\n",
       "</table>\n",
       "</div>"
      ],
      "text/plain": [
       "             correlation coefficient with riskLevel\n",
       "Age                                        0.029405\n",
       "SystolicBP                                 0.336651\n",
       "DiastolicBP                                0.300648\n",
       "bloodsugar                                 0.481743\n",
       "bodyTemp                                   0.114231\n",
       "heartRate                                  0.174703"
      ]
     },
     "execution_count": 50,
     "metadata": {},
     "output_type": "execute_result"
    }
   ],
   "source": [
    "cor=[]; col=[]\n",
    "for i in range(0,6):\n",
    "    cor.append(df_data.stat.corr(df_data.columns[i], 'riskLevelIndex'))\n",
    "    col.append(df_data.columns[i])\n",
    "pd.DataFrame(cor,col, columns=['correlation coefficient with riskLevel'])"
   ]
  },
  {
   "cell_type": "code",
   "execution_count": 51,
   "id": "a4e1df52",
   "metadata": {},
   "outputs": [
    {
     "name": "stdout",
     "output_type": "stream",
     "text": [
      "+--------+----------+-----------+----------+--------+---------+---------+----------+\n",
      "|     Age|SystolicBP|DiastolicBP|bloodsugar|bodyTemp|heartRate|riskLevel|   comment|\n",
      "+--------+----------+-----------+----------+--------+---------+---------+----------+\n",
      "|      15|       110|         90|      7.02|    98.0|       70|         |no comment|\n",
      "|-9999999|       110|         65|       7.1|    96.0|       70| low risk|no comment|\n",
      "|      -1|       110|         65|       7.1|    96.0|       70| low risk|no comment|\n",
      "|     -23|       130|         70|       6.9|    98.0|       70| mid risk|no comment|\n",
      "|    1000|       110|         65|       7.1|    96.0|       70| low risk|no comment|\n",
      "|      16|       120|         75|       7.9|    98.0|        7| low risk|no comment|\n",
      "|      16|       120|         75|       7.9|    98.0|        7| low risk|no comment|\n",
      "+--------+----------+-----------+----------+--------+---------+---------+----------+\n",
      "\n"
     ]
    }
   ],
   "source": [
    "# select 'Age' <= 0 or 'Age' > 100\n",
    "data.filter((data['Age']<=0) | (data['Age']>100) | (data['riskLevel'] == \" \") | (data['heartRate']==7)).show()"
   ]
  },
  {
   "cell_type": "code",
   "execution_count": 56,
   "id": "59e3d5ef",
   "metadata": {},
   "outputs": [
    {
     "name": "stdout",
     "output_type": "stream",
     "text": [
      "+--------+\n",
      "|min(Age)|\n",
      "+--------+\n",
      "|-9999999|\n",
      "+--------+\n",
      "\n"
     ]
    }
   ],
   "source": [
    "# extreme values of the column in pyspark\n",
    "data.agg({'Age': 'min'}).show()"
   ]
  },
  {
   "cell_type": "code",
   "execution_count": 57,
   "id": "1b7cb904",
   "metadata": {},
   "outputs": [
    {
     "name": "stdout",
     "output_type": "stream",
     "text": [
      "+--------+\n",
      "|max(Age)|\n",
      "+--------+\n",
      "|    1000|\n",
      "+--------+\n",
      "\n"
     ]
    }
   ],
   "source": [
    "# extreme value\n",
    "data.agg({'Age': 'max'}).show()"
   ]
  },
  {
   "cell_type": "code",
   "execution_count": 263,
   "id": "581258a5",
   "metadata": {},
   "outputs": [
    {
     "name": "stdout",
     "output_type": "stream",
     "text": [
      "+--------------+\n",
      "|min(heartRate)|\n",
      "+--------------+\n",
      "|             7|\n",
      "+--------------+\n",
      "\n"
     ]
    }
   ],
   "source": [
    "# extreme value and count\n",
    "data.agg({'heartRate': 'min'}).show()"
   ]
  },
  {
   "cell_type": "code",
   "execution_count": 276,
   "id": "9f0bbe6c",
   "metadata": {},
   "outputs": [
    {
     "data": {
      "text/plain": [
       "2"
      ]
     },
     "execution_count": 276,
     "metadata": {},
     "output_type": "execute_result"
    }
   ],
   "source": [
    "data.filter(data['heartRate']==7).count()"
   ]
  },
  {
   "cell_type": "code",
   "execution_count": 282,
   "id": "f8df61f4",
   "metadata": {},
   "outputs": [
    {
     "data": {
      "text/plain": [
       "Text(0.5, 0, 'heartRate')"
      ]
     },
     "execution_count": 282,
     "metadata": {},
     "output_type": "execute_result"
    },
    {
     "data": {
      "image/png": "[encoded data removed]",
      "text/plain": [
       "<Figure size 504x288 with 2 Axes>"
      ]
     },
     "metadata": {
      "needs_background": "light"
     },
     "output_type": "display_data"
    }
   ],
   "source": [
    "# Convert 'Age' to an array using Numpy and plot it using pyplot. \n",
    "ag = np.array(data.select('Age').collect()); \n",
    "plt.subplot(1,2,1); plt.hist(ag); plt.xlabel('Age')\n",
    "\n",
    "hr = np.array(data.select('heartRate').collect());\n",
    "plt.subplot(1,2,2); plt.hist(hr); plt.xlabel('heartRate')"
   ]
  },
  {
   "cell_type": "code",
   "execution_count": 285,
   "id": "ebacdec1",
   "metadata": {},
   "outputs": [
    {
     "name": "stdout",
     "output_type": "stream",
     "text": [
      "+---------+-----+\n",
      "|riskLevel|count|\n",
      "+---------+-----+\n",
      "|     High|    1|\n",
      "|      Low|    1|\n",
      "| low risk|  408|\n",
      "|low risk |    1|\n",
      "| MID RISK|    1|\n",
      "|HIGH RISK|    1|\n",
      "| mid risk|  333|\n",
      "|      Mid|    1|\n",
      "|mid risk |    1|\n",
      "|high risk|  269|\n",
      "|         |    1|\n",
      "+---------+-----+\n",
      "\n"
     ]
    }
   ],
   "source": [
    "# unique classes and counts of 'riskLevel'\n",
    "rl = data.groupby(['riskLevel']).count()\n",
    "rl.show()"
   ]
  }
 ],
 "metadata": {
  "kernelspec": {
   "display_name": "Python 3 (ipykernel)",
   "language": "python",
   "name": "python3"
  },
  "language_info": {
   "codemirror_mode": {
    "name": "ipython",
    "version": 3
   },
   "file_extension": ".py",
   "mimetype": "text/x-python",
   "name": "python",
   "nbconvert_exporter": "python",
   "pygments_lexer": "ipython3",
   "version": "3.10.4"
  }
 },
 "nbformat": 4,
 "nbformat_minor": 5
}
